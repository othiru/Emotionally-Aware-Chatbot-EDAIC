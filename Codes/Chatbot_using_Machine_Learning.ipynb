{
  "nbformat": 4,
  "nbformat_minor": 0,
  "metadata": {
    "colab": {
      "name": "Chatbot using Machine Learning.ipynb",
      "provenance": [],
      "collapsed_sections": []
    },
    "kernelspec": {
      "display_name": "Python 3",
      "language": "python",
      "name": "python3"
    },
    "language_info": {
      "codemirror_mode": {
        "name": "ipython",
        "version": 3
      },
      "file_extension": ".py",
      "mimetype": "text/x-python",
      "name": "python",
      "nbconvert_exporter": "python",
      "pygments_lexer": "ipython3",
      "version": "3.8.5"
    }
  },
  "cells": [
    {
      "cell_type": "markdown",
      "metadata": {
        "id": "8v_TMweECBqx"
      },
      "source": [
        "# Chatbot Reply Generation Model\n",
        "A chatbot is a software application that uses Artificial Intelligence and generates human-like conversations. The name of our chatbot is EDAIC\n",
        "\n",
        "**Course No:** CSE4250\n",
        "\n",
        "**Course Name:** Project & Thesis II\n",
        "\n",
        "**Supervisor**\n",
        "\n",
        "\n",
        "*   Md Khairul Hasan\n",
        "\n",
        "\n",
        "\n",
        "**Team Members**\n",
        "\n",
        "*   160204107 - Nowshin Rumali\n",
        "*   170104061 - Amin Ahmed Toshib\n",
        "*   170104116 - Rejone-E-Rasul Hridoy\n",
        "*   170104118 - Mehedi Hasan Sami\n",
        "\n",
        "\n"
      ]
    },
    {
      "cell_type": "code",
      "metadata": {
        "id": "X04yDzxo5l6U",
        "colab": {
          "base_uri": "https://localhost:8080/"
        },
        "outputId": "e09eaf68-f964-4034-e3a4-81871191a415"
      },
      "source": [
        "# Basic Libraries\n",
        "import pandas as pd\n",
        "import numpy as np\n",
        "\n",
        "# Visualization libraries\n",
        "import seaborn as sns\n",
        "import matplotlib.pyplot as plt\n",
        "\n",
        "# Text Libraries\n",
        "import nltk \n",
        "import string\n",
        "import re\n",
        "\n",
        "# Feature Extraction Libraries\n",
        "from sklearn.feature_extraction.text import CountVectorizer\n",
        "from sklearn.feature_extraction.text import TfidfVectorizer\n",
        "from sklearn.feature_extraction.text import TfidfTransformer\n",
        "from sklearn.model_selection import train_test_split\n",
        "\n",
        "# Classifier Model libraries\n",
        "from sklearn.linear_model import SGDClassifier\n",
        "from sklearn.ensemble import RandomForestClassifier\n",
        "from xgboost import XGBClassifier\n",
        "import xgboost as xgb\n",
        "from sklearn.linear_model import LogisticRegression\n",
        "from sklearn.naive_bayes import MultinomialNB\n",
        "from sklearn import tree\n",
        "from sklearn.neural_network import MLPClassifier\n",
        "\n",
        "# Performance Matrix libraries\n",
        "from sklearn.metrics import accuracy_score\n",
        "from sklearn.metrics import precision_score\n",
        "from sklearn.metrics import recall_score\n",
        "from sklearn.metrics import confusion_matrix\n",
        "from sklearn.metrics import f1_score\n",
        "from sklearn.metrics import classification_report\n",
        "from sklearn.metrics import ConfusionMatrixDisplay\n",
        "\n",
        "# other\n",
        "import pickle\n",
        "import os\n",
        "import warnings\n",
        "warnings.filterwarnings(\"ignore\")\n",
        "\n",
        "root_path = \"/content/drive/MyDrive/CSE/4.1/CSE4100 - Project & Thesis-I/Emotion Detection Chatbot Papers/4.2/\"\n",
        "resource_root_path = \"/content/drive/MyDrive/CSE/4.2/CSE4238 - Soft Computing Lab/Project - Emotion Detection from Twitter Text/\"\n",
        "\n",
        "# Drive Mount\n",
        "from google.colab import drive\n",
        "drive.mount('/content/drive')"
      ],
      "execution_count": null,
      "outputs": [
        {
          "output_type": "stream",
          "name": "stdout",
          "text": [
            "Mounted at /content/drive\n"
          ]
        }
      ]
    },
    {
      "cell_type": "markdown",
      "metadata": {
        "id": "9aCu2ZGa5l6o"
      },
      "source": [
        "# 1. Dataset"
      ]
    },
    {
      "cell_type": "code",
      "metadata": {
        "colab": {
          "base_uri": "https://localhost:8080/",
          "height": 424
        },
        "id": "5BlipRxL5l6z",
        "outputId": "26c773ba-6f50-44f1-ed4a-9b429cd45710"
      },
      "source": [
        "# df = pd.read_csv('/content/drive/MyDrive/CSE/4.2/CSE4214 - Pattern Recognition Lab/Project/text_emotions.csv')\n",
        "df = pd.read_csv(root_path+'Chatbot Dataset_v12.11.csv',encoding='ISO-8859-1')\n",
        "df = df.dropna(axis=0)\n",
        "df"
      ],
      "execution_count": null,
      "outputs": [
        {
          "output_type": "execute_result",
          "data": {
            "text/html": [
              "\n",
              "  <div id=\"df-429ea29d-7e53-40e1-954f-bd0e76e52065\">\n",
              "    <div class=\"colab-df-container\">\n",
              "      <div>\n",
              "<style scoped>\n",
              "    .dataframe tbody tr th:only-of-type {\n",
              "        vertical-align: middle;\n",
              "    }\n",
              "\n",
              "    .dataframe tbody tr th {\n",
              "        vertical-align: top;\n",
              "    }\n",
              "\n",
              "    .dataframe thead th {\n",
              "        text-align: right;\n",
              "    }\n",
              "</style>\n",
              "<table border=\"1\" class=\"dataframe\">\n",
              "  <thead>\n",
              "    <tr style=\"text-align: right;\">\n",
              "      <th></th>\n",
              "      <th>User</th>\n",
              "      <th>Chatbot</th>\n",
              "      <th>Intent</th>\n",
              "    </tr>\n",
              "  </thead>\n",
              "  <tbody>\n",
              "    <tr>\n",
              "      <th>1</th>\n",
              "      <td>Hello</td>\n",
              "      <td>Hi &lt;HUMAN&gt; how are you?</td>\n",
              "      <td>Greeting</td>\n",
              "    </tr>\n",
              "    <tr>\n",
              "      <th>2</th>\n",
              "      <td>Hi</td>\n",
              "      <td>Hello &lt;HUMAN&gt; how are you?</td>\n",
              "      <td>Greeting</td>\n",
              "    </tr>\n",
              "    <tr>\n",
              "      <th>3</th>\n",
              "      <td>Hola</td>\n",
              "      <td>Hi &lt;HUMAN&gt; how are you?</td>\n",
              "      <td>Greeting</td>\n",
              "    </tr>\n",
              "    <tr>\n",
              "      <th>4</th>\n",
              "      <td>Hi there</td>\n",
              "      <td>Hi &lt;HUMAN&gt; how are you?</td>\n",
              "      <td>Greeting</td>\n",
              "    </tr>\n",
              "    <tr>\n",
              "      <th>5</th>\n",
              "      <td>Hya there</td>\n",
              "      <td>Hi &lt;HUMAN&gt; how are you?</td>\n",
              "      <td>Greeting</td>\n",
              "    </tr>\n",
              "    <tr>\n",
              "      <th>...</th>\n",
              "      <td>...</td>\n",
              "      <td>...</td>\n",
              "      <td>...</td>\n",
              "    </tr>\n",
              "    <tr>\n",
              "      <th>2363</th>\n",
              "      <td>Today I meditated for 30 minutes and I feel am...</td>\n",
              "      <td>I am glad you felt better after meditating</td>\n",
              "      <td>Surprise_Amazed</td>\n",
              "    </tr>\n",
              "    <tr>\n",
              "      <th>2364</th>\n",
              "      <td>I broke my foot</td>\n",
              "      <td>I am sorry to hear your foot broke</td>\n",
              "      <td>Health</td>\n",
              "    </tr>\n",
              "    <tr>\n",
              "      <th>2365</th>\n",
              "      <td>I broke my foot</td>\n",
              "      <td>I am sorry to hear you broke your foot</td>\n",
              "      <td>Health</td>\n",
              "    </tr>\n",
              "    <tr>\n",
              "      <th>2366</th>\n",
              "      <td>My boss gave me priase in front of the group a...</td>\n",
              "      <td>I am glad your work was praised</td>\n",
              "      <td>Happy_Excited_Joy</td>\n",
              "    </tr>\n",
              "    <tr>\n",
              "      <th>2367</th>\n",
              "      <td>My boss gave me priase in front of the group a...</td>\n",
              "      <td>I am happy to hear about the praise you got at...</td>\n",
              "      <td>Happy_Excited_Joy</td>\n",
              "    </tr>\n",
              "  </tbody>\n",
              "</table>\n",
              "<p>2064 rows × 3 columns</p>\n",
              "</div>\n",
              "      <button class=\"colab-df-convert\" onclick=\"convertToInteractive('df-429ea29d-7e53-40e1-954f-bd0e76e52065')\"\n",
              "              title=\"Convert this dataframe to an interactive table.\"\n",
              "              style=\"display:none;\">\n",
              "        \n",
              "  <svg xmlns=\"http://www.w3.org/2000/svg\" height=\"24px\"viewBox=\"0 0 24 24\"\n",
              "       width=\"24px\">\n",
              "    <path d=\"M0 0h24v24H0V0z\" fill=\"none\"/>\n",
              "    <path d=\"M18.56 5.44l.94 2.06.94-2.06 2.06-.94-2.06-.94-.94-2.06-.94 2.06-2.06.94zm-11 1L8.5 8.5l.94-2.06 2.06-.94-2.06-.94L8.5 2.5l-.94 2.06-2.06.94zm10 10l.94 2.06.94-2.06 2.06-.94-2.06-.94-.94-2.06-.94 2.06-2.06.94z\"/><path d=\"M17.41 7.96l-1.37-1.37c-.4-.4-.92-.59-1.43-.59-.52 0-1.04.2-1.43.59L10.3 9.45l-7.72 7.72c-.78.78-.78 2.05 0 2.83L4 21.41c.39.39.9.59 1.41.59.51 0 1.02-.2 1.41-.59l7.78-7.78 2.81-2.81c.8-.78.8-2.07 0-2.86zM5.41 20L4 18.59l7.72-7.72 1.47 1.35L5.41 20z\"/>\n",
              "  </svg>\n",
              "      </button>\n",
              "      \n",
              "  <style>\n",
              "    .colab-df-container {\n",
              "      display:flex;\n",
              "      flex-wrap:wrap;\n",
              "      gap: 12px;\n",
              "    }\n",
              "\n",
              "    .colab-df-convert {\n",
              "      background-color: #E8F0FE;\n",
              "      border: none;\n",
              "      border-radius: 50%;\n",
              "      cursor: pointer;\n",
              "      display: none;\n",
              "      fill: #1967D2;\n",
              "      height: 32px;\n",
              "      padding: 0 0 0 0;\n",
              "      width: 32px;\n",
              "    }\n",
              "\n",
              "    .colab-df-convert:hover {\n",
              "      background-color: #E2EBFA;\n",
              "      box-shadow: 0px 1px 2px rgba(60, 64, 67, 0.3), 0px 1px 3px 1px rgba(60, 64, 67, 0.15);\n",
              "      fill: #174EA6;\n",
              "    }\n",
              "\n",
              "    [theme=dark] .colab-df-convert {\n",
              "      background-color: #3B4455;\n",
              "      fill: #D2E3FC;\n",
              "    }\n",
              "\n",
              "    [theme=dark] .colab-df-convert:hover {\n",
              "      background-color: #434B5C;\n",
              "      box-shadow: 0px 1px 3px 1px rgba(0, 0, 0, 0.15);\n",
              "      filter: drop-shadow(0px 1px 2px rgba(0, 0, 0, 0.3));\n",
              "      fill: #FFFFFF;\n",
              "    }\n",
              "  </style>\n",
              "\n",
              "      <script>\n",
              "        const buttonEl =\n",
              "          document.querySelector('#df-429ea29d-7e53-40e1-954f-bd0e76e52065 button.colab-df-convert');\n",
              "        buttonEl.style.display =\n",
              "          google.colab.kernel.accessAllowed ? 'block' : 'none';\n",
              "\n",
              "        async function convertToInteractive(key) {\n",
              "          const element = document.querySelector('#df-429ea29d-7e53-40e1-954f-bd0e76e52065');\n",
              "          const dataTable =\n",
              "            await google.colab.kernel.invokeFunction('convertToInteractive',\n",
              "                                                     [key], {});\n",
              "          if (!dataTable) return;\n",
              "\n",
              "          const docLinkHtml = 'Like what you see? Visit the ' +\n",
              "            '<a target=\"_blank\" href=https://colab.research.google.com/notebooks/data_table.ipynb>data table notebook</a>'\n",
              "            + ' to learn more about interactive tables.';\n",
              "          element.innerHTML = '';\n",
              "          dataTable['output_type'] = 'display_data';\n",
              "          await google.colab.output.renderOutput(dataTable, element);\n",
              "          const docLink = document.createElement('div');\n",
              "          docLink.innerHTML = docLinkHtml;\n",
              "          element.appendChild(docLink);\n",
              "        }\n",
              "      </script>\n",
              "    </div>\n",
              "  </div>\n",
              "  "
            ],
            "text/plain": [
              "                                                   User  ...             Intent\n",
              "1                                                 Hello  ...           Greeting\n",
              "2                                                    Hi  ...           Greeting\n",
              "3                                                  Hola  ...           Greeting\n",
              "4                                              Hi there  ...           Greeting\n",
              "5                                             Hya there  ...           Greeting\n",
              "...                                                 ...  ...                ...\n",
              "2363  Today I meditated for 30 minutes and I feel am...  ...    Surprise_Amazed\n",
              "2364                                    I broke my foot  ...             Health\n",
              "2365                                    I broke my foot  ...             Health\n",
              "2366  My boss gave me priase in front of the group a...  ...  Happy_Excited_Joy\n",
              "2367  My boss gave me priase in front of the group a...  ...  Happy_Excited_Joy\n",
              "\n",
              "[2064 rows x 3 columns]"
            ]
          },
          "metadata": {},
          "execution_count": 2
        }
      ]
    },
    {
      "cell_type": "code",
      "source": [
        "df_unduplicate = df.drop_duplicates(keep=False,inplace=False)\n",
        "df_unduplicate"
      ],
      "metadata": {
        "colab": {
          "base_uri": "https://localhost:8080/",
          "height": 424
        },
        "id": "1L0geqAvawce",
        "outputId": "337ea318-770f-4165-bfb3-ae140cf0b2ac"
      },
      "execution_count": null,
      "outputs": [
        {
          "output_type": "execute_result",
          "data": {
            "text/html": [
              "\n",
              "  <div id=\"df-a14450aa-b555-4a23-a80c-333062bea0f0\">\n",
              "    <div class=\"colab-df-container\">\n",
              "      <div>\n",
              "<style scoped>\n",
              "    .dataframe tbody tr th:only-of-type {\n",
              "        vertical-align: middle;\n",
              "    }\n",
              "\n",
              "    .dataframe tbody tr th {\n",
              "        vertical-align: top;\n",
              "    }\n",
              "\n",
              "    .dataframe thead th {\n",
              "        text-align: right;\n",
              "    }\n",
              "</style>\n",
              "<table border=\"1\" class=\"dataframe\">\n",
              "  <thead>\n",
              "    <tr style=\"text-align: right;\">\n",
              "      <th></th>\n",
              "      <th>User</th>\n",
              "      <th>Chatbot</th>\n",
              "      <th>Intent</th>\n",
              "    </tr>\n",
              "  </thead>\n",
              "  <tbody>\n",
              "    <tr>\n",
              "      <th>1</th>\n",
              "      <td>Hello</td>\n",
              "      <td>Hi &lt;HUMAN&gt; how are you?</td>\n",
              "      <td>Greeting</td>\n",
              "    </tr>\n",
              "    <tr>\n",
              "      <th>2</th>\n",
              "      <td>Hi</td>\n",
              "      <td>Hello &lt;HUMAN&gt; how are you?</td>\n",
              "      <td>Greeting</td>\n",
              "    </tr>\n",
              "    <tr>\n",
              "      <th>3</th>\n",
              "      <td>Hola</td>\n",
              "      <td>Hi &lt;HUMAN&gt; how are you?</td>\n",
              "      <td>Greeting</td>\n",
              "    </tr>\n",
              "    <tr>\n",
              "      <th>4</th>\n",
              "      <td>Hi there</td>\n",
              "      <td>Hi &lt;HUMAN&gt; how are you?</td>\n",
              "      <td>Greeting</td>\n",
              "    </tr>\n",
              "    <tr>\n",
              "      <th>5</th>\n",
              "      <td>Hya there</td>\n",
              "      <td>Hi &lt;HUMAN&gt; how are you?</td>\n",
              "      <td>Greeting</td>\n",
              "    </tr>\n",
              "    <tr>\n",
              "      <th>...</th>\n",
              "      <td>...</td>\n",
              "      <td>...</td>\n",
              "      <td>...</td>\n",
              "    </tr>\n",
              "    <tr>\n",
              "      <th>2363</th>\n",
              "      <td>Today I meditated for 30 minutes and I feel am...</td>\n",
              "      <td>I am glad you felt better after meditating</td>\n",
              "      <td>Surprise_Amazed</td>\n",
              "    </tr>\n",
              "    <tr>\n",
              "      <th>2364</th>\n",
              "      <td>I broke my foot</td>\n",
              "      <td>I am sorry to hear your foot broke</td>\n",
              "      <td>Health</td>\n",
              "    </tr>\n",
              "    <tr>\n",
              "      <th>2365</th>\n",
              "      <td>I broke my foot</td>\n",
              "      <td>I am sorry to hear you broke your foot</td>\n",
              "      <td>Health</td>\n",
              "    </tr>\n",
              "    <tr>\n",
              "      <th>2366</th>\n",
              "      <td>My boss gave me priase in front of the group a...</td>\n",
              "      <td>I am glad your work was praised</td>\n",
              "      <td>Happy_Excited_Joy</td>\n",
              "    </tr>\n",
              "    <tr>\n",
              "      <th>2367</th>\n",
              "      <td>My boss gave me priase in front of the group a...</td>\n",
              "      <td>I am happy to hear about the praise you got at...</td>\n",
              "      <td>Happy_Excited_Joy</td>\n",
              "    </tr>\n",
              "  </tbody>\n",
              "</table>\n",
              "<p>2064 rows × 3 columns</p>\n",
              "</div>\n",
              "      <button class=\"colab-df-convert\" onclick=\"convertToInteractive('df-a14450aa-b555-4a23-a80c-333062bea0f0')\"\n",
              "              title=\"Convert this dataframe to an interactive table.\"\n",
              "              style=\"display:none;\">\n",
              "        \n",
              "  <svg xmlns=\"http://www.w3.org/2000/svg\" height=\"24px\"viewBox=\"0 0 24 24\"\n",
              "       width=\"24px\">\n",
              "    <path d=\"M0 0h24v24H0V0z\" fill=\"none\"/>\n",
              "    <path d=\"M18.56 5.44l.94 2.06.94-2.06 2.06-.94-2.06-.94-.94-2.06-.94 2.06-2.06.94zm-11 1L8.5 8.5l.94-2.06 2.06-.94-2.06-.94L8.5 2.5l-.94 2.06-2.06.94zm10 10l.94 2.06.94-2.06 2.06-.94-2.06-.94-.94-2.06-.94 2.06-2.06.94z\"/><path d=\"M17.41 7.96l-1.37-1.37c-.4-.4-.92-.59-1.43-.59-.52 0-1.04.2-1.43.59L10.3 9.45l-7.72 7.72c-.78.78-.78 2.05 0 2.83L4 21.41c.39.39.9.59 1.41.59.51 0 1.02-.2 1.41-.59l7.78-7.78 2.81-2.81c.8-.78.8-2.07 0-2.86zM5.41 20L4 18.59l7.72-7.72 1.47 1.35L5.41 20z\"/>\n",
              "  </svg>\n",
              "      </button>\n",
              "      \n",
              "  <style>\n",
              "    .colab-df-container {\n",
              "      display:flex;\n",
              "      flex-wrap:wrap;\n",
              "      gap: 12px;\n",
              "    }\n",
              "\n",
              "    .colab-df-convert {\n",
              "      background-color: #E8F0FE;\n",
              "      border: none;\n",
              "      border-radius: 50%;\n",
              "      cursor: pointer;\n",
              "      display: none;\n",
              "      fill: #1967D2;\n",
              "      height: 32px;\n",
              "      padding: 0 0 0 0;\n",
              "      width: 32px;\n",
              "    }\n",
              "\n",
              "    .colab-df-convert:hover {\n",
              "      background-color: #E2EBFA;\n",
              "      box-shadow: 0px 1px 2px rgba(60, 64, 67, 0.3), 0px 1px 3px 1px rgba(60, 64, 67, 0.15);\n",
              "      fill: #174EA6;\n",
              "    }\n",
              "\n",
              "    [theme=dark] .colab-df-convert {\n",
              "      background-color: #3B4455;\n",
              "      fill: #D2E3FC;\n",
              "    }\n",
              "\n",
              "    [theme=dark] .colab-df-convert:hover {\n",
              "      background-color: #434B5C;\n",
              "      box-shadow: 0px 1px 3px 1px rgba(0, 0, 0, 0.15);\n",
              "      filter: drop-shadow(0px 1px 2px rgba(0, 0, 0, 0.3));\n",
              "      fill: #FFFFFF;\n",
              "    }\n",
              "  </style>\n",
              "\n",
              "      <script>\n",
              "        const buttonEl =\n",
              "          document.querySelector('#df-a14450aa-b555-4a23-a80c-333062bea0f0 button.colab-df-convert');\n",
              "        buttonEl.style.display =\n",
              "          google.colab.kernel.accessAllowed ? 'block' : 'none';\n",
              "\n",
              "        async function convertToInteractive(key) {\n",
              "          const element = document.querySelector('#df-a14450aa-b555-4a23-a80c-333062bea0f0');\n",
              "          const dataTable =\n",
              "            await google.colab.kernel.invokeFunction('convertToInteractive',\n",
              "                                                     [key], {});\n",
              "          if (!dataTable) return;\n",
              "\n",
              "          const docLinkHtml = 'Like what you see? Visit the ' +\n",
              "            '<a target=\"_blank\" href=https://colab.research.google.com/notebooks/data_table.ipynb>data table notebook</a>'\n",
              "            + ' to learn more about interactive tables.';\n",
              "          element.innerHTML = '';\n",
              "          dataTable['output_type'] = 'display_data';\n",
              "          await google.colab.output.renderOutput(dataTable, element);\n",
              "          const docLink = document.createElement('div');\n",
              "          docLink.innerHTML = docLinkHtml;\n",
              "          element.appendChild(docLink);\n",
              "        }\n",
              "      </script>\n",
              "    </div>\n",
              "  </div>\n",
              "  "
            ],
            "text/plain": [
              "                                                   User  ...             Intent\n",
              "1                                                 Hello  ...           Greeting\n",
              "2                                                    Hi  ...           Greeting\n",
              "3                                                  Hola  ...           Greeting\n",
              "4                                              Hi there  ...           Greeting\n",
              "5                                             Hya there  ...           Greeting\n",
              "...                                                 ...  ...                ...\n",
              "2363  Today I meditated for 30 minutes and I feel am...  ...    Surprise_Amazed\n",
              "2364                                    I broke my foot  ...             Health\n",
              "2365                                    I broke my foot  ...             Health\n",
              "2366  My boss gave me priase in front of the group a...  ...  Happy_Excited_Joy\n",
              "2367  My boss gave me priase in front of the group a...  ...  Happy_Excited_Joy\n",
              "\n",
              "[2064 rows x 3 columns]"
            ]
          },
          "metadata": {},
          "execution_count": 3
        }
      ]
    },
    {
      "cell_type": "code",
      "metadata": {
        "colab": {
          "base_uri": "https://localhost:8080/"
        },
        "id": "hh5xHi7_5l6_",
        "outputId": "881e1467-820b-4ed5-fcbb-a680a6217d4c"
      },
      "source": [
        "print('Dataset size:',df.shape)\n",
        "print('Columns are:',df.columns)\n",
        "Y = df['Intent']"
      ],
      "execution_count": null,
      "outputs": [
        {
          "output_type": "stream",
          "name": "stdout",
          "text": [
            "Dataset size: (2064, 3)\n",
            "Columns are: Index(['User', 'Chatbot', 'Intent'], dtype='object')\n"
          ]
        }
      ]
    },
    {
      "cell_type": "code",
      "metadata": {
        "colab": {
          "base_uri": "https://localhost:8080/"
        },
        "id": "WmQ1gtBn5l7D",
        "outputId": "797e52cf-2719-4329-af9e-744ed673c1f5"
      },
      "source": [
        "df.info()"
      ],
      "execution_count": null,
      "outputs": [
        {
          "output_type": "stream",
          "name": "stdout",
          "text": [
            "<class 'pandas.core.frame.DataFrame'>\n",
            "Int64Index: 2064 entries, 1 to 2367\n",
            "Data columns (total 3 columns):\n",
            " #   Column   Non-Null Count  Dtype \n",
            "---  ------   --------------  ----- \n",
            " 0   User     2064 non-null   object\n",
            " 1   Chatbot  2064 non-null   object\n",
            " 2   Intent   2064 non-null   object\n",
            "dtypes: object(3)\n",
            "memory usage: 64.5+ KB\n"
          ]
        }
      ]
    },
    {
      "cell_type": "markdown",
      "metadata": {
        "id": "YQqvaFaz5l7G"
      },
      "source": [
        "## Dataset Emotion Analysis"
      ]
    },
    {
      "cell_type": "code",
      "metadata": {
        "colab": {
          "base_uri": "https://localhost:8080/",
          "height": 298
        },
        "id": "cdv0sKic5l7H",
        "outputId": "58a454d8-9167-48a8-bbe9-506f288e1085"
      },
      "source": [
        "sns.countplot(x = 'Intent', data = df)"
      ],
      "execution_count": null,
      "outputs": [
        {
          "output_type": "execute_result",
          "data": {
            "text/plain": [
              "<matplotlib.axes._subplots.AxesSubplot at 0x7ff828f398d0>"
            ]
          },
          "metadata": {},
          "execution_count": 6
        },
        {
          "output_type": "display_data",
          "data": {
            "image/png": "[encoded data removed]",
            "text/plain": [
              "<Figure size 432x288 with 1 Axes>"
            ]
          },
          "metadata": {
            "needs_background": "light"
          }
        }
      ]
    },
    {
      "cell_type": "code",
      "metadata": {
        "colab": {
          "base_uri": "https://localhost:8080/"
        },
        "id": "FkEXqEKPT9I_",
        "outputId": "6d2d7dcb-3ac8-4a49-ea59-0adcae739fc9"
      },
      "source": [
        "print('Number of Intents:', len(df['Intent'].unique()))\n",
        "df['Intent'].unique()"
      ],
      "execution_count": null,
      "outputs": [
        {
          "output_type": "stream",
          "name": "stdout",
          "text": [
            "Number of Intents: 27\n"
          ]
        },
        {
          "output_type": "execute_result",
          "data": {
            "text/plain": [
              "array(['Greeting', 'Introduction', 'Info', 'Confirm', 'Time', 'Farewell',\n",
              "       'Happy_Excited_Joy', 'Surprise_Amazed', 'Age', 'HowAreYou', 'Good',\n",
              "       'Sad', 'Health', 'Meet/Talk', 'Sorry', 'Thanks', 'Compliment',\n",
              "       'Angry_Frustrated', 'Busy', 'Origin', 'Joke', 'Sleep', 'Eat_Food',\n",
              "       'Love', 'Hobby', 'Insult', 'Jealous'], dtype=object)"
            ]
          },
          "metadata": {},
          "execution_count": 7
        }
      ]
    },
    {
      "cell_type": "code",
      "source": [
        "import collections\n",
        "counter=collections.Counter(df['Intent'])\n",
        "counter"
      ],
      "metadata": {
        "colab": {
          "base_uri": "https://localhost:8080/"
        },
        "id": "gv9PFu4YlxJ6",
        "outputId": "6281fccc-2111-43eb-9028-bb6f5c709e4f"
      },
      "execution_count": null,
      "outputs": [
        {
          "output_type": "execute_result",
          "data": {
            "text/plain": [
              "Counter({'Age': 10,\n",
              "         'Angry_Frustrated': 93,\n",
              "         'Busy': 34,\n",
              "         'Compliment': 28,\n",
              "         'Confirm': 190,\n",
              "         'Eat_Food': 91,\n",
              "         'Farewell': 13,\n",
              "         'Good': 15,\n",
              "         'Greeting': 25,\n",
              "         'Happy_Excited_Joy': 372,\n",
              "         'Health': 138,\n",
              "         'Hobby': 23,\n",
              "         'HowAreYou': 13,\n",
              "         'Info': 255,\n",
              "         'Insult': 29,\n",
              "         'Introduction': 80,\n",
              "         'Jealous': 6,\n",
              "         'Joke': 16,\n",
              "         'Love': 57,\n",
              "         'Meet/Talk': 11,\n",
              "         'Origin': 18,\n",
              "         'Sad': 404,\n",
              "         'Sleep': 16,\n",
              "         'Sorry': 25,\n",
              "         'Surprise_Amazed': 58,\n",
              "         'Thanks': 33,\n",
              "         'Time': 11})"
            ]
          },
          "metadata": {},
          "execution_count": 8
        }
      ]
    },
    {
      "cell_type": "markdown",
      "metadata": {
        "id": "aYwytKs_5l7J"
      },
      "source": [
        "# 2. Pre-processing text data\n",
        "    1. Remove punctuations\n",
        "    2. Tokenization - Converting a sentence into list of words\n",
        "    3. Remove stopwords\n",
        "    4. Lammetization/stemming - Tranforming any form of a word to its root word"
      ]
    },
    {
      "cell_type": "markdown",
      "metadata": {
        "id": "EXYLyYIv5l7N"
      },
      "source": [
        "## 2.1 Remove Punctuations"
      ]
    },
    {
      "cell_type": "code",
      "metadata": {
        "id": "UzK78OdJ5l7P"
      },
      "source": [
        "emojis = pd.read_csv(resource_root_path+'emojis.txt',sep=',',header=None)\n",
        "emojis_dict = {i:j for i,j in zip(emojis[0],emojis[1])}\n",
        "pattern = '|'.join(sorted(re.escape(k) for k in emojis_dict))\n",
        "\n",
        "def replace_emojis(text):\n",
        "    text = re.sub(pattern,lambda m: emojis_dict.get(m.group(0)), text, flags=re.IGNORECASE)\n",
        "    return text\n",
        "\n",
        "def remove_punct(text):\n",
        "    text = replace_emojis(text)\n",
        "    text  = \"\".join([char for char in text if char not in string.punctuation])\n",
        "    text = re.sub('[0-9]+', '', text)\n",
        "    return text\n",
        "\n",
        "contraction_dict = {\"ain't\": \"is not\", \"aren't\": \"are not\",\"can't\": \"cannot\", \"'cause\": \"because\", \"could've\": \"could have\", \"couldn't\": \"could not\", \"didn't\": \"did not\",  \"doesn't\": \"does not\", \"don't\": \"do not\", \"hadn't\": \"had not\", \"hasn't\": \"has not\", \"haven't\": \"have not\", \"he'd\": \"he would\",\"he'll\": \"he will\", \"he's\": \"he is\", \"how'd\": \"how did\", \"how'd'y\": \"how do you\", \"how'll\": \"how will\", \"how's\": \"how is\",  \"I'd\": \"I would\", \"I'd've\": \"I would have\", \"I'll\": \"I will\", \"I'll've\": \"I will have\",\"I'm\": \"I am\",\"im\":\"i am\", \"I've\": \"I have\", \"i'd\": \"i would\", \"i'd've\": \"i would have\", \"i'll\": \"i will\",  \"i'll've\": \"i will have\",\"i'm\": \"i am\", \"i've\": \"i have\", \"isn't\": \"is not\", \"it'd\": \"it would\", \"it'd've\": \"it would have\", \"it'll\": \"it will\", \"it'll've\": \"it will have\",\"it's\": \"it is\", \"let's\": \"let us\", \"ma'am\": \"madam\", \"mayn't\": \"may not\", \"might've\": \"might have\",\"mightn't\": \"might not\",\"mightn't've\": \"might not have\", \"must've\": \"must have\", \"mustn't\": \"must not\", \"mustn't've\": \"must not have\", \"needn't\": \"need not\", \"needn't've\": \"need not have\",\"o'clock\": \"of the clock\", \"oughtn't\": \"ought not\", \"oughtn't've\": \"ought not have\", \"shan't\": \"shall not\", \"sha'n't\": \"shall not\", \"shan't've\": \"shall not have\", \"she'd\": \"she would\", \"she'd've\": \"she would have\", \"she'll\": \"she will\", \"she'll've\": \"she will have\", \"she's\": \"she is\", \"should've\": \"should have\", \"shouldn't\": \"should not\", \"shouldn't've\": \"should not have\", \"so've\": \"so have\",\"so's\": \"so as\", \"this's\": \"this is\",\"that'd\": \"that would\", \"that'd've\": \"that would have\", \"that's\": \"that is\", \"there'd\": \"there would\", \"there'd've\": \"there would have\", \"there's\": \"there is\", \"here's\": \"here is\",\"they'd\": \"they would\", \"they'd've\": \"they would have\", \"they'll\": \"they will\", \"they'll've\": \"they will have\", \"they're\": \"they are\", \"they've\": \"they have\", \"to've\": \"to have\", \"wasn't\": \"was not\", \"we'd\": \"we would\", \"we'd've\": \"we would have\", \"we'll\": \"we will\", \"we'll've\": \"we will have\", \"we're\": \"we are\", \"we've\": \"we have\", \"weren't\": \"were not\", \"what'll\": \"what will\", \"what'll've\": \"what will have\", \"what're\": \"what are\",  \"what's\": \"what is\", \"what've\": \"what have\", \"when's\": \"when is\", \"when've\": \"when have\", \"where'd\": \"where did\", \"where's\": \"where is\", \"where've\": \"where have\", \"who'll\": \"who will\", \"who'll've\": \"who will have\", \"who's\": \"who is\", \"who've\": \"who have\", \"why's\": \"why is\", \"why've\": \"why have\", \"will've\": \"will have\", \"won't\": \"will not\", \"won't've\": \"will not have\", \"would've\": \"would have\", \"wouldn't\": \"would not\", \"wouldn't've\": \"would not have\", \"y'all\": \"you all\", \"y'all'd\": \"you all would\",\"y'all'd've\": \"you all would have\",\"y'all're\": \"you all are\",\"y'all've\": \"you all have\",\"you'd\": \"you would\", \"you'd've\": \"you would have\", \"you'll\": \"you will\", \"you'll've\": \"you will have\", \"you're\": \"you are\", \"you've\": \"you have\"}\n",
        "def _get_contractions(contraction_dict):\n",
        "    contraction_re = re.compile('(%s)' % '|'.join(contraction_dict.keys()))\n",
        "    return contraction_dict, contraction_re\n",
        "contractions, contractions_re = _get_contractions(contraction_dict)\n",
        "\n",
        "def replace_contractions(text):\n",
        "    def replace(match):\n",
        "        return contractions[match.group(0)]\n",
        "    return contractions_re.sub(replace, text)"
      ],
      "execution_count": null,
      "outputs": []
    },
    {
      "cell_type": "markdown",
      "metadata": {
        "id": "b3_uwWYP5l7R"
      },
      "source": [
        "## 2.2 Tokenization"
      ]
    },
    {
      "cell_type": "code",
      "metadata": {
        "id": "x2F9F6-E5l7T"
      },
      "source": [
        "def tokenization(text):\n",
        "    text = text.lower()\n",
        "    text = re.split('\\W+', text)\n",
        "    return text"
      ],
      "execution_count": null,
      "outputs": []
    },
    {
      "cell_type": "markdown",
      "metadata": {
        "id": "GcpC-5mq5l7U"
      },
      "source": [
        "## 2.3 Remove Stopwords"
      ]
    },
    {
      "cell_type": "code",
      "metadata": {
        "colab": {
          "base_uri": "https://localhost:8080/"
        },
        "id": "5La56ZVF5l7V",
        "outputId": "608e761a-0cbe-4177-b1d5-e26f41aca439"
      },
      "source": [
        "nltk.download('stopwords')\n",
        "stopword = nltk.corpus.stopwords.words('english')\n",
        "stopword.extend(['yr', 'year', 'woman', 'man', 'girl','boy','one', 'two', 'sixteen', 'yearold', 'fu', 'weeks', 'week',\n",
        "              'treatment', 'associated', 'patients', 'may','day', 'case','old','u','n','didnt','ive','ate','feel','keep'\n",
        "                ,'brother','dad','basic','im'])"
      ],
      "execution_count": null,
      "outputs": [
        {
          "output_type": "stream",
          "name": "stdout",
          "text": [
            "[nltk_data] Downloading package stopwords to /root/nltk_data...\n",
            "[nltk_data]   Unzipping corpora/stopwords.zip.\n"
          ]
        }
      ]
    },
    {
      "cell_type": "code",
      "metadata": {
        "id": "r8g0uwqu5l7W"
      },
      "source": [
        "def remove_stopwords(text):\n",
        "    text = [word for word in text if word not in stopword]\n",
        "    return text"
      ],
      "execution_count": null,
      "outputs": []
    },
    {
      "cell_type": "markdown",
      "metadata": {
        "id": "20VcCTqg5l7Y"
      },
      "source": [
        "## 2.4 Lemmatization"
      ]
    },
    {
      "cell_type": "code",
      "metadata": {
        "colab": {
          "base_uri": "https://localhost:8080/"
        },
        "id": "Q8-tcDef5l7n",
        "scrolled": true,
        "outputId": "c9be3a21-9df8-45f5-c4c9-e5453d8c70bc"
      },
      "source": [
        "nltk.download('wordnet')\n",
        "wn = nltk.WordNetLemmatizer()\n",
        "\n",
        "def lemmatizer(text):\n",
        "    text = [wn.lemmatize(word) for word in text]\n",
        "    return text"
      ],
      "execution_count": null,
      "outputs": [
        {
          "output_type": "stream",
          "name": "stdout",
          "text": [
            "[nltk_data] Downloading package wordnet to /root/nltk_data...\n",
            "[nltk_data]   Unzipping corpora/wordnet.zip.\n"
          ]
        }
      ]
    },
    {
      "cell_type": "markdown",
      "metadata": {
        "id": "VeT29o5_5l7v"
      },
      "source": [
        "## All in one (Text preprocessing)"
      ]
    },
    {
      "cell_type": "code",
      "metadata": {
        "id": "RC0gvthn5l79"
      },
      "source": [
        "def clean_text(text):\n",
        "    text = replace_contractions(text)\n",
        "    text = remove_punct(text)\n",
        "    text = tokenization(text)\n",
        "    # text = remove_stopwords(text)\n",
        "    text = lemmatizer(text)\n",
        "    return text"
      ],
      "execution_count": null,
      "outputs": []
    },
    {
      "cell_type": "markdown",
      "metadata": {
        "id": "eostuOfY5l7_"
      },
      "source": [
        "# 3. Feature Extraction\n",
        "    1. Count Vectorizer\n",
        "    2. TF-IDF (Term Frequency and Inverse Document Frequency)"
      ]
    },
    {
      "cell_type": "markdown",
      "metadata": {
        "id": "GUojlVdz5l8B"
      },
      "source": [
        "## 3.1 Count Vectorizer\n",
        "**CountVectorizer** is a great tool provided by the *scikit-learn* library in Python. It is used to transform a given text into a vector on the basis of the frequency (count) of each word that occurs in the entire text. This is helpful when we have multiple such texts, and we wish to convert each word in each text into vectors (for using in further text analysis).\n",
        "    \n",
        "Let us consider a few sample texts from a document:\n",
        "    \n",
        "    document 1: Time flies flies like an arrow.\n",
        "    document 2: Fruit flies like a banana.\n",
        "\n",
        "    \n",
        "**CountVectorizer** creates a matrix in which each unique word is represented by a column of the matrix, and each text sample from the document is a row in the matrix. The value of each cell is nothing but the count of the word in that particular text sample. "
      ]
    },
    {
      "cell_type": "code",
      "metadata": {
        "colab": {
          "base_uri": "https://localhost:8080/",
          "height": 374
        },
        "id": "KWRkGZOB5l8C",
        "outputId": "bb4bccda-7766-476e-e7f3-dc8cb6a42967"
      },
      "source": [
        "document = [\"Time flies flies like an arrow\",\n",
        "            \"Fruit flies like a banana\"]\n",
        "  \n",
        "# Create a Vectorizer Object\n",
        "vectorizer = CountVectorizer()\n",
        "  \n",
        "vectorizer.fit(document)\n",
        "  \n",
        "# Printing the identified Unique words along with their indices\n",
        "print(\"Vocabulary: \", vectorizer.vocabulary_)\n",
        "  \n",
        "# Encode the Document\n",
        "vector = vectorizer.transform(document)\n",
        "  \n",
        "# Summarizing the Encoded Texts\n",
        "print(\"Encoded Document is:\")\n",
        "print(vector.toarray())\n",
        "\n",
        "dictionary = sorted(vectorizer.vocabulary_)\n",
        "\n",
        "print(dictionary)\n",
        "\n",
        "sns.heatmap(vector.toarray(), annot=True, cbar=False, xticklabels=dictionary,\n",
        "                                             yticklabels=['Sentence 1','Sentence 2'])"
      ],
      "execution_count": null,
      "outputs": [
        {
          "output_type": "stream",
          "name": "stdout",
          "text": [
            "Vocabulary:  {'time': 6, 'flies': 3, 'like': 5, 'an': 0, 'arrow': 1, 'fruit': 4, 'banana': 2}\n",
            "Encoded Document is:\n",
            "[[1 1 0 2 0 1 1]\n",
            " [0 0 1 1 1 1 0]]\n",
            "['an', 'arrow', 'banana', 'flies', 'fruit', 'like', 'time']\n"
          ]
        },
        {
          "output_type": "execute_result",
          "data": {
            "text/plain": [
              "<matplotlib.axes._subplots.AxesSubplot at 0x7f1e3341f410>"
            ]
          },
          "metadata": {},
          "execution_count": 16
        },
        {
          "output_type": "display_data",
          "data": {
            "image/png": "[encoded data removed]",
            "text/plain": [
              "<Figure size 432x288 with 1 Axes>"
            ]
          },
          "metadata": {
            "needs_background": "light"
          }
        }
      ]
    },
    {
      "cell_type": "markdown",
      "metadata": {
        "id": "QkadC25S5l8C"
      },
      "source": [
        "## 3.2 TF-IDF"
      ]
    },
    {
      "cell_type": "markdown",
      "metadata": {
        "id": "2l50NkRh5l8E"
      },
      "source": [
        "### 3.2.1 **Term Frequency (TF)**\n",
        "Term Frequent (**TF**) is a measure of how frequently a term, $t$, appears in a document, $d$:\n",
        "\n",
        "\n",
        "\n",
        "$$TF_{t,d} = \\frac{n_{t,d}}{\\text{Total number of terms in document}\\ d }$$\n",
        "\n",
        "\n",
        "\n",
        "$n_{t,d}$ = Number of times term $t$ appears in a document $d$. Thus, each document and term would have its own **TF** value.\n",
        "\n",
        "Consider these 3 documents:- \n",
        "\n",
        "- It was the best of the time.\n",
        "- it was the worst of Times.\n",
        "- it is the time of stupidity.\n",
        "\n",
        "The vocabulary or dictionary of the entire corpus would be:- \n",
        "\n",
        "1. it\n",
        "2. was\n",
        "3. the \n",
        "4. best\n",
        "5. of\n",
        "6. time\n",
        "7. worst\n",
        "8. is\n",
        "9. stupidity\n",
        "\n",
        "Now we will calculate the **TF** values for the **Document 3**. \n",
        "\n",
        "Document 3 :- **it is the time of stupidity.**\n",
        "\n",
        "- Number of words in Document 3 = **6**\n",
        "- TF for the word **‘the’** = (number of times **‘the’** appears in Document 3) / (number of terms in Document 3) = **1/6**\n",
        "\n",
        "Likewise:- \n",
        "\n",
        "- TF(**'it'**) = 1/6\n",
        "- TF(**'was'**) = 0/6 = 0\n",
        "- TF(**'the'**) = 1/6 \n",
        "- TF(**'best'**) = 0/6 = 0\n",
        "- TF(**'of'**) = 1/6 \n",
        "- TF(**'time'**) = 1/6\n",
        "- TF(**'worst'**) = 0/6 = 0\n",
        "- TF(**'is'**) = 1/6\n",
        "- TF(**'stupidity'**) = 1/6\n",
        "\n",
        "We can calculate all the term frequencies for all the terms of all the documents in this manner:-\n",
        "\n",
        "|    Term   | Document#1 | Document#2 | Document#3 | TF (Document#1) | TF (Document#2) | TF (Document#3) |\n",
        "|:---------:|:----------:|:----------:|:----------:|:---------------:|:---------------:|:---------------:|\n",
        "|     it    |      1     |      1     |      1     |       1/7       |       1/6       |       1/6       |\n",
        "|    was    |      1     |      1     |      0     |       1/7       |       1/6       |        0        |\n",
        "|    the    |      2     |      1     |      1     |       2/7       |       1/6       |       1/6       |\n",
        "|    best   |      1     |      0     |      0     |       1/7       |        0        |        0        |\n",
        "|     of    |      1     |      1     |      1     |       1/7       |       1/6       |       1/6       |\n",
        "|    time   |      1     |      1     |      1     |       1/7       |       1/6       |       1/6       |\n",
        "|   worst   |      0     |      1     |      0     |        0        |       1/6       |        0        |\n",
        "|    is     |      0     |      0     |      1     |        0        |        0        |       1/6       |\n",
        "| stupidity |      0     |      0     |      1     |        0        |        0        |       1/6       |\n",
        "\n",
        "\n",
        "\n",
        "\n"
      ]
    },
    {
      "cell_type": "markdown",
      "metadata": {
        "id": "ZmC1oh1y5l8G"
      },
      "source": [
        "\n",
        "### 3.2.2 **Inverse Document Frequency (IDF)**\n",
        "\n",
        "IDF is a measure of how important a term is. We need the IDF value because computing just the **TF alone is not sufficient** to understand the importance of words:\n",
        "\n",
        "\n",
        "\n",
        "$$IDF_{t} = log \\ (\\frac{\\text{Total Number of Documents}}{\\text{The Number of Documents with Term $t$}})$$\n",
        "\n",
        "\n",
        "\n",
        "A problem with scoring word frequency is that highly frequent words **(‘is’, ‘the’, ‘a’ etc)** start to dominate in the document (e.g. larger score), but may not contain as much **“useful information”** to the model comapre to the rarer but **domain specific words**.\n",
        "\n",
        "\n",
        "One approach is to rescale the frequency of words by **how often they appear in all documents**, so that the scores for frequent words like “the” that are also frequent **across all documents are penalized**.\n",
        "\n",
        "This approach to scoring is called Term Frequency – Inverse Document Frequency, or TF-IDF for short, where:\n",
        "\n",
        "- **Term Frequency:** is a scoring of the frequency of the word in the current document.\n",
        "- **Inverse Document Frequency:** is a scoring of how rare the word is across documents.\n",
        "\n",
        "**Thus the idf of a rare term is high, whereas the idf of a frequent term is likely to be low.**\n",
        "\n",
        "We can calculate the IDF values for **Document 3**:\n",
        "\n",
        "Document 3 :- **it is the time of stupidity.**\n",
        "\n",
        "IDF(**‘it’**) =  log(total number of documents/number of documents containing the word **‘it’**) = log(3/3) = log(1) = 0\n",
        "\n",
        "IDF(**‘stupidity’**) =  log(total number of documents/number of documents containing the word **‘stupidity’**) = log(3/1) = log(3) = 0.48\n",
        "\n",
        "We can calculate the IDF values for each word like this. Thus, the IDF values for the entire vocabulary would be:\n",
        "\n",
        "|    Term   | Document#1 | Document#2 | Document#3 |  IDF |\n",
        "|:---------:|:----------:|:----------:|:----------:|:----:|\n",
        "|     it    |      1     |      1     |      1     | 0.00 |\n",
        "|    was    |      1     |      1     |      0     | 0.18 |\n",
        "|    the    |      2     |      1     |      1     | 0.00 |\n",
        "|    best   |      1     |      0     |      0     | 0.48 |\n",
        "|     of    |      1     |      1     |      1     | 0.00 |\n",
        "|    time   |      1     |      1     |      1     | 0.00 |\n",
        "|   worst   |      0     |      1     |      0     | 0.48 |\n",
        "|    is     |      0     |      0     |      1     | 0.48 |\n",
        "| stupidity |      0     |      0     |      1     | 0.48 |\n",
        "\n",
        "\\\n",
        "\n",
        "We can now compute the TF-IDF score for each word in the corpus. Words with a higher score are more important, and those with a lower score are less important:\n",
        "\n",
        "$$(TF-IDF)_{t,d} = TF_{t,d} * IDF_{t}$$\n",
        "\n",
        "\n",
        "You can find the overall summary in the following figure.\n",
        "\n",
        "<div align=\"center\">\n",
        "<img src=\"https://drive.google.com/uc?id=1Xw5RlK_RxYtZEQtpFNaePXnJNyQmLcn1\" width=\"680\" height=\"230\">\n",
        "</div>\n",
        "\n",
        "\n",
        "\n",
        "We can now calculate the TF-IDF score for every word in **Document 3**:\n",
        "\n",
        "Document 3 :- **it is the time of stupidity.**\n",
        "\n",
        "TF-IDF(‘it’, Document 3) = TF(‘it’, Document 3) * IDF(‘it’) = 1/6 * 0 = 0\n",
        "\n",
        "Likewise:- \n",
        "\n",
        "- TF(**'it'**) = (1/6) * 0 = 0\n",
        "- TF(**'is'**) = (1/6) * 0.48 = 0.08\n",
        "- TF(**'the'**) = (1/6) * 0 = 0\n",
        "- TF(**'best'**) = (0/6) * 0.48 = 0\n",
        "- TF(**'time'**) = (1/6) * 0 = 0\n",
        "- TF(**'of'**) = (1/6) * 0 = 0\n",
        "- TF(**'stupidity'**) = (1/6) * 0.48 = 0.08\n",
        "\n",
        "Similarly, we can calculate the TF-IDF scores for all the words with respect to all the documents.\n",
        "\n",
        "- First, notice how if there is a very common\n",
        "word that occurs in all documents (i.e., n = N), IDF(w) is 0 and the TF­IDF score is 0, thereby\n",
        "completely penalizing that term. \n",
        "- Second, if a term occurs very rarely, perhaps in only one document,\n",
        "the IDF will be the maximum possible value, log N\n"
      ]
    },
    {
      "cell_type": "code",
      "metadata": {
        "colab": {
          "base_uri": "https://localhost:8080/",
          "height": 392
        },
        "id": "BCCUG0ok5l8I",
        "outputId": "3c429dff-6730-4205-908e-c8362bb14944"
      },
      "source": [
        "from sklearn.feature_extraction.text import TfidfVectorizer\n",
        "\n",
        "document = ['Time flies flies like an arrow.',\n",
        "          'Fruit flies like a banana.']\n",
        "\n",
        "tfidf_vectorizer = TfidfVectorizer()\n",
        "tfidf = tfidf_vectorizer.fit_transform(document).toarray()\n",
        "\n",
        "print (tfidf)\n",
        "\n",
        "print (tfidf_vectorizer.vocabulary_)\n",
        "\n",
        "dictionary = sorted(tfidf_vectorizer.vocabulary_)\n",
        "\n",
        "print(dictionary)\n",
        "\n",
        "sns.heatmap(tfidf, annot=True, cbar=False, xticklabels=dictionary,\n",
        "                                           yticklabels=['Sentence 1','Sentence 2'])"
      ],
      "execution_count": null,
      "outputs": [
        {
          "output_type": "stream",
          "name": "stdout",
          "text": [
            "[[0.42519636 0.42519636 0.         0.60506143 0.         0.30253071\n",
            "  0.42519636]\n",
            " [0.         0.         0.57615236 0.40993715 0.57615236 0.40993715\n",
            "  0.        ]]\n",
            "{'time': 6, 'flies': 3, 'like': 5, 'an': 0, 'arrow': 1, 'fruit': 4, 'banana': 2}\n",
            "['an', 'arrow', 'banana', 'flies', 'fruit', 'like', 'time']\n"
          ]
        },
        {
          "output_type": "execute_result",
          "data": {
            "text/plain": [
              "<matplotlib.axes._subplots.AxesSubplot at 0x7f1e32ab8ed0>"
            ]
          },
          "metadata": {},
          "execution_count": 17
        },
        {
          "output_type": "display_data",
          "data": {
            "image/png": "[encoded data removed]",
            "text/plain": [
              "<Figure size 432x288 with 1 Axes>"
            ]
          },
          "metadata": {
            "needs_background": "light"
          }
        }
      ]
    },
    {
      "cell_type": "markdown",
      "metadata": {
        "id": "h7HeIz1q5l8J"
      },
      "source": [
        "### Applying Feature Extraction in tweet dataset"
      ]
    },
    {
      "cell_type": "markdown",
      "metadata": {
        "id": "uTr59hyn5l8K"
      },
      "source": [
        "#### Train Test Split (75-25)"
      ]
    },
    {
      "cell_type": "code",
      "metadata": {
        "id": "3gPnp2OD5l8L"
      },
      "source": [
        "X_train, X_test, y_train, y_test = train_test_split(df['User'], df['Intent'],test_size=0.25, random_state = 32)"
      ],
      "execution_count": null,
      "outputs": []
    },
    {
      "cell_type": "code",
      "metadata": {
        "id": "ufASzASS5l8L"
      },
      "source": [
        "countVectorizer1 = CountVectorizer(analyzer=clean_text)\n",
        "countVector1 = countVectorizer1.fit_transform(X_train)\n",
        "\n",
        "countVector2 = countVectorizer1.transform(X_test)\n",
        "\n",
        "tfidf_transformer_xtrain = TfidfTransformer()\n",
        "x_train = tfidf_transformer_xtrain.fit_transform(countVector1)\n",
        "\n",
        "tfidf_transformer_xtest = TfidfTransformer()\n",
        "x_test = tfidf_transformer_xtest.fit_transform(countVector2)"
      ],
      "execution_count": null,
      "outputs": []
    },
    {
      "cell_type": "markdown",
      "metadata": {
        "id": "63DzkBpe5l8L"
      },
      "source": [
        "# 4. Models\n",
        "1. Support Vector Machine (SVM)\n",
        "2. Logistic Regression\n",
        "3. Random Forest Classifier\n",
        "4. XGBoost Classifier\n",
        "5. Multinomial Naive Bayes\n",
        "6. Decision Tree Classifier\n",
        "7. MultiLayer Perception (MLP)\n",
        "\n"
      ]
    },
    {
      "cell_type": "markdown",
      "metadata": {
        "id": "_2b2q-PXNb6i"
      },
      "source": [
        "**Performance Matrix :**\n",
        "1.   **Accuracy** = $\\frac{\\text{TP+TN}}{\\text{TP+TN+FP+FN}}$\n",
        "2.   **Precision** = $\\frac{\\text{TP}}{\\text{TP+FP}}$ \n",
        "3.   **Recall** = $\\frac{\\text{TP}}{\\text{TP+FN}}$ \n",
        "4.   **F1-score** = $\\frac{\\text{2*Precision*Recall}}{\\text{Precision+Recall}}$ "
      ]
    },
    {
      "cell_type": "markdown",
      "metadata": {
        "id": "sdfTn5X35l8N"
      },
      "source": [
        "## 4.1 Support Vector Machine (SVM)"
      ]
    },
    {
      "cell_type": "code",
      "metadata": {
        "colab": {
          "base_uri": "https://localhost:8080/"
        },
        "id": "zfaBVxA65l8O",
        "outputId": "4a74702d-ca31-40c9-fb03-ff5d20a5c219"
      },
      "source": [
        "svm = SGDClassifier()\n",
        "svm.fit(x_train, y_train)\n",
        "\n",
        "y_pred = svm.predict(x_test)\n",
        "\n",
        "svm_acc = accuracy_score(y_pred, y_test)\n",
        "svm_prec = precision_score(y_test, y_pred, average='macro')\n",
        "svm_recal = recall_score(y_test, y_pred, average='macro')\n",
        "svm_cm = confusion_matrix(y_test,y_pred)\n",
        "svm_f1 = f1_score(y_test, y_pred, average='macro')\n",
        "\n",
        "print('Accuracy:', '{0:.3f}'.format(svm_acc*100))\n",
        "print('Precision:', '{0:.3f}'.format(svm_prec*100))\n",
        "print('Recall:', '{0:.3f}'.format(svm_recal*100))\n",
        "print('F1-score:', '{0:.3f}'.format(svm_f1*100))\n",
        "print(classification_report(y_test,y_pred))"
      ],
      "execution_count": null,
      "outputs": [
        {
          "output_type": "stream",
          "name": "stdout",
          "text": [
            "Accuracy: 71.705\n",
            "Precision: 65.162\n",
            "Recall: 63.266\n",
            "F1-score: 61.527\n",
            "                   precision    recall  f1-score   support\n",
            "\n",
            "              Age       0.00      0.00      0.00         1\n",
            " Angry_Frustrated       0.75      0.48      0.59        25\n",
            "             Busy       0.75      0.60      0.67        10\n",
            "       Compliment       0.38      0.75      0.50         4\n",
            "          Confirm       0.65      0.60      0.62        52\n",
            "         Eat_Food       0.65      0.68      0.67        19\n",
            "         Farewell       0.00      0.00      0.00         2\n",
            "             Good       0.67      0.50      0.57         4\n",
            "         Greeting       0.75      0.75      0.75         4\n",
            "Happy_Excited_Joy       0.84      0.87      0.85       104\n",
            "           Health       0.85      0.76      0.80        37\n",
            "            Hobby       1.00      0.43      0.60         7\n",
            "        HowAreYou       1.00      0.75      0.86         4\n",
            "             Info       0.66      0.59      0.62        68\n",
            "           Insult       0.71      0.71      0.71         7\n",
            "     Introduction       0.46      0.55      0.50        20\n",
            "          Jealous       1.00      1.00      1.00         1\n",
            "             Joke       0.67      1.00      0.80         2\n",
            "             Love       0.46      0.67      0.55         9\n",
            "        Meet/Talk       1.00      0.33      0.50         3\n",
            "           Origin       0.33      1.00      0.50         2\n",
            "              Sad       0.78      0.88      0.83       102\n",
            "            Sleep       1.00      1.00      1.00         2\n",
            "            Sorry       0.33      0.17      0.22         6\n",
            "  Surprise_Amazed       0.62      0.77      0.69        13\n",
            "           Thanks       0.29      0.50      0.36         4\n",
            "             Time       1.00      0.75      0.86         4\n",
            "\n",
            "         accuracy                           0.72       516\n",
            "        macro avg       0.65      0.63      0.62       516\n",
            "     weighted avg       0.73      0.72      0.71       516\n",
            "\n"
          ]
        }
      ]
    },
    {
      "cell_type": "markdown",
      "metadata": {
        "id": "KO9yJPbQNb6m"
      },
      "source": [
        "### 4.1.1 Confusion Matrix"
      ]
    },
    {
      "cell_type": "code",
      "metadata": {
        "scrolled": false,
        "id": "11T7BTC5Nb6n",
        "colab": {
          "base_uri": "https://localhost:8080/",
          "height": 602
        },
        "outputId": "61648428-afe3-45ce-eb2a-d8d418fa2eb3"
      },
      "source": [
        "cm_display_svm = ConfusionMatrixDisplay(svm_cm, display_labels=svm.classes_)\n",
        "fig, ax = plt.subplots(figsize=(10,10)) # adjust the size\n",
        "ax.set_xticklabels(svm.classes_, rotation='vertical', fontsize=10)\n",
        "cm_display_svm.plot(ax=ax,cmap='Blues')"
      ],
      "execution_count": null,
      "outputs": [
        {
          "output_type": "execute_result",
          "data": {
            "text/plain": [
              "<sklearn.metrics._plot.confusion_matrix.ConfusionMatrixDisplay at 0x7f3149b88250>"
            ]
          },
          "metadata": {},
          "execution_count": 21
        },
        {
          "output_type": "display_data",
          "data": {
            "image/png": "[encoded data removed]",
            "text/plain": [
              "<Figure size 720x720 with 2 Axes>"
            ]
          },
          "metadata": {
            "needs_background": "light"
          }
        }
      ]
    },
    {
      "cell_type": "markdown",
      "metadata": {
        "id": "HhyX76VB5l8U"
      },
      "source": [
        "## 4.2 Logistic Regression"
      ]
    },
    {
      "cell_type": "code",
      "metadata": {
        "colab": {
          "base_uri": "https://localhost:8080/"
        },
        "id": "2T0Lh2kT5l8X",
        "outputId": "d668b62c-8e3a-42cd-e639-6721c8cd69bb"
      },
      "source": [
        "logisticRegr = LogisticRegression()\n",
        "\n",
        "logisticRegr.fit(x_train, y_train)\n",
        "\n",
        "y_pred = logisticRegr.predict(x_test)\n",
        "\n",
        "lr_acc = accuracy_score(y_pred, y_test)\n",
        "lr_prec = precision_score(y_test, y_pred, average='macro')\n",
        "lr_recal = recall_score(y_test, y_pred, average='macro')\n",
        "lr_cm = confusion_matrix(y_test,y_pred)\n",
        "lr_f1 = f1_score(y_test, y_pred, average='macro')\n",
        "\n",
        "print('Accuracy:', '{0:.3f}'.format(lr_acc*100))\n",
        "print('Precision:', '{0:.3f}'.format(lr_prec*100))\n",
        "print('Recall:', '{0:.3f}'.format(lr_recal*100))\n",
        "print('F1-score:', '{0:.3f}'.format(lr_f1*100))\n",
        "print(classification_report(y_test,y_pred))"
      ],
      "execution_count": null,
      "outputs": [
        {
          "output_type": "stream",
          "name": "stdout",
          "text": [
            "Accuracy: 56.008\n",
            "Precision: 43.667\n",
            "Recall: 28.879\n",
            "F1-score: 31.400\n",
            "                   precision    recall  f1-score   support\n",
            "\n",
            "              Age       0.00      0.00      0.00         1\n",
            " Angry_Frustrated       0.75      0.12      0.21        25\n",
            "             Busy       1.00      0.30      0.46        10\n",
            "       Compliment       0.00      0.00      0.00         4\n",
            "          Confirm       0.49      0.52      0.50        52\n",
            "         Eat_Food       0.67      0.32      0.43        19\n",
            "         Farewell       0.00      0.00      0.00         2\n",
            "             Good       0.00      0.00      0.00         4\n",
            "         Greeting       0.50      0.25      0.33         4\n",
            "Happy_Excited_Joy       0.59      0.83      0.69       104\n",
            "           Health       0.94      0.43      0.59        37\n",
            "            Hobby       1.00      0.14      0.25         7\n",
            "        HowAreYou       0.00      0.00      0.00         4\n",
            "             Info       0.52      0.50      0.51        68\n",
            "           Insult       1.00      0.57      0.73         7\n",
            "     Introduction       0.50      0.25      0.33        20\n",
            "          Jealous       0.00      0.00      0.00         1\n",
            "             Joke       1.00      0.50      0.67         2\n",
            "             Love       0.67      0.67      0.67         9\n",
            "        Meet/Talk       0.00      0.00      0.00         3\n",
            "           Origin       0.67      1.00      0.80         2\n",
            "              Sad       0.50      0.90      0.64       102\n",
            "            Sleep       0.00      0.00      0.00         2\n",
            "            Sorry       0.00      0.00      0.00         6\n",
            "  Surprise_Amazed       0.00      0.00      0.00        13\n",
            "           Thanks       1.00      0.50      0.67         4\n",
            "             Time       0.00      0.00      0.00         4\n",
            "\n",
            "         accuracy                           0.56       516\n",
            "        macro avg       0.44      0.29      0.31       516\n",
            "     weighted avg       0.56      0.56      0.51       516\n",
            "\n"
          ]
        }
      ]
    },
    {
      "cell_type": "markdown",
      "metadata": {
        "id": "7PZtMD-8Nb6q"
      },
      "source": [
        "### 4.2.1 Confusion Matrix"
      ]
    },
    {
      "cell_type": "code",
      "metadata": {
        "id": "ZbDQDZqGNb6q",
        "colab": {
          "base_uri": "https://localhost:8080/",
          "height": 598
        },
        "outputId": "43cb252f-8a20-4cae-8233-a7ca49dddf30"
      },
      "source": [
        "cm_display_lr = ConfusionMatrixDisplay(lr_cm, display_labels=logisticRegr.classes_)\n",
        "fig, ax = plt.subplots(figsize=(10,10)) # adjust the size\n",
        "cm_display_lr.plot(ax=ax,cmap='PuRd')"
      ],
      "execution_count": null,
      "outputs": [
        {
          "output_type": "execute_result",
          "data": {
            "text/plain": [
              "<sklearn.metrics._plot.confusion_matrix.ConfusionMatrixDisplay at 0x7f3149465290>"
            ]
          },
          "metadata": {},
          "execution_count": 23
        },
        {
          "output_type": "display_data",
          "data": {
            "image/png": "[encoded data removed]",
            "text/plain": [
              "<Figure size 720x720 with 2 Axes>"
            ]
          },
          "metadata": {
            "needs_background": "light"
          }
        }
      ]
    },
    {
      "cell_type": "markdown",
      "metadata": {
        "id": "xKUhP0005l8S"
      },
      "source": [
        "## 4.3 Random Forest Classifier\n",
        "\n",
        "random forest builds multiple decision trees and merges them together to get a more accurate and stable prediction.\n",
        "\n",
        "**Hyperparametes:**\n",
        "\n",
        "**Increasing the predictive power**\n",
        "\n",
        "Firstly, there is the **n_estimators** hyperparameter, which is just the number of trees the algorithm builds before taking the maximum voting or taking the averages of predictions. In general, a higher number of trees increases the performance and makes the predictions more stable, but it also slows down the computation.\n",
        "\n",
        "Another important hyperparameter is **max_features**, which is the maximum number of features random forest considers to split a node. Sklearn provides several options, all described in the documentation.\n",
        "\n",
        "The last important hyperparameter is **min_sample_leaf**. This determines the minimum number of leafs required to split an internal node.\n",
        "\n",
        "[click for more](https://builtin.com/data-science/random-forest-algorithm)"
      ]
    },
    {
      "cell_type": "code",
      "metadata": {
        "colab": {
          "base_uri": "https://localhost:8080/"
        },
        "id": "-jHcOeCEdubi",
        "outputId": "0219c7f8-d0aa-4d2e-dbdf-e4cbb352f2cb"
      },
      "source": [
        "rfc = RandomForestClassifier(n_estimators=1, random_state=0)\n",
        "\n",
        "rfc.fit(x_train, y_train)\n",
        "\n",
        "y_pred = rfc.predict(x_test)\n",
        "\n",
        "rfc_acc = accuracy_score(y_pred, y_test)\n",
        "rfc_prec = precision_score(y_test, y_pred, average='macro')\n",
        "rfc_recal = recall_score(y_test, y_pred, average='macro')\n",
        "rfc_cm = confusion_matrix(y_test,y_pred)\n",
        "rfc_f1 = f1_score(y_test, y_pred, average='macro')\n",
        "\n",
        "print('Accuracy:', '{0:.3f}'.format(rfc_acc*100))\n",
        "print('Precision:', '{0:.3f}'.format(rfc_prec*100))\n",
        "print('Recall:', '{0:.3f}'.format(rfc_recal*100))\n",
        "print('F1-score:', '{0:.3f}'.format(rfc_f1*100))\n",
        "print(classification_report(y_test,y_pred))"
      ],
      "execution_count": null,
      "outputs": [
        {
          "output_type": "stream",
          "name": "stdout",
          "text": [
            "Accuracy: 48.450\n",
            "Precision: 44.200\n",
            "Recall: 40.760\n",
            "F1-score: 38.363\n",
            "                   precision    recall  f1-score   support\n",
            "\n",
            "              Age       0.00      0.00      0.00         1\n",
            " Angry_Frustrated       0.50      0.36      0.42        25\n",
            "             Busy       0.75      0.30      0.43        10\n",
            "       Compliment       0.00      0.00      0.00         4\n",
            "          Confirm       0.38      0.38      0.38        52\n",
            "         Eat_Food       0.56      0.47      0.51        19\n",
            "         Farewell       0.00      0.00      0.00         2\n",
            "             Good       0.50      0.25      0.33         4\n",
            "         Greeting       0.11      0.50      0.18         4\n",
            "Happy_Excited_Joy       0.55      0.54      0.55       104\n",
            "           Health       0.46      0.46      0.46        37\n",
            "            Hobby       1.00      0.14      0.25         7\n",
            "        HowAreYou       0.00      0.00      0.00         4\n",
            "             Info       0.53      0.46      0.49        68\n",
            "           Insult       0.44      0.57      0.50         7\n",
            "     Introduction       0.36      0.40      0.38        20\n",
            "          Jealous       0.50      1.00      0.67         1\n",
            "             Joke       1.00      0.50      0.67         2\n",
            "             Love       0.50      0.44      0.47         9\n",
            "        Meet/Talk       0.50      0.67      0.57         3\n",
            "           Origin       0.50      1.00      0.67         2\n",
            "              Sad       0.54      0.67      0.60       102\n",
            "            Sleep       0.00      0.00      0.00         2\n",
            "            Sorry       1.00      0.33      0.50         6\n",
            "  Surprise_Amazed       0.36      0.31      0.33        13\n",
            "           Thanks       0.38      0.75      0.50         4\n",
            "             Time       0.50      0.50      0.50         4\n",
            "\n",
            "         accuracy                           0.48       516\n",
            "        macro avg       0.44      0.41      0.38       516\n",
            "     weighted avg       0.50      0.48      0.48       516\n",
            "\n"
          ]
        }
      ]
    },
    {
      "cell_type": "markdown",
      "metadata": {
        "id": "AmdLA-6ENb6u"
      },
      "source": [
        "### 4.3.1 Confusion Matrix"
      ]
    },
    {
      "cell_type": "code",
      "metadata": {
        "id": "Zz67XzYrNb6u",
        "colab": {
          "base_uri": "https://localhost:8080/",
          "height": 598
        },
        "outputId": "a980f5d2-fc79-4341-fdd1-f2ef202b1aed"
      },
      "source": [
        "cm_display_rfc = ConfusionMatrixDisplay(rfc_cm, display_labels=rfc.classes_)\n",
        "fig, ax = plt.subplots(figsize=(10,10)) # adjust the size\n",
        "cm_display_rfc.plot(ax=ax,cmap='hot_r')"
      ],
      "execution_count": null,
      "outputs": [
        {
          "output_type": "execute_result",
          "data": {
            "text/plain": [
              "<sklearn.metrics._plot.confusion_matrix.ConfusionMatrixDisplay at 0x7f3149465710>"
            ]
          },
          "metadata": {},
          "execution_count": 25
        },
        {
          "output_type": "display_data",
          "data": {
            "image/png": "[encoded data removed]",
            "text/plain": [
              "<Figure size 720x720 with 2 Axes>"
            ]
          },
          "metadata": {
            "needs_background": "light"
          }
        }
      ]
    },
    {
      "cell_type": "markdown",
      "metadata": {
        "id": "U6CVr8YU5l8Q"
      },
      "source": [
        "## 4.4 XGBoost Classifier\n",
        "\n",
        "**XGBoost** is a decision-tree-based ensemble Machine Learning algorithm that uses a *gradient boosting framework*. In prediction problems involving unstructured data (images, text, etc.) artificial neural networks tend to outperform all other algorithms or frameworks. However, when it comes to small-to-medium structured/tabular data, decision tree based algorithms are considered best-in-class right now.\n",
        "\n",
        "\n",
        "**Why does XGBoost perform so well?**\n",
        "\n",
        "> XGBoost and Gradient Boosting Machines (GBMs) are both ensemble tree methods that apply the principle of boosting weak learners (CARTs generally) using the gradient descent architecture. However, XGBoost improves upon the base GBM framework through systems optimization and algorithmic enhancements.\n",
        "\n",
        "\n",
        "[Click for more details](https://towardsdatascience.com/https-medium-com-vishalmorde-xgboost-algorithm-long-she-may-rein-edd9f99be63d)"
      ]
    },
    {
      "cell_type": "code",
      "metadata": {
        "colab": {
          "base_uri": "https://localhost:8080/"
        },
        "id": "hSi6lY4s5l8R",
        "outputId": "29c8942e-0cee-4340-d58f-de33e86eb145"
      },
      "source": [
        "xgbc = XGBClassifier(max_depth=16, n_estimators=1000,nthread = 6)\n",
        "xgbc.fit(x_train,y_train)\n",
        "y_pred = xgbc.predict(x_test)\n",
        "\n",
        "xgbc_acc = accuracy_score(y_pred, y_test)\n",
        "xgbc_prec = precision_score(y_test, y_pred, average='macro')\n",
        "xgbc_recal = recall_score(y_test, y_pred, average='macro')\n",
        "xgbc_cm = confusion_matrix(y_test,y_pred)\n",
        "xgbc_f1 = f1_score(y_test, y_pred, average='macro')\n",
        "\n",
        "print('Accuracy:', '{0:.3f}'.format(xgbc_acc*100))\n",
        "print('Precision:', '{0:.3f}'.format(xgbc_prec*100))\n",
        "print('Recall:', '{0:.3f}'.format(xgbc_recal*100))\n",
        "print('F1-score:', '{0:.3f}'.format(xgbc_f1*100))\n",
        "print(classification_report(y_test,y_pred))"
      ],
      "execution_count": null,
      "outputs": [
        {
          "output_type": "stream",
          "name": "stdout",
          "text": [
            "Accuracy: 58.721\n",
            "Precision: 48.477\n",
            "Recall: 49.885\n",
            "F1-score: 45.875\n",
            "                   precision    recall  f1-score   support\n",
            "\n",
            "              Age       0.00      0.00      0.00         1\n",
            " Angry_Frustrated       0.56      0.40      0.47        25\n",
            "             Busy       0.80      0.40      0.53        10\n",
            "       Compliment       0.25      0.75      0.38         4\n",
            "          Confirm       0.51      0.50      0.50        52\n",
            "         Eat_Food       0.50      0.53      0.51        19\n",
            "         Farewell       0.25      1.00      0.40         2\n",
            "             Good       0.50      0.50      0.50         4\n",
            "         Greeting       0.75      0.75      0.75         4\n",
            "Happy_Excited_Joy       0.70      0.74      0.72       104\n",
            "           Health       0.63      0.46      0.53        37\n",
            "            Hobby       0.50      0.14      0.22         7\n",
            "        HowAreYou       0.50      0.25      0.33         4\n",
            "             Info       0.62      0.54      0.58        68\n",
            "           Insult       0.20      0.14      0.17         7\n",
            "     Introduction       0.46      0.30      0.36        20\n",
            "          Jealous       1.00      1.00      1.00         1\n",
            "             Joke       0.50      0.50      0.50         2\n",
            "             Love       0.46      0.67      0.55         9\n",
            "        Meet/Talk       0.00      0.00      0.00         3\n",
            "           Origin       0.40      1.00      0.57         2\n",
            "              Sad       0.64      0.77      0.70       102\n",
            "            Sleep       0.00      0.00      0.00         2\n",
            "            Sorry       0.40      0.33      0.36         6\n",
            "  Surprise_Amazed       0.54      0.54      0.54        13\n",
            "           Thanks       0.43      0.75      0.55         4\n",
            "             Time       1.00      0.50      0.67         4\n",
            "\n",
            "         accuracy                           0.59       516\n",
            "        macro avg       0.48      0.50      0.46       516\n",
            "     weighted avg       0.59      0.59      0.58       516\n",
            "\n"
          ]
        }
      ]
    },
    {
      "cell_type": "markdown",
      "metadata": {
        "id": "qNkqGeLSNb6y"
      },
      "source": [
        "### 4.4.1 Confusion Matrix"
      ]
    },
    {
      "cell_type": "code",
      "metadata": {
        "id": "7bDEkjufNb6z",
        "colab": {
          "base_uri": "https://localhost:8080/",
          "height": 598
        },
        "outputId": "72b1604e-0d5e-4781-988f-3bf56c3a270a"
      },
      "source": [
        "cm_display_xgbc = ConfusionMatrixDisplay(xgbc_cm, display_labels=xgbc.classes_)\n",
        "_, ax = plt.subplots(figsize=(10,10)) # adjust the size\n",
        "cm_display_xgbc.plot(ax=ax,cmap='Purples')"
      ],
      "execution_count": null,
      "outputs": [
        {
          "output_type": "execute_result",
          "data": {
            "text/plain": [
              "<sklearn.metrics._plot.confusion_matrix.ConfusionMatrixDisplay at 0x7f313df3e190>"
            ]
          },
          "metadata": {},
          "execution_count": 27
        },
        {
          "output_type": "display_data",
          "data": {
            "image/png": "[encoded data removed]",
            "text/plain": [
              "<Figure size 720x720 with 2 Axes>"
            ]
          },
          "metadata": {
            "needs_background": "light"
          }
        }
      ]
    },
    {
      "cell_type": "markdown",
      "metadata": {
        "id": "N1vJ2HuI5l8c"
      },
      "source": [
        "## 4.5 Multinomial Naive Bayes Classifier"
      ]
    },
    {
      "cell_type": "code",
      "metadata": {
        "colab": {
          "base_uri": "https://localhost:8080/"
        },
        "id": "70azzMd55l8e",
        "outputId": "5a0a5628-c0c5-4c2a-c651-87ae3cf82849"
      },
      "source": [
        "mnb = MultinomialNB()\n",
        "mnb.fit(x_train, y_train)\n",
        "\n",
        "y_pred = mnb.predict(x_test)\n",
        "\n",
        "mnb_acc = accuracy_score(y_pred, y_test)\n",
        "mnb_prec = precision_score(y_test, y_pred, average='macro')\n",
        "mnb_recal = recall_score(y_test, y_pred, average='macro')\n",
        "mnb_cm = confusion_matrix(y_test,y_pred)\n",
        "mnb_f1 = f1_score(y_test, y_pred, average='macro')\n",
        "\n",
        "print('Accuracy:', '{0:.3f}'.format(mnb_acc*100))\n",
        "print('Precision:', '{0:.3f}'.format(mnb_prec*100))\n",
        "print('Recall:', '{0:.3f}'.format(mnb_recal*100))\n",
        "print('F1-score:', '{0:.3f}'.format(mnb_f1*100))\n",
        "print(classification_report(y_test,y_pred))"
      ],
      "execution_count": null,
      "outputs": [
        {
          "output_type": "stream",
          "name": "stdout",
          "text": [
            "Accuracy: 44.186\n",
            "Precision: 10.670\n",
            "Recall: 9.334\n",
            "F1-score: 7.555\n",
            "                   precision    recall  f1-score   support\n",
            "\n",
            "              Age       0.00      0.00      0.00         1\n",
            " Angry_Frustrated       0.00      0.00      0.00        25\n",
            "             Busy       0.00      0.00      0.00        10\n",
            "       Compliment       0.00      0.00      0.00         4\n",
            "          Confirm       0.54      0.27      0.36        52\n",
            "         Eat_Food       0.00      0.00      0.00        19\n",
            "         Farewell       0.00      0.00      0.00         2\n",
            "             Good       0.00      0.00      0.00         4\n",
            "         Greeting       0.00      0.00      0.00         4\n",
            "Happy_Excited_Joy       0.51      0.84      0.64       104\n",
            "           Health       1.00      0.03      0.05        37\n",
            "            Hobby       0.00      0.00      0.00         7\n",
            "        HowAreYou       0.00      0.00      0.00         4\n",
            "             Info       0.45      0.46      0.45        68\n",
            "           Insult       0.00      0.00      0.00         7\n",
            "     Introduction       0.00      0.00      0.00        20\n",
            "          Jealous       0.00      0.00      0.00         1\n",
            "             Joke       0.00      0.00      0.00         2\n",
            "             Love       0.00      0.00      0.00         9\n",
            "        Meet/Talk       0.00      0.00      0.00         3\n",
            "           Origin       0.00      0.00      0.00         2\n",
            "              Sad       0.38      0.93      0.54       102\n",
            "            Sleep       0.00      0.00      0.00         2\n",
            "            Sorry       0.00      0.00      0.00         6\n",
            "  Surprise_Amazed       0.00      0.00      0.00        13\n",
            "           Thanks       0.00      0.00      0.00         4\n",
            "             Time       0.00      0.00      0.00         4\n",
            "\n",
            "         accuracy                           0.44       516\n",
            "        macro avg       0.11      0.09      0.08       516\n",
            "     weighted avg       0.36      0.44      0.33       516\n",
            "\n"
          ]
        }
      ]
    },
    {
      "cell_type": "markdown",
      "metadata": {
        "id": "woG5FNY5Nb62"
      },
      "source": [
        "### 4.5.1 Confusion Matrix"
      ]
    },
    {
      "cell_type": "code",
      "metadata": {
        "id": "itzNeGR4Nb63",
        "colab": {
          "base_uri": "https://localhost:8080/",
          "height": 598
        },
        "outputId": "a0a3d682-b611-4750-c11f-0b33393d273f"
      },
      "source": [
        "cm_display_mnb = ConfusionMatrixDisplay(mnb_cm, display_labels=mnb.classes_)\n",
        "fig, ax = plt.subplots(figsize=(10,10)) # adjust the size\n",
        "cm_display_mnb.plot(ax=ax,cmap='Reds')"
      ],
      "execution_count": null,
      "outputs": [
        {
          "output_type": "execute_result",
          "data": {
            "text/plain": [
              "<sklearn.metrics._plot.confusion_matrix.ConfusionMatrixDisplay at 0x7f313b13f4d0>"
            ]
          },
          "metadata": {},
          "execution_count": 29
        },
        {
          "output_type": "display_data",
          "data": {
            "image/png": "[encoded data removed]",
            "text/plain": [
              "<Figure size 720x720 with 2 Axes>"
            ]
          },
          "metadata": {
            "needs_background": "light"
          }
        }
      ]
    },
    {
      "cell_type": "markdown",
      "metadata": {
        "id": "b0Gsz3AJ5l8h"
      },
      "source": [
        "## 4.6 Decision Tree Classifier"
      ]
    },
    {
      "cell_type": "code",
      "metadata": {
        "colab": {
          "base_uri": "https://localhost:8080/"
        },
        "id": "rTslzT_h5l8h",
        "scrolled": true,
        "outputId": "501c46c2-4ea4-48c0-9d36-bed12ac944ec"
      },
      "source": [
        "dt = tree.DecisionTreeClassifier()\n",
        "dt.fit(x_train, y_train)\n",
        "y_pred = dt.predict(x_test)\n",
        "\n",
        "\n",
        "dt_acc = accuracy_score(y_pred, y_test)\n",
        "dt_prec = precision_score(y_test, y_pred, average='macro')\n",
        "dt_recal = recall_score(y_test, y_pred, average='macro')\n",
        "dt_cm = confusion_matrix(y_test,y_pred)\n",
        "dt_f1 = f1_score(y_test, y_pred, average='macro')\n",
        "\n",
        "print('Accuracy:', '{0:.3f}'.format(dt_acc*100))\n",
        "print('Precision:', '{0:.3f}'.format(dt_prec*100))\n",
        "print('Recall:', '{0:.3f}'.format(dt_recal*100))\n",
        "print('F1-score:', '{0:.3f}'.format(dt_f1*100))\n",
        "print(classification_report(y_test,y_pred))"
      ],
      "execution_count": null,
      "outputs": [
        {
          "output_type": "stream",
          "name": "stdout",
          "text": [
            "Accuracy: 53.682\n",
            "Precision: 54.229\n",
            "Recall: 47.639\n",
            "F1-score: 48.513\n",
            "                   precision    recall  f1-score   support\n",
            "\n",
            "              Age       0.00      0.00      0.00         1\n",
            " Angry_Frustrated       0.75      0.36      0.49        25\n",
            "             Busy       0.80      0.40      0.53        10\n",
            "       Compliment       0.75      0.75      0.75         4\n",
            "          Confirm       0.32      0.38      0.35        52\n",
            "         Eat_Food       0.50      0.37      0.42        19\n",
            "         Farewell       0.00      0.00      0.00         2\n",
            "             Good       0.33      0.25      0.29         4\n",
            "         Greeting       0.67      0.50      0.57         4\n",
            "Happy_Excited_Joy       0.61      0.68      0.65       104\n",
            "           Health       0.55      0.49      0.51        37\n",
            "            Hobby       0.80      0.57      0.67         7\n",
            "        HowAreYou       0.00      0.00      0.00         4\n",
            "             Info       0.69      0.54      0.61        68\n",
            "           Insult       1.00      0.57      0.73         7\n",
            "     Introduction       0.41      0.45      0.43        20\n",
            "          Jealous       1.00      1.00      1.00         1\n",
            "             Joke       0.67      1.00      0.80         2\n",
            "             Love       0.29      0.44      0.35         9\n",
            "        Meet/Talk       1.00      0.67      0.80         3\n",
            "           Origin       0.50      1.00      0.67         2\n",
            "              Sad       0.55      0.64      0.59       102\n",
            "            Sleep       0.00      0.00      0.00         2\n",
            "            Sorry       0.29      0.33      0.31         6\n",
            "  Surprise_Amazed       0.43      0.46      0.44        13\n",
            "           Thanks       0.75      0.75      0.75         4\n",
            "             Time       1.00      0.25      0.40         4\n",
            "\n",
            "         accuracy                           0.54       516\n",
            "        macro avg       0.54      0.48      0.49       516\n",
            "     weighted avg       0.56      0.54      0.54       516\n",
            "\n"
          ]
        }
      ]
    },
    {
      "cell_type": "markdown",
      "metadata": {
        "id": "Kl1dMwmSNb65"
      },
      "source": [
        "### 4.6.1 Confusion Matrix"
      ]
    },
    {
      "cell_type": "code",
      "metadata": {
        "id": "mlLYEX5bNb65",
        "colab": {
          "base_uri": "https://localhost:8080/",
          "height": 598
        },
        "outputId": "875a1a71-5b7e-46d4-86db-e0a33db7a7c6"
      },
      "source": [
        "cm_display_dt = ConfusionMatrixDisplay(dt_cm, display_labels=dt.classes_)\n",
        "fig, ax = plt.subplots(figsize=(10,10)) # adjust the size\n",
        "cm_display_dt.plot(ax=ax,cmap='Greens')"
      ],
      "execution_count": null,
      "outputs": [
        {
          "output_type": "execute_result",
          "data": {
            "text/plain": [
              "<sklearn.metrics._plot.confusion_matrix.ConfusionMatrixDisplay at 0x7f313aa194d0>"
            ]
          },
          "metadata": {},
          "execution_count": 31
        },
        {
          "output_type": "display_data",
          "data": {
            "image/png": "[encoded data removed]",
            "text/plain": [
              "<Figure size 720x720 with 2 Axes>"
            ]
          },
          "metadata": {
            "needs_background": "light"
          }
        }
      ]
    },
    {
      "cell_type": "markdown",
      "metadata": {
        "id": "_3N53CJHotYu"
      },
      "source": [
        "# 4.7 Multi Layer Perception"
      ]
    },
    {
      "cell_type": "code",
      "metadata": {
        "colab": {
          "base_uri": "https://localhost:8080/"
        },
        "id": "CPWhk7weoyCN",
        "outputId": "30298c75-6a3d-4808-babe-4aa4b6e2be8e"
      },
      "source": [
        "mlp = MLPClassifier(random_state=5, max_iter=300)\n",
        "\n",
        "mlp.fit(x_train, y_train)\n",
        "\n",
        "y_pred = mlp.predict(x_test)\n",
        "\n",
        "mlp_acc = accuracy_score(y_pred, y_test)\n",
        "mlp_prec = precision_score(y_test, y_pred, average='macro')\n",
        "mlp_recal = recall_score(y_test, y_pred, average='macro')\n",
        "mlp_cm = confusion_matrix(y_test,y_pred)\n",
        "mlp_f1 = f1_score(y_test, y_pred, average='macro')\n",
        "\n",
        "print('Accuracy:', '{0:.3f}'.format(mlp_acc*100))\n",
        "print('Precision:', '{0:.3f}'.format(mlp_prec*100))\n",
        "print('Recall:', '{0:.3f}'.format(mlp_recal*100))\n",
        "print('F1-score:', '{0:.3f}'.format(mlp_f1*100))\n",
        "print(classification_report(y_test,y_pred))"
      ],
      "execution_count": null,
      "outputs": [
        {
          "output_type": "stream",
          "name": "stdout",
          "text": [
            "Accuracy: 70.930\n",
            "Precision: 65.781\n",
            "Recall: 61.862\n",
            "F1-score: 61.241\n",
            "                   precision    recall  f1-score   support\n",
            "\n",
            "              Age       0.00      0.00      0.00         1\n",
            " Angry_Frustrated       0.81      0.52      0.63        25\n",
            "             Busy       0.86      0.60      0.71        10\n",
            "       Compliment       0.50      0.75      0.60         4\n",
            "          Confirm       0.62      0.56      0.59        52\n",
            "         Eat_Food       0.68      0.68      0.68        19\n",
            "         Farewell       0.00      0.00      0.00         2\n",
            "             Good       0.40      0.50      0.44         4\n",
            "         Greeting       0.75      0.75      0.75         4\n",
            "Happy_Excited_Joy       0.81      0.83      0.82       104\n",
            "           Health       0.82      0.76      0.79        37\n",
            "            Hobby       0.75      0.43      0.55         7\n",
            "        HowAreYou       1.00      0.50      0.67         4\n",
            "             Info       0.66      0.63      0.65        68\n",
            "           Insult       0.83      0.71      0.77         7\n",
            "     Introduction       0.39      0.35      0.37        20\n",
            "          Jealous       1.00      1.00      1.00         1\n",
            "             Joke       0.67      1.00      0.80         2\n",
            "             Love       0.47      0.78      0.58         9\n",
            "        Meet/Talk       1.00      0.33      0.50         3\n",
            "           Origin       0.50      1.00      0.67         2\n",
            "              Sad       0.74      0.91      0.82       102\n",
            "            Sleep       1.00      1.00      1.00         2\n",
            "            Sorry       0.50      0.17      0.25         6\n",
            "  Surprise_Amazed       0.75      0.69      0.72        13\n",
            "           Thanks       0.25      0.50      0.33         4\n",
            "             Time       1.00      0.75      0.86         4\n",
            "\n",
            "         accuracy                           0.71       516\n",
            "        macro avg       0.66      0.62      0.61       516\n",
            "     weighted avg       0.71      0.71      0.70       516\n",
            "\n"
          ]
        }
      ]
    },
    {
      "cell_type": "code",
      "source": [
        "cm_display_mlp = ConfusionMatrixDisplay(mlp_cm, display_labels=mlp.classes_)\n",
        "fig, ax = plt.subplots(figsize=(10,10)) # adjust the size\n",
        "cm_display_mlp.plot(ax=ax,cmap='bone_r')"
      ],
      "metadata": {
        "colab": {
          "base_uri": "https://localhost:8080/",
          "height": 598
        },
        "id": "9FB5CL2c7DeN",
        "outputId": "8a27630a-2884-40cf-a580-f8dacc75406f"
      },
      "execution_count": null,
      "outputs": [
        {
          "output_type": "execute_result",
          "data": {
            "text/plain": [
              "<sklearn.metrics._plot.confusion_matrix.ConfusionMatrixDisplay at 0x7f3138850190>"
            ]
          },
          "metadata": {},
          "execution_count": 38
        },
        {
          "output_type": "display_data",
          "data": {
            "image/png": "[encoded data removed]",
            "text/plain": [
              "<Figure size 720x720 with 2 Axes>"
            ]
          },
          "metadata": {
            "needs_background": "light"
          }
        }
      ]
    },
    {
      "cell_type": "markdown",
      "metadata": {
        "id": "T6tZvhLtNb65"
      },
      "source": [
        "# 5. Summary Visualization"
      ]
    },
    {
      "cell_type": "code",
      "metadata": {
        "id": "5DGTk167Nb66"
      },
      "source": [
        "def get_prec_recall_per_emotion(cm):\n",
        "    per_emotion_precision = []\n",
        "    for i in range(len(cm)):\n",
        "        count_per_emotion,accurate = 0,0\n",
        "        for j in range(len(cm)):\n",
        "            if i == j:\n",
        "                accurate = cm[j][i]\n",
        "            count_per_emotion += cm[j][i]\n",
        "        per_emotion_precision.append(round((accurate/count_per_emotion)*100,3))\n",
        "        \n",
        "    per_emotion_recall = []\n",
        "    for i in range(len(cm)):\n",
        "        count_per_emotion,accurate = 0,0\n",
        "        for j in range(len(cm)):\n",
        "            if i == j:\n",
        "                accurate = cm[i][j]\n",
        "            count_per_emotion += cm[i][j]\n",
        "        per_emotion_recall.append(round((accurate/count_per_emotion)*100,3))\n",
        "        \n",
        "    return per_emotion_precision, per_emotion_recall"
      ],
      "execution_count": null,
      "outputs": []
    },
    {
      "cell_type": "markdown",
      "metadata": {
        "id": "17nk5J1sNb67"
      },
      "source": [
        "## 5.1 - Precision of all models"
      ]
    },
    {
      "cell_type": "code",
      "metadata": {
        "scrolled": true,
        "id": "8cTKzU_zNb68",
        "colab": {
          "base_uri": "https://localhost:8080/",
          "height": 896
        },
        "outputId": "8df09a34-d3d8-45ca-bdfe-07a775468869"
      },
      "source": [
        "svm_per_prec,svm_per_recall = get_prec_recall_per_emotion(svm_cm)\n",
        "lr_per_prec,lr_per_recall = get_prec_recall_per_emotion(lr_cm)\n",
        "rfc_per_prec,rfc_per_recall = get_prec_recall_per_emotion(rfc_cm)\n",
        "xgbc_per_prec,xgbc_per_recall = get_prec_recall_per_emotion(xgbc_cm)\n",
        "mnb_per_prec,mnb_per_recall = get_prec_recall_per_emotion(mnb_cm)\n",
        "dt_per_prec,dt_per_recall = get_prec_recall_per_emotion(dt_cm)\n",
        "mlp_per_prec,mlp_per_recall = get_prec_recall_per_emotion(mlp_cm)\n",
        "\n",
        "per_precision_list = pd.DataFrame({'Support vector Machine' : svm_per_prec,\n",
        "                                'Logistic Regression' : lr_per_prec,\n",
        "                                'Random Forest' : rfc_per_prec,\n",
        "                                'XGBoost' : xgbc_per_prec,\n",
        "                                'Naive Bayes' : mnb_per_prec,\n",
        "                                'Decision Tree' : dt_per_prec,\n",
        "                                'Multi Layer Perceptron' : mlp_per_prec}, \n",
        "                                index=svm.classes_)\n",
        "per_precision_list"
      ],
      "execution_count": null,
      "outputs": [
        {
          "output_type": "execute_result",
          "data": {
            "text/html": [
              "<div>\n",
              "<style scoped>\n",
              "    .dataframe tbody tr th:only-of-type {\n",
              "        vertical-align: middle;\n",
              "    }\n",
              "\n",
              "    .dataframe tbody tr th {\n",
              "        vertical-align: top;\n",
              "    }\n",
              "\n",
              "    .dataframe thead th {\n",
              "        text-align: right;\n",
              "    }\n",
              "</style>\n",
              "<table border=\"1\" class=\"dataframe\">\n",
              "  <thead>\n",
              "    <tr style=\"text-align: right;\">\n",
              "      <th></th>\n",
              "      <th>Support vector Machine</th>\n",
              "      <th>Logistic Regression</th>\n",
              "      <th>Random Forest</th>\n",
              "      <th>XGBoost</th>\n",
              "      <th>Naive Bayes</th>\n",
              "      <th>Decision Tree</th>\n",
              "      <th>Multi Layer Perceptron</th>\n",
              "    </tr>\n",
              "  </thead>\n",
              "  <tbody>\n",
              "    <tr>\n",
              "      <th>Age</th>\n",
              "      <td>NaN</td>\n",
              "      <td>NaN</td>\n",
              "      <td>0.000</td>\n",
              "      <td>0.000</td>\n",
              "      <td>NaN</td>\n",
              "      <td>0.000</td>\n",
              "      <td>NaN</td>\n",
              "    </tr>\n",
              "    <tr>\n",
              "      <th>Angry_Frustrated</th>\n",
              "      <td>68.421</td>\n",
              "      <td>75.000</td>\n",
              "      <td>50.000</td>\n",
              "      <td>55.556</td>\n",
              "      <td>NaN</td>\n",
              "      <td>63.636</td>\n",
              "      <td>81.250</td>\n",
              "    </tr>\n",
              "    <tr>\n",
              "      <th>Busy</th>\n",
              "      <td>66.667</td>\n",
              "      <td>100.000</td>\n",
              "      <td>75.000</td>\n",
              "      <td>80.000</td>\n",
              "      <td>NaN</td>\n",
              "      <td>42.857</td>\n",
              "      <td>85.714</td>\n",
              "    </tr>\n",
              "    <tr>\n",
              "      <th>Compliment</th>\n",
              "      <td>42.857</td>\n",
              "      <td>NaN</td>\n",
              "      <td>0.000</td>\n",
              "      <td>25.000</td>\n",
              "      <td>NaN</td>\n",
              "      <td>60.000</td>\n",
              "      <td>50.000</td>\n",
              "    </tr>\n",
              "    <tr>\n",
              "      <th>Confirm</th>\n",
              "      <td>65.957</td>\n",
              "      <td>49.091</td>\n",
              "      <td>38.462</td>\n",
              "      <td>50.980</td>\n",
              "      <td>53.846</td>\n",
              "      <td>37.288</td>\n",
              "      <td>61.702</td>\n",
              "    </tr>\n",
              "    <tr>\n",
              "      <th>Eat_Food</th>\n",
              "      <td>65.000</td>\n",
              "      <td>66.667</td>\n",
              "      <td>56.250</td>\n",
              "      <td>50.000</td>\n",
              "      <td>NaN</td>\n",
              "      <td>50.000</td>\n",
              "      <td>68.421</td>\n",
              "    </tr>\n",
              "    <tr>\n",
              "      <th>Farewell</th>\n",
              "      <td>0.000</td>\n",
              "      <td>NaN</td>\n",
              "      <td>NaN</td>\n",
              "      <td>25.000</td>\n",
              "      <td>NaN</td>\n",
              "      <td>0.000</td>\n",
              "      <td>NaN</td>\n",
              "    </tr>\n",
              "    <tr>\n",
              "      <th>Good</th>\n",
              "      <td>100.000</td>\n",
              "      <td>NaN</td>\n",
              "      <td>50.000</td>\n",
              "      <td>50.000</td>\n",
              "      <td>NaN</td>\n",
              "      <td>33.333</td>\n",
              "      <td>40.000</td>\n",
              "    </tr>\n",
              "    <tr>\n",
              "      <th>Greeting</th>\n",
              "      <td>75.000</td>\n",
              "      <td>50.000</td>\n",
              "      <td>11.111</td>\n",
              "      <td>75.000</td>\n",
              "      <td>NaN</td>\n",
              "      <td>66.667</td>\n",
              "      <td>75.000</td>\n",
              "    </tr>\n",
              "    <tr>\n",
              "      <th>Happy_Excited_Joy</th>\n",
              "      <td>84.615</td>\n",
              "      <td>58.503</td>\n",
              "      <td>55.446</td>\n",
              "      <td>70.000</td>\n",
              "      <td>51.479</td>\n",
              "      <td>61.765</td>\n",
              "      <td>81.132</td>\n",
              "    </tr>\n",
              "    <tr>\n",
              "      <th>Health</th>\n",
              "      <td>79.412</td>\n",
              "      <td>94.118</td>\n",
              "      <td>45.946</td>\n",
              "      <td>62.963</td>\n",
              "      <td>100.000</td>\n",
              "      <td>46.341</td>\n",
              "      <td>82.353</td>\n",
              "    </tr>\n",
              "    <tr>\n",
              "      <th>Hobby</th>\n",
              "      <td>75.000</td>\n",
              "      <td>100.000</td>\n",
              "      <td>100.000</td>\n",
              "      <td>50.000</td>\n",
              "      <td>NaN</td>\n",
              "      <td>80.000</td>\n",
              "      <td>75.000</td>\n",
              "    </tr>\n",
              "    <tr>\n",
              "      <th>HowAreYou</th>\n",
              "      <td>75.000</td>\n",
              "      <td>NaN</td>\n",
              "      <td>0.000</td>\n",
              "      <td>50.000</td>\n",
              "      <td>NaN</td>\n",
              "      <td>0.000</td>\n",
              "      <td>100.000</td>\n",
              "    </tr>\n",
              "    <tr>\n",
              "      <th>Info</th>\n",
              "      <td>66.667</td>\n",
              "      <td>52.308</td>\n",
              "      <td>52.542</td>\n",
              "      <td>61.667</td>\n",
              "      <td>44.928</td>\n",
              "      <td>64.286</td>\n",
              "      <td>66.154</td>\n",
              "    </tr>\n",
              "    <tr>\n",
              "      <th>Insult</th>\n",
              "      <td>71.429</td>\n",
              "      <td>100.000</td>\n",
              "      <td>44.444</td>\n",
              "      <td>20.000</td>\n",
              "      <td>NaN</td>\n",
              "      <td>50.000</td>\n",
              "      <td>83.333</td>\n",
              "    </tr>\n",
              "    <tr>\n",
              "      <th>Introduction</th>\n",
              "      <td>47.619</td>\n",
              "      <td>50.000</td>\n",
              "      <td>36.364</td>\n",
              "      <td>46.154</td>\n",
              "      <td>NaN</td>\n",
              "      <td>43.750</td>\n",
              "      <td>38.889</td>\n",
              "    </tr>\n",
              "    <tr>\n",
              "      <th>Jealous</th>\n",
              "      <td>100.000</td>\n",
              "      <td>NaN</td>\n",
              "      <td>50.000</td>\n",
              "      <td>100.000</td>\n",
              "      <td>NaN</td>\n",
              "      <td>100.000</td>\n",
              "      <td>100.000</td>\n",
              "    </tr>\n",
              "    <tr>\n",
              "      <th>Joke</th>\n",
              "      <td>100.000</td>\n",
              "      <td>100.000</td>\n",
              "      <td>100.000</td>\n",
              "      <td>50.000</td>\n",
              "      <td>NaN</td>\n",
              "      <td>66.667</td>\n",
              "      <td>66.667</td>\n",
              "    </tr>\n",
              "    <tr>\n",
              "      <th>Love</th>\n",
              "      <td>53.846</td>\n",
              "      <td>66.667</td>\n",
              "      <td>50.000</td>\n",
              "      <td>46.154</td>\n",
              "      <td>NaN</td>\n",
              "      <td>23.529</td>\n",
              "      <td>46.667</td>\n",
              "    </tr>\n",
              "    <tr>\n",
              "      <th>Meet/Talk</th>\n",
              "      <td>100.000</td>\n",
              "      <td>NaN</td>\n",
              "      <td>50.000</td>\n",
              "      <td>NaN</td>\n",
              "      <td>NaN</td>\n",
              "      <td>100.000</td>\n",
              "      <td>100.000</td>\n",
              "    </tr>\n",
              "    <tr>\n",
              "      <th>Origin</th>\n",
              "      <td>40.000</td>\n",
              "      <td>66.667</td>\n",
              "      <td>50.000</td>\n",
              "      <td>40.000</td>\n",
              "      <td>NaN</td>\n",
              "      <td>50.000</td>\n",
              "      <td>50.000</td>\n",
              "    </tr>\n",
              "    <tr>\n",
              "      <th>Sad</th>\n",
              "      <td>74.790</td>\n",
              "      <td>50.000</td>\n",
              "      <td>53.968</td>\n",
              "      <td>63.710</td>\n",
              "      <td>37.849</td>\n",
              "      <td>52.800</td>\n",
              "      <td>73.810</td>\n",
              "    </tr>\n",
              "    <tr>\n",
              "      <th>Sleep</th>\n",
              "      <td>100.000</td>\n",
              "      <td>NaN</td>\n",
              "      <td>NaN</td>\n",
              "      <td>0.000</td>\n",
              "      <td>NaN</td>\n",
              "      <td>0.000</td>\n",
              "      <td>100.000</td>\n",
              "    </tr>\n",
              "    <tr>\n",
              "      <th>Sorry</th>\n",
              "      <td>50.000</td>\n",
              "      <td>NaN</td>\n",
              "      <td>100.000</td>\n",
              "      <td>40.000</td>\n",
              "      <td>NaN</td>\n",
              "      <td>33.333</td>\n",
              "      <td>50.000</td>\n",
              "    </tr>\n",
              "    <tr>\n",
              "      <th>Surprise_Amazed</th>\n",
              "      <td>71.429</td>\n",
              "      <td>NaN</td>\n",
              "      <td>36.364</td>\n",
              "      <td>53.846</td>\n",
              "      <td>NaN</td>\n",
              "      <td>50.000</td>\n",
              "      <td>75.000</td>\n",
              "    </tr>\n",
              "    <tr>\n",
              "      <th>Thanks</th>\n",
              "      <td>50.000</td>\n",
              "      <td>100.000</td>\n",
              "      <td>37.500</td>\n",
              "      <td>42.857</td>\n",
              "      <td>NaN</td>\n",
              "      <td>23.077</td>\n",
              "      <td>25.000</td>\n",
              "    </tr>\n",
              "    <tr>\n",
              "      <th>Time</th>\n",
              "      <td>100.000</td>\n",
              "      <td>NaN</td>\n",
              "      <td>50.000</td>\n",
              "      <td>100.000</td>\n",
              "      <td>NaN</td>\n",
              "      <td>100.000</td>\n",
              "      <td>100.000</td>\n",
              "    </tr>\n",
              "  </tbody>\n",
              "</table>\n",
              "</div>"
            ],
            "text/plain": [
              "                   Support vector Machine  ...  Multi Layer Perceptron\n",
              "Age                                   NaN  ...                     NaN\n",
              "Angry_Frustrated                   68.421  ...                  81.250\n",
              "Busy                               66.667  ...                  85.714\n",
              "Compliment                         42.857  ...                  50.000\n",
              "Confirm                            65.957  ...                  61.702\n",
              "Eat_Food                           65.000  ...                  68.421\n",
              "Farewell                            0.000  ...                     NaN\n",
              "Good                              100.000  ...                  40.000\n",
              "Greeting                           75.000  ...                  75.000\n",
              "Happy_Excited_Joy                  84.615  ...                  81.132\n",
              "Health                             79.412  ...                  82.353\n",
              "Hobby                              75.000  ...                  75.000\n",
              "HowAreYou                          75.000  ...                 100.000\n",
              "Info                               66.667  ...                  66.154\n",
              "Insult                             71.429  ...                  83.333\n",
              "Introduction                       47.619  ...                  38.889\n",
              "Jealous                           100.000  ...                 100.000\n",
              "Joke                              100.000  ...                  66.667\n",
              "Love                               53.846  ...                  46.667\n",
              "Meet/Talk                         100.000  ...                 100.000\n",
              "Origin                             40.000  ...                  50.000\n",
              "Sad                                74.790  ...                  73.810\n",
              "Sleep                             100.000  ...                 100.000\n",
              "Sorry                              50.000  ...                  50.000\n",
              "Surprise_Amazed                    71.429  ...                  75.000\n",
              "Thanks                             50.000  ...                  25.000\n",
              "Time                              100.000  ...                 100.000\n",
              "\n",
              "[27 rows x 7 columns]"
            ]
          },
          "metadata": {},
          "execution_count": 79
        }
      ]
    },
    {
      "cell_type": "code",
      "metadata": {
        "colab": {
          "base_uri": "https://localhost:8080/"
        },
        "id": "B6WVPsWDlBn1",
        "outputId": "0e6d98ac-d61f-438a-cccc-d113f4446f65"
      },
      "source": [
        "print(len(set(y_test)))\n",
        "import collections\n",
        "counter=collections.Counter(y_test)\n",
        "counter"
      ],
      "execution_count": null,
      "outputs": [
        {
          "output_type": "stream",
          "name": "stdout",
          "text": [
            "27\n"
          ]
        },
        {
          "output_type": "execute_result",
          "data": {
            "text/plain": [
              "Counter({'Age': 1,\n",
              "         'Angry_Frustrated': 25,\n",
              "         'Busy': 10,\n",
              "         'Compliment': 4,\n",
              "         'Confirm': 52,\n",
              "         'Eat_Food': 19,\n",
              "         'Farewell': 2,\n",
              "         'Good': 4,\n",
              "         'Greeting': 4,\n",
              "         'Happy_Excited_Joy': 104,\n",
              "         'Health': 37,\n",
              "         'Hobby': 7,\n",
              "         'HowAreYou': 4,\n",
              "         'Info': 68,\n",
              "         'Insult': 7,\n",
              "         'Introduction': 20,\n",
              "         'Jealous': 1,\n",
              "         'Joke': 2,\n",
              "         'Love': 9,\n",
              "         'Meet/Talk': 3,\n",
              "         'Origin': 2,\n",
              "         'Sad': 102,\n",
              "         'Sleep': 2,\n",
              "         'Sorry': 6,\n",
              "         'Surprise_Amazed': 13,\n",
              "         'Thanks': 4,\n",
              "         'Time': 4})"
            ]
          },
          "metadata": {},
          "execution_count": 80
        }
      ]
    },
    {
      "cell_type": "markdown",
      "metadata": {
        "id": "Te9JhocCNb69"
      },
      "source": [
        "## 5.2 - Recall of all models"
      ]
    },
    {
      "cell_type": "code",
      "metadata": {
        "scrolled": true,
        "id": "WJptGh_vNb69",
        "colab": {
          "base_uri": "https://localhost:8080/",
          "height": 896
        },
        "outputId": "db737799-f6fe-4c44-bf74-aaba449d6610"
      },
      "source": [
        "per_recall_list = pd.DataFrame({'Support vector Machine' : svm_per_recall,\n",
        "                                'Logistic Regression' : lr_per_recall,\n",
        "                                'Random Forest' : rfc_per_recall,\n",
        "                                'XGBoost' : xgbc_per_recall,\n",
        "                                'Naive Bayes' : mnb_per_recall,\n",
        "                                'Decision Tree' : dt_per_recall,\n",
        "                                'Multi Layer Perceptron' : mlp_per_recall}, \n",
        "                                index=svm.classes_)\n",
        "per_recall_list"
      ],
      "execution_count": null,
      "outputs": [
        {
          "output_type": "execute_result",
          "data": {
            "text/html": [
              "<div>\n",
              "<style scoped>\n",
              "    .dataframe tbody tr th:only-of-type {\n",
              "        vertical-align: middle;\n",
              "    }\n",
              "\n",
              "    .dataframe tbody tr th {\n",
              "        vertical-align: top;\n",
              "    }\n",
              "\n",
              "    .dataframe thead th {\n",
              "        text-align: right;\n",
              "    }\n",
              "</style>\n",
              "<table border=\"1\" class=\"dataframe\">\n",
              "  <thead>\n",
              "    <tr style=\"text-align: right;\">\n",
              "      <th></th>\n",
              "      <th>Support vector Machine</th>\n",
              "      <th>Logistic Regression</th>\n",
              "      <th>Random Forest</th>\n",
              "      <th>XGBoost</th>\n",
              "      <th>Naive Bayes</th>\n",
              "      <th>Decision Tree</th>\n",
              "      <th>Multi Layer Perceptron</th>\n",
              "    </tr>\n",
              "  </thead>\n",
              "  <tbody>\n",
              "    <tr>\n",
              "      <th>Age</th>\n",
              "      <td>0.000</td>\n",
              "      <td>0.000</td>\n",
              "      <td>0.000</td>\n",
              "      <td>0.000</td>\n",
              "      <td>0.000</td>\n",
              "      <td>0.000</td>\n",
              "      <td>0.000</td>\n",
              "    </tr>\n",
              "    <tr>\n",
              "      <th>Angry_Frustrated</th>\n",
              "      <td>52.000</td>\n",
              "      <td>12.000</td>\n",
              "      <td>36.000</td>\n",
              "      <td>40.000</td>\n",
              "      <td>0.000</td>\n",
              "      <td>28.000</td>\n",
              "      <td>52.000</td>\n",
              "    </tr>\n",
              "    <tr>\n",
              "      <th>Busy</th>\n",
              "      <td>60.000</td>\n",
              "      <td>30.000</td>\n",
              "      <td>30.000</td>\n",
              "      <td>40.000</td>\n",
              "      <td>0.000</td>\n",
              "      <td>30.000</td>\n",
              "      <td>60.000</td>\n",
              "    </tr>\n",
              "    <tr>\n",
              "      <th>Compliment</th>\n",
              "      <td>75.000</td>\n",
              "      <td>0.000</td>\n",
              "      <td>0.000</td>\n",
              "      <td>75.000</td>\n",
              "      <td>0.000</td>\n",
              "      <td>75.000</td>\n",
              "      <td>75.000</td>\n",
              "    </tr>\n",
              "    <tr>\n",
              "      <th>Confirm</th>\n",
              "      <td>59.615</td>\n",
              "      <td>51.923</td>\n",
              "      <td>38.462</td>\n",
              "      <td>50.000</td>\n",
              "      <td>26.923</td>\n",
              "      <td>42.308</td>\n",
              "      <td>55.769</td>\n",
              "    </tr>\n",
              "    <tr>\n",
              "      <th>Eat_Food</th>\n",
              "      <td>68.421</td>\n",
              "      <td>31.579</td>\n",
              "      <td>47.368</td>\n",
              "      <td>52.632</td>\n",
              "      <td>0.000</td>\n",
              "      <td>31.579</td>\n",
              "      <td>68.421</td>\n",
              "    </tr>\n",
              "    <tr>\n",
              "      <th>Farewell</th>\n",
              "      <td>0.000</td>\n",
              "      <td>0.000</td>\n",
              "      <td>0.000</td>\n",
              "      <td>100.000</td>\n",
              "      <td>0.000</td>\n",
              "      <td>0.000</td>\n",
              "      <td>0.000</td>\n",
              "    </tr>\n",
              "    <tr>\n",
              "      <th>Good</th>\n",
              "      <td>50.000</td>\n",
              "      <td>0.000</td>\n",
              "      <td>25.000</td>\n",
              "      <td>50.000</td>\n",
              "      <td>0.000</td>\n",
              "      <td>25.000</td>\n",
              "      <td>50.000</td>\n",
              "    </tr>\n",
              "    <tr>\n",
              "      <th>Greeting</th>\n",
              "      <td>75.000</td>\n",
              "      <td>25.000</td>\n",
              "      <td>50.000</td>\n",
              "      <td>75.000</td>\n",
              "      <td>0.000</td>\n",
              "      <td>50.000</td>\n",
              "      <td>75.000</td>\n",
              "    </tr>\n",
              "    <tr>\n",
              "      <th>Happy_Excited_Joy</th>\n",
              "      <td>84.615</td>\n",
              "      <td>82.692</td>\n",
              "      <td>53.846</td>\n",
              "      <td>74.038</td>\n",
              "      <td>83.654</td>\n",
              "      <td>60.577</td>\n",
              "      <td>82.692</td>\n",
              "    </tr>\n",
              "    <tr>\n",
              "      <th>Health</th>\n",
              "      <td>72.973</td>\n",
              "      <td>43.243</td>\n",
              "      <td>45.946</td>\n",
              "      <td>45.946</td>\n",
              "      <td>2.703</td>\n",
              "      <td>51.351</td>\n",
              "      <td>75.676</td>\n",
              "    </tr>\n",
              "    <tr>\n",
              "      <th>Hobby</th>\n",
              "      <td>42.857</td>\n",
              "      <td>14.286</td>\n",
              "      <td>14.286</td>\n",
              "      <td>14.286</td>\n",
              "      <td>0.000</td>\n",
              "      <td>57.143</td>\n",
              "      <td>42.857</td>\n",
              "    </tr>\n",
              "    <tr>\n",
              "      <th>HowAreYou</th>\n",
              "      <td>75.000</td>\n",
              "      <td>0.000</td>\n",
              "      <td>0.000</td>\n",
              "      <td>25.000</td>\n",
              "      <td>0.000</td>\n",
              "      <td>0.000</td>\n",
              "      <td>50.000</td>\n",
              "    </tr>\n",
              "    <tr>\n",
              "      <th>Info</th>\n",
              "      <td>61.765</td>\n",
              "      <td>50.000</td>\n",
              "      <td>45.588</td>\n",
              "      <td>54.412</td>\n",
              "      <td>45.588</td>\n",
              "      <td>52.941</td>\n",
              "      <td>63.235</td>\n",
              "    </tr>\n",
              "    <tr>\n",
              "      <th>Insult</th>\n",
              "      <td>71.429</td>\n",
              "      <td>57.143</td>\n",
              "      <td>57.143</td>\n",
              "      <td>14.286</td>\n",
              "      <td>0.000</td>\n",
              "      <td>57.143</td>\n",
              "      <td>71.429</td>\n",
              "    </tr>\n",
              "    <tr>\n",
              "      <th>Introduction</th>\n",
              "      <td>50.000</td>\n",
              "      <td>25.000</td>\n",
              "      <td>40.000</td>\n",
              "      <td>30.000</td>\n",
              "      <td>0.000</td>\n",
              "      <td>35.000</td>\n",
              "      <td>35.000</td>\n",
              "    </tr>\n",
              "    <tr>\n",
              "      <th>Jealous</th>\n",
              "      <td>100.000</td>\n",
              "      <td>0.000</td>\n",
              "      <td>100.000</td>\n",
              "      <td>100.000</td>\n",
              "      <td>0.000</td>\n",
              "      <td>100.000</td>\n",
              "      <td>100.000</td>\n",
              "    </tr>\n",
              "    <tr>\n",
              "      <th>Joke</th>\n",
              "      <td>100.000</td>\n",
              "      <td>50.000</td>\n",
              "      <td>50.000</td>\n",
              "      <td>50.000</td>\n",
              "      <td>0.000</td>\n",
              "      <td>100.000</td>\n",
              "      <td>100.000</td>\n",
              "    </tr>\n",
              "    <tr>\n",
              "      <th>Love</th>\n",
              "      <td>77.778</td>\n",
              "      <td>66.667</td>\n",
              "      <td>44.444</td>\n",
              "      <td>66.667</td>\n",
              "      <td>0.000</td>\n",
              "      <td>44.444</td>\n",
              "      <td>77.778</td>\n",
              "    </tr>\n",
              "    <tr>\n",
              "      <th>Meet/Talk</th>\n",
              "      <td>33.333</td>\n",
              "      <td>0.000</td>\n",
              "      <td>66.667</td>\n",
              "      <td>0.000</td>\n",
              "      <td>0.000</td>\n",
              "      <td>66.667</td>\n",
              "      <td>33.333</td>\n",
              "    </tr>\n",
              "    <tr>\n",
              "      <th>Origin</th>\n",
              "      <td>100.000</td>\n",
              "      <td>100.000</td>\n",
              "      <td>100.000</td>\n",
              "      <td>100.000</td>\n",
              "      <td>0.000</td>\n",
              "      <td>100.000</td>\n",
              "      <td>100.000</td>\n",
              "    </tr>\n",
              "    <tr>\n",
              "      <th>Sad</th>\n",
              "      <td>87.255</td>\n",
              "      <td>90.196</td>\n",
              "      <td>66.667</td>\n",
              "      <td>77.451</td>\n",
              "      <td>93.137</td>\n",
              "      <td>64.706</td>\n",
              "      <td>91.176</td>\n",
              "    </tr>\n",
              "    <tr>\n",
              "      <th>Sleep</th>\n",
              "      <td>100.000</td>\n",
              "      <td>0.000</td>\n",
              "      <td>0.000</td>\n",
              "      <td>0.000</td>\n",
              "      <td>0.000</td>\n",
              "      <td>0.000</td>\n",
              "      <td>100.000</td>\n",
              "    </tr>\n",
              "    <tr>\n",
              "      <th>Sorry</th>\n",
              "      <td>33.333</td>\n",
              "      <td>0.000</td>\n",
              "      <td>33.333</td>\n",
              "      <td>33.333</td>\n",
              "      <td>0.000</td>\n",
              "      <td>33.333</td>\n",
              "      <td>16.667</td>\n",
              "    </tr>\n",
              "    <tr>\n",
              "      <th>Surprise_Amazed</th>\n",
              "      <td>76.923</td>\n",
              "      <td>0.000</td>\n",
              "      <td>30.769</td>\n",
              "      <td>53.846</td>\n",
              "      <td>0.000</td>\n",
              "      <td>38.462</td>\n",
              "      <td>69.231</td>\n",
              "    </tr>\n",
              "    <tr>\n",
              "      <th>Thanks</th>\n",
              "      <td>75.000</td>\n",
              "      <td>50.000</td>\n",
              "      <td>75.000</td>\n",
              "      <td>75.000</td>\n",
              "      <td>0.000</td>\n",
              "      <td>75.000</td>\n",
              "      <td>50.000</td>\n",
              "    </tr>\n",
              "    <tr>\n",
              "      <th>Time</th>\n",
              "      <td>75.000</td>\n",
              "      <td>0.000</td>\n",
              "      <td>50.000</td>\n",
              "      <td>50.000</td>\n",
              "      <td>0.000</td>\n",
              "      <td>25.000</td>\n",
              "      <td>75.000</td>\n",
              "    </tr>\n",
              "  </tbody>\n",
              "</table>\n",
              "</div>"
            ],
            "text/plain": [
              "                   Support vector Machine  ...  Multi Layer Perceptron\n",
              "Age                                 0.000  ...                   0.000\n",
              "Angry_Frustrated                   52.000  ...                  52.000\n",
              "Busy                               60.000  ...                  60.000\n",
              "Compliment                         75.000  ...                  75.000\n",
              "Confirm                            59.615  ...                  55.769\n",
              "Eat_Food                           68.421  ...                  68.421\n",
              "Farewell                            0.000  ...                   0.000\n",
              "Good                               50.000  ...                  50.000\n",
              "Greeting                           75.000  ...                  75.000\n",
              "Happy_Excited_Joy                  84.615  ...                  82.692\n",
              "Health                             72.973  ...                  75.676\n",
              "Hobby                              42.857  ...                  42.857\n",
              "HowAreYou                          75.000  ...                  50.000\n",
              "Info                               61.765  ...                  63.235\n",
              "Insult                             71.429  ...                  71.429\n",
              "Introduction                       50.000  ...                  35.000\n",
              "Jealous                           100.000  ...                 100.000\n",
              "Joke                              100.000  ...                 100.000\n",
              "Love                               77.778  ...                  77.778\n",
              "Meet/Talk                          33.333  ...                  33.333\n",
              "Origin                            100.000  ...                 100.000\n",
              "Sad                                87.255  ...                  91.176\n",
              "Sleep                             100.000  ...                 100.000\n",
              "Sorry                              33.333  ...                  16.667\n",
              "Surprise_Amazed                    76.923  ...                  69.231\n",
              "Thanks                             75.000  ...                  50.000\n",
              "Time                               75.000  ...                  75.000\n",
              "\n",
              "[27 rows x 7 columns]"
            ]
          },
          "metadata": {},
          "execution_count": 81
        }
      ]
    },
    {
      "cell_type": "markdown",
      "metadata": {
        "id": "H9i-eqkpNb6-"
      },
      "source": [
        "## 5.3 Accuracy Visualization for all models"
      ]
    },
    {
      "cell_type": "code",
      "metadata": {
        "scrolled": false,
        "id": "JP1leD-jNb6-",
        "colab": {
          "base_uri": "https://localhost:8080/",
          "height": 350
        },
        "outputId": "b0a3b7ad-3627-4406-feb2-dfb2d5aea221"
      },
      "source": [
        "algorithms = ['Multi-Layer Perceptron','Decision Tree','Naive Bayes','XGBoost','Random Forest','Logistic Regression','SVM']\n",
        "algorithm_acc = [mlp_acc*100, dt_acc*100, mnb_acc*100, xgbc_acc*100, rfc_acc*100, lr_acc*100, svm_acc*100]\n",
        "# Figure Size\n",
        "fig = plt.figure(figsize =(10, 5))\n",
        "bar_list = plt.barh(algorithms, algorithm_acc,height = 0.6,color='black')\n",
        "bar_list[6].set_color('#7CAADE')\n",
        "bar_list[5].set_color('#D5B59C')\n",
        "bar_list[4].set_color('#E396B6')\n",
        "bar_list[3].set_color('#FFDF80')\n",
        "bar_list[2].set_color('#B096E3')\n",
        "bar_list[1].set_color('#FFB49C')\n",
        "bar_list[0].set_color('#B9E396')\n",
        "plt.xlabel('Accuracy',color='black')\n",
        "plt.ylabel('Models',color='black')\n",
        "plt.title('Accuracy for 7 Chatbot Models')\n",
        "plt.xlim(0,110)\n",
        "\n",
        "for i, v in enumerate(algorithm_acc):\n",
        "    plt.text(v + 0.5, i - 0.1, str(round(v,2))+'%', color='black',fontsize=10)\n",
        "plt.savefig(root_path+'/Models/Chatbot Accuracy_7 models.jpg')\n",
        "plt.show()"
      ],
      "execution_count": null,
      "outputs": [
        {
          "output_type": "display_data",
          "data": {
            "image/png": "[encoded data removed]",
            "text/plain": [
              "<Figure size 720x360 with 1 Axes>"
            ]
          },
          "metadata": {
            "needs_background": "light"
          }
        }
      ]
    },
    {
      "cell_type": "markdown",
      "metadata": {
        "id": "X16rgRd8v4y0"
      },
      "source": [
        "## Save all Models in Disk"
      ]
    },
    {
      "cell_type": "code",
      "metadata": {
        "id": "bdSbVYtFv7tg"
      },
      "source": [
        "with open(root_path+'/Models/Chatbot Models_7 models_final.pkl', 'wb') as f:\n",
        "    pickle.dump([svm, logisticRegr, rfc, xgbc, mnb, dt, mlp], f)"
      ],
      "execution_count": null,
      "outputs": []
    },
    {
      "cell_type": "markdown",
      "metadata": {
        "id": "YKVRDNCqwZBC"
      },
      "source": [
        "## Load all Model from Disk"
      ]
    },
    {
      "cell_type": "code",
      "metadata": {
        "id": "pq-vQE95wbQb",
        "colab": {
          "base_uri": "https://localhost:8080/"
        },
        "outputId": "7d44c4e9-9e75-40f5-e147-e84b22c22537"
      },
      "source": [
        "if os.path.isfile(root_path+'/Models/Chatbot Models_7 models_final.pkl'):\n",
        "    # Getting back the objects:\n",
        "    with open(root_path+'/Models/Chatbot Models_7 models_final.pkl','rb') as f:  # Python 3: open(..., 'rb')\n",
        "        svm, logisticRegr, rfc, xgbc, mnb, dt, mlp = pickle.load(f)\n",
        "        print('File Loaded Successfully')\n",
        "else:\n",
        "    print('File not Found')"
      ],
      "execution_count": null,
      "outputs": [
        {
          "output_type": "stream",
          "name": "stdout",
          "text": [
            "File Loaded Successfully\n"
          ]
        }
      ]
    },
    {
      "cell_type": "markdown",
      "metadata": {
        "id": "az9LaMvyNb6-"
      },
      "source": [
        "# 6. Prediction"
      ]
    },
    {
      "cell_type": "code",
      "metadata": {
        "id": "zfIv6M1a2rh1"
      },
      "source": [
        "import random\n",
        "def response_generate(text, intent_name):\n",
        "    reply = respond(text, intent_name)\n",
        "\n",
        "    return reply"
      ],
      "execution_count": null,
      "outputs": []
    },
    {
      "cell_type": "code",
      "metadata": {
        "id": "aGniKmU-Egg7"
      },
      "source": [
        "def cosine_distance_countvectorizer_method(s1, s2):\n",
        "    \n",
        "    # sentences to list\n",
        "    allsentences = [s1 , s2]\n",
        "    \n",
        "    from scipy.spatial import distance\n",
        "    \n",
        "    # text to vector\n",
        "    vectorizer = CountVectorizer()\n",
        "    all_sentences_to_vector = vectorizer.fit_transform(allsentences)\n",
        "\n",
        "    text_to_vector_v1 = all_sentences_to_vector.toarray()[0].tolist()\n",
        "    text_to_vector_v2 = all_sentences_to_vector.toarray()[1].tolist()\n",
        "    # distance of similarity\n",
        "    cosine = distance.cosine(text_to_vector_v1, text_to_vector_v2)\n",
        "    return round((1-cosine),2)"
      ],
      "execution_count": null,
      "outputs": []
    },
    {
      "cell_type": "code",
      "metadata": {
        "id": "lA6SzDnNEydX"
      },
      "source": [
        "\n",
        "def respond(text, intent_name):\n",
        "    maximum = float('-inf')\n",
        "    response = \"\"\n",
        "    closest = \"\"\n",
        "    replies = {}\n",
        "    list_sim, list_replies = [],[]\n",
        "    dataset = df[df['Intent']==intent_name]\n",
        "    for i in dataset.iterrows():\n",
        "        sim = cosine_distance_countvectorizer_method(text, i[1]['User'])\n",
        "        list_sim.append(sim)\n",
        "        list_replies.append(i[1]['Chatbot'])\n",
        "\n",
        "    for i in range(len(list_sim)):\n",
        "        if list_sim[i] in replies:\n",
        "            replies[list_sim[i]].append(list_replies[i])\n",
        "        else:\n",
        "            replies[list_sim[i]] = list()\n",
        "            replies[list_sim[i]].append(list_replies[i])\n",
        "    d1 = sorted(replies.items(), key = lambda pair:pair[0],reverse=True)\n",
        "    return d1[0][1][random.randint(0,len(d1[0][1])-1)]"
      ],
      "execution_count": null,
      "outputs": []
    },
    {
      "cell_type": "markdown",
      "metadata": {
        "id": "IekplKv1VLuN"
      },
      "source": [
        "### Implementing Ensemble Learning with weighted voting"
      ]
    },
    {
      "cell_type": "code",
      "metadata": {
        "id": "pEkhBmNBMAoH"
      },
      "source": [
        "accuracies = np.array([svm_acc, lr_acc, rfc_acc, xgbc_acc, mnb_acc, dt_acc, mlp_acc])\n",
        "norm_accuracy = accuracies - min(accuracies)\n",
        "model_weight = norm_accuracy / sum(norm_accuracy)  #SVM, Logistic Regression, RF, XGB, NB, DT, MLP\n",
        "Intents = df['Intent'].unique()\n",
        "def extract_best_intent(list_intent_pred):\n",
        "    intent_scores = {}\n",
        "    for intent in Intents:\n",
        "        intent_scores[intent] = 0.0   \n",
        "    for i in range(len(list_intent_pred)):\n",
        "        intent_scores[list_intent_pred[i]] += model_weight[i]\n",
        "    si = sorted(intent_scores.items(), key = lambda pair:pair[1],reverse=True)[:7]\n",
        "    return si[0][0],si"
      ],
      "execution_count": null,
      "outputs": []
    },
    {
      "cell_type": "markdown",
      "source": [
        "Weight of Models"
      ],
      "metadata": {
        "id": "tgpvU-9N3xhR"
      }
    },
    {
      "cell_type": "code",
      "metadata": {
        "colab": {
          "base_uri": "https://localhost:8080/"
        },
        "id": "YWTfahh-YjwS",
        "outputId": "3b7dcc7e-7e26-4941-f825-57499c12e68b"
      },
      "source": [
        "accuracies = np.array([svm_acc, lr_acc, rfc_acc, xgbc_acc, mnb_acc, dt_acc, mlp_acc])\n",
        "norm_accuracy = accuracies - min(accuracies)\n",
        "model_weight = norm_accuracy / sum(norm_accuracy)\n",
        "model_weight"
      ],
      "execution_count": null,
      "outputs": [
        {
          "output_type": "execute_result",
          "data": {
            "text/plain": [
              "array([0.29515419, 0.12995595, 0.04185022, 0.15969163, 0.        ,\n",
              "       0.07929515, 0.29405286])"
            ]
          },
          "metadata": {},
          "execution_count": 23
        }
      ]
    },
    {
      "cell_type": "code",
      "metadata": {
        "colab": {
          "base_uri": "https://localhost:8080/"
        },
        "id": "Ujqkc86PMTF3",
        "outputId": "9256822f-6eb4-462b-bece-04ebb2eb3247"
      },
      "source": [
        "while True:\n",
        "    input_str = input(\"What's in your mind: \")\n",
        "    if input_str == 'nothing':\n",
        "        break\n",
        "        \n",
        "    processed_text = tfidf_transformer_xtest.fit_transform(countVectorizer1.transform([input_str]))\n",
        "    print('Intent using SVM: ',end = '')\n",
        "    svm_intent = svm.predict(processed_text)[0]\n",
        "    lr_intent = logisticRegr.predict(processed_text)[0]\n",
        "    dt_intent = dt.predict(processed_text)[0]\n",
        "    mnb_intent = mnb.predict(processed_text)[0]\n",
        "    xgbc_intent = xgbc.predict(processed_text)[0]\n",
        "    rfc_intent = rfc.predict(processed_text)[0]\n",
        "    mlp_intent = mlp.predict(processed_text)[0]\n",
        "    print(svm_intent)\n",
        "    \n",
        "    print('Intent using Logistic Regression: ',end = '')\n",
        "    print(logisticRegr.predict(processed_text))\n",
        "    print('Intent using Decision Tree: ',end = '')\n",
        "    print(dt.predict(processed_text))\n",
        "    print('Intent using Naive Bayes: ',end = '')\n",
        "    print(mnb.predict(processed_text))\n",
        "    print('Intent using XGBoost: ',end = '')\n",
        "    print(xgbc.predict(processed_text))\n",
        "    print('Intent using Random Forest: ',end = '')\n",
        "    print(rfc.predict(processed_text))\n",
        "    print('Intent using Multi Layer Perceptron: ',end = '')\n",
        "    print(mlp.predict(processed_text))\n",
        "\n",
        "\n",
        "    # generating reply\n",
        "    list_intent = [svm_intent, lr_intent, rfc_intent, xgbc_intent, mnb_intent, dt_intent, mlp_intent]\n",
        "    best_intent, si = extract_best_intent(list_intent)\n",
        "    print(si)\n",
        "    print('Best Intent:',best_intent)\n",
        "    print('EDAIC: ',response_generate(input_str, best_intent))\n",
        "    print()"
      ],
      "execution_count": null,
      "outputs": [
        {
          "name": "stdout",
          "output_type": "stream",
          "text": [
            "Intent using SVM: Sad\n",
            "Intent using Logistic Regression: ['Health']\n",
            "Intent using Decision Tree: ['Busy']\n",
            "Intent using Naive Bayes: ['Sad']\n",
            "Intent using XGBoost: ['Busy']\n",
            "Intent using Random Forest: ['Health']\n",
            "Intent using Multi Layer Perceptron: ['Sad']\n",
            "[('Sad', 0.5892070484581498), ('Busy', 0.23898678414096913), ('Health', 0.17180616740088112), ('Greeting', 0.0), ('Introduction', 0.0), ('Info', 0.0), ('Confirm', 0.0)]\n",
            "Best Intent: Sad\n",
            "EDAIC:  Things will be better one day.\n",
            "\n",
            "Intent using SVM: Sad\n",
            "Intent using Logistic Regression: ['Health']\n",
            "Intent using Decision Tree: ['Busy']\n",
            "Intent using Naive Bayes: ['Sad']\n",
            "Intent using XGBoost: ['Busy']\n",
            "Intent using Random Forest: ['Health']\n",
            "Intent using Multi Layer Perceptron: ['Sad']\n",
            "[('Sad', 0.5892070484581498), ('Busy', 0.23898678414096913), ('Health', 0.17180616740088112), ('Greeting', 0.0), ('Introduction', 0.0), ('Info', 0.0), ('Confirm', 0.0)]\n",
            "Best Intent: Sad\n",
            "EDAIC:  Things will be better one day.\n",
            "\n",
            "Intent using SVM: Hobby\n",
            "Intent using Logistic Regression: ['Hobby']\n",
            "Intent using Decision Tree: ['Hobby']\n",
            "Intent using Naive Bayes: ['Sad']\n",
            "Intent using XGBoost: ['Surprise_Amazed']\n",
            "Intent using Random Forest: ['Hobby']\n",
            "Intent using Multi Layer Perceptron: ['Hobby']\n",
            "[('Hobby', 0.8403083700440529), ('Surprise_Amazed', 0.1596916299559471), ('Greeting', 0.0), ('Introduction', 0.0), ('Info', 0.0), ('Confirm', 0.0), ('Time', 0.0)]\n",
            "Best Intent: Hobby\n",
            "EDAIC:  Oh! That's amazing.\n",
            "\n",
            "What's in your mind: nothing\n"
          ]
        }
      ]
    }
  ]
}