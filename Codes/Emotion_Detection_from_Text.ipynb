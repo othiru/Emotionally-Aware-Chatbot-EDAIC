{
  "nbformat": 4,
  "nbformat_minor": 0,
  "metadata": {
    "colab": {
      "name": "Emotion Detection from Text.ipynb",
      "provenance": [],
      "collapsed_sections": []
    },
    "kernelspec": {
      "display_name": "Python 3",
      "language": "python",
      "name": "python3"
    },
    "language_info": {
      "codemirror_mode": {
        "name": "ipython",
        "version": 3
      },
      "file_extension": ".py",
      "mimetype": "text/x-python",
      "name": "python",
      "nbconvert_exporter": "python",
      "pygments_lexer": "ipython3",
      "version": "3.8.5"
    }
  },
  "cells": [
    {
      "cell_type": "markdown",
      "metadata": {
        "id": "8v_TMweECBqx"
      },
      "source": [
        "# Emotionally Aware Chatbot (EDAIC)\n",
        "Emotion is one of the basic instincts of a human being. Emotion detection plays a vital role in the field of textual analysis. At present, people’s expressions and emotional states have turned into the leading topic for research works. Emotion Detection and Recognition from texts are recent fields of research that are closely related to Emotion Analysis. Emotion Analysis aims at detecting and recognizing feelings through the expressions from sentences, such as *anger*, *surprise*, *joy*, *fear*, *sadness*, *love*, *neutral* etc.\n",
        "\n",
        "**Course No:** CSE4250\n",
        "\n",
        "**Course Name:** Project & Thesis II\n",
        "\n",
        "**Supervisor**\n",
        "\n",
        "\n",
        "*   Md Khairul Hasan\n",
        "\n",
        "\n",
        "\n",
        "**Team Members**\n",
        "\n",
        "*   160204107 - Nowshin Rumali\n",
        "*   170104061 - Amin Ahmed Toshib\n",
        "*   170104116 - Rejone-E-Rasul Hridoy\n",
        "*   170104118 - Mehedi Hasan Sami\n",
        "\n",
        "\n"
      ]
    },
    {
      "cell_type": "code",
      "metadata": {
        "id": "X04yDzxo5l6U",
        "colab": {
          "base_uri": "https://localhost:8080/"
        },
        "outputId": "a3c67558-1662-4c69-f226-5a54a1a63f33"
      },
      "source": [
        "# Basic Libraries\n",
        "import pandas as pd\n",
        "import numpy as np\n",
        "\n",
        "# Visualization libraries\n",
        "import seaborn as sns\n",
        "import matplotlib.pyplot as plt\n",
        "\n",
        "# Text Libraries\n",
        "import nltk \n",
        "import string\n",
        "import re\n",
        "\n",
        "# Feature Extraction Libraries\n",
        "from sklearn.feature_extraction.text import CountVectorizer\n",
        "from sklearn.feature_extraction.text import TfidfVectorizer\n",
        "from sklearn.feature_extraction.text import TfidfTransformer\n",
        "from sklearn.model_selection import train_test_split\n",
        "\n",
        "# Classifier Model libraries\n",
        "from sklearn.linear_model import SGDClassifier\n",
        "from sklearn.ensemble import RandomForestClassifier\n",
        "from xgboost import XGBClassifier\n",
        "import xgboost as xgb\n",
        "from sklearn.linear_model import LogisticRegression\n",
        "from sklearn.naive_bayes import MultinomialNB\n",
        "from sklearn import tree\n",
        "from sklearn.neural_network import MLPClassifier\n",
        "\n",
        "# Performance Matrix libraries\n",
        "from sklearn.metrics import accuracy_score\n",
        "from sklearn.metrics import precision_score\n",
        "from sklearn.metrics import recall_score\n",
        "from sklearn.metrics import confusion_matrix\n",
        "from sklearn.metrics import f1_score\n",
        "from sklearn.metrics import classification_report\n",
        "from sklearn.metrics import ConfusionMatrixDisplay\n",
        "\n",
        "# other\n",
        "import pickle\n",
        "import os\n",
        "import warnings\n",
        "warnings.filterwarnings(\"ignore\")\n",
        "\n",
        "# Drive Mount\n",
        "from google.colab import drive\n",
        "drive.mount('/content/drive')\n",
        "root_path = \"/content/drive/MyDrive/CSE/4.1/CSE4100 - Project & Thesis-I/Emotion Detection Chatbot Papers/4.2/\"\n",
        "resource_root_path = \"/content/drive/MyDrive/CSE/4.2/CSE4238 - Soft Computing Lab/Project - Emotion Detection from Twitter Text/\""
      ],
      "execution_count": null,
      "outputs": [
        {
          "output_type": "stream",
          "name": "stdout",
          "text": [
            "Mounted at /content/drive\n"
          ]
        }
      ]
    },
    {
      "cell_type": "markdown",
      "metadata": {
        "id": "9aCu2ZGa5l6o"
      },
      "source": [
        "# 1. Dataset"
      ]
    },
    {
      "cell_type": "code",
      "metadata": {
        "colab": {
          "base_uri": "https://localhost:8080/",
          "height": 424
        },
        "id": "5BlipRxL5l6z",
        "outputId": "14b87fd5-e741-4be7-d193-db2563ec5ca9"
      },
      "source": [
        "# df = pd.read_csv('/content/drive/MyDrive/CSE/4.2/CSE4214 - Pattern Recognition Lab/Project/text_emotions.csv')\n",
        "df = pd.read_csv(root_path+'text_emotions_neutral.csv')\n",
        "df"
      ],
      "execution_count": null,
      "outputs": [
        {
          "output_type": "execute_result",
          "data": {
            "text/html": [
              "<div>\n",
              "<style scoped>\n",
              "    .dataframe tbody tr th:only-of-type {\n",
              "        vertical-align: middle;\n",
              "    }\n",
              "\n",
              "    .dataframe tbody tr th {\n",
              "        vertical-align: top;\n",
              "    }\n",
              "\n",
              "    .dataframe thead th {\n",
              "        text-align: right;\n",
              "    }\n",
              "</style>\n",
              "<table border=\"1\" class=\"dataframe\">\n",
              "  <thead>\n",
              "    <tr style=\"text-align: right;\">\n",
              "      <th></th>\n",
              "      <th>content</th>\n",
              "      <th>sentiment</th>\n",
              "    </tr>\n",
              "  </thead>\n",
              "  <tbody>\n",
              "    <tr>\n",
              "      <th>0</th>\n",
              "      <td>i didnt feel humiliated</td>\n",
              "      <td>sadness</td>\n",
              "    </tr>\n",
              "    <tr>\n",
              "      <th>1</th>\n",
              "      <td>i can go from feeling so hopeless to so damned...</td>\n",
              "      <td>sadness</td>\n",
              "    </tr>\n",
              "    <tr>\n",
              "      <th>2</th>\n",
              "      <td>im grabbing a minute to post i feel greedy wrong</td>\n",
              "      <td>anger</td>\n",
              "    </tr>\n",
              "    <tr>\n",
              "      <th>3</th>\n",
              "      <td>i am ever feeling nostalgic about the fireplac...</td>\n",
              "      <td>love</td>\n",
              "    </tr>\n",
              "    <tr>\n",
              "      <th>4</th>\n",
              "      <td>i am feeling grouchy</td>\n",
              "      <td>anger</td>\n",
              "    </tr>\n",
              "    <tr>\n",
              "      <th>...</th>\n",
              "      <td>...</td>\n",
              "      <td>...</td>\n",
              "    </tr>\n",
              "    <tr>\n",
              "      <th>24995</th>\n",
              "      <td>Yeah.  Did you know that in Nevada there is a...</td>\n",
              "      <td>Neutral</td>\n",
              "    </tr>\n",
              "    <tr>\n",
              "      <th>24996</th>\n",
              "      <td>I wonder why, not many have had facial hair a...</td>\n",
              "      <td>Neutral</td>\n",
              "    </tr>\n",
              "    <tr>\n",
              "      <th>24997</th>\n",
              "      <td>That is sad, it is bad that we really wind up...</td>\n",
              "      <td>Neutral</td>\n",
              "    </tr>\n",
              "    <tr>\n",
              "      <th>24998</th>\n",
              "      <td>Same here.  Since 1900 the taller candidate h...</td>\n",
              "      <td>Neutral</td>\n",
              "    </tr>\n",
              "    <tr>\n",
              "      <th>24999</th>\n",
              "      <td>I do, I even read a book about their developm...</td>\n",
              "      <td>Neutral</td>\n",
              "    </tr>\n",
              "  </tbody>\n",
              "</table>\n",
              "<p>25000 rows × 2 columns</p>\n",
              "</div>"
            ],
            "text/plain": [
              "                                                 content sentiment\n",
              "0                                i didnt feel humiliated   sadness\n",
              "1      i can go from feeling so hopeless to so damned...   sadness\n",
              "2       im grabbing a minute to post i feel greedy wrong     anger\n",
              "3      i am ever feeling nostalgic about the fireplac...      love\n",
              "4                                   i am feeling grouchy     anger\n",
              "...                                                  ...       ...\n",
              "24995   Yeah.  Did you know that in Nevada there is a...   Neutral\n",
              "24996   I wonder why, not many have had facial hair a...   Neutral\n",
              "24997   That is sad, it is bad that we really wind up...   Neutral\n",
              "24998   Same here.  Since 1900 the taller candidate h...   Neutral\n",
              "24999   I do, I even read a book about their developm...   Neutral\n",
              "\n",
              "[25000 rows x 2 columns]"
            ]
          },
          "metadata": {},
          "execution_count": 2
        }
      ]
    },
    {
      "cell_type": "code",
      "metadata": {
        "colab": {
          "base_uri": "https://localhost:8080/"
        },
        "id": "hh5xHi7_5l6_",
        "outputId": "1cf47d03-47b2-4ec6-da2b-545b1de0178f"
      },
      "source": [
        "print('Dataset size:',df.shape)\n",
        "print('Columns are:',df.columns)\n",
        "Y = df['sentiment']"
      ],
      "execution_count": null,
      "outputs": [
        {
          "output_type": "stream",
          "name": "stdout",
          "text": [
            "Dataset size: (25000, 2)\n",
            "Columns are: Index(['content', 'sentiment'], dtype='object')\n"
          ]
        }
      ]
    },
    {
      "cell_type": "code",
      "metadata": {
        "colab": {
          "base_uri": "https://localhost:8080/"
        },
        "id": "WmQ1gtBn5l7D",
        "outputId": "d24b6510-5f94-4367-9c68-c3faac735e15"
      },
      "source": [
        "df.info()"
      ],
      "execution_count": null,
      "outputs": [
        {
          "output_type": "stream",
          "name": "stdout",
          "text": [
            "<class 'pandas.core.frame.DataFrame'>\n",
            "RangeIndex: 25000 entries, 0 to 24999\n",
            "Data columns (total 2 columns):\n",
            " #   Column     Non-Null Count  Dtype \n",
            "---  ------     --------------  ----- \n",
            " 0   content    25000 non-null  object\n",
            " 1   sentiment  25000 non-null  object\n",
            "dtypes: object(2)\n",
            "memory usage: 390.8+ KB\n"
          ]
        }
      ]
    },
    {
      "cell_type": "markdown",
      "metadata": {
        "id": "YQqvaFaz5l7G"
      },
      "source": [
        "## Dataset Emotion Analysis"
      ]
    },
    {
      "cell_type": "code",
      "metadata": {
        "colab": {
          "base_uri": "https://localhost:8080/",
          "height": 298
        },
        "id": "cdv0sKic5l7H",
        "outputId": "7f7e5674-4359-476a-c04e-e16f79052061"
      },
      "source": [
        "sns.countplot(x = 'sentiment', data = df)"
      ],
      "execution_count": null,
      "outputs": [
        {
          "output_type": "execute_result",
          "data": {
            "text/plain": [
              "<matplotlib.axes._subplots.AxesSubplot at 0x7f3cfee58090>"
            ]
          },
          "metadata": {},
          "execution_count": 5
        },
        {
          "output_type": "display_data",
          "data": {
            "image/png": "[encoded data removed]",
            "text/plain": [
              "<Figure size 432x288 with 1 Axes>"
            ]
          },
          "metadata": {
            "needs_background": "light"
          }
        }
      ]
    },
    {
      "cell_type": "markdown",
      "source": [
        "## Emotion Frequency "
      ],
      "metadata": {
        "id": "Cl1jBov_O7e_"
      }
    },
    {
      "cell_type": "code",
      "source": [
        "import collections\n",
        "counter=collections.Counter(df['sentiment'])\n",
        "counter"
      ],
      "metadata": {
        "colab": {
          "base_uri": "https://localhost:8080/"
        },
        "id": "LgUWbnPLOwmC",
        "outputId": "c8e09044-5c6d-4fbd-f0ec-6125000c68ca"
      },
      "execution_count": null,
      "outputs": [
        {
          "output_type": "execute_result",
          "data": {
            "text/plain": [
              "Counter({' Neutral': 5000,\n",
              "         'anger': 2709,\n",
              "         'fear': 2373,\n",
              "         'joy': 6760,\n",
              "         'love': 1641,\n",
              "         'sadness': 5798,\n",
              "         'surprise': 719})"
            ]
          },
          "metadata": {},
          "execution_count": 6
        }
      ]
    },
    {
      "cell_type": "code",
      "metadata": {
        "colab": {
          "base_uri": "https://localhost:8080/"
        },
        "id": "nvjT-NAVfgA6",
        "outputId": "d1e4ade1-4814-4be7-9881-5b23efa7633a"
      },
      "source": [
        "Emotions = df['sentiment'].unique()\n",
        "Emotions"
      ],
      "execution_count": null,
      "outputs": [
        {
          "output_type": "execute_result",
          "data": {
            "text/plain": [
              "array(['sadness', 'anger', 'love', 'surprise', 'fear', 'joy', ' Neutral'],\n",
              "      dtype=object)"
            ]
          },
          "metadata": {},
          "execution_count": 7
        }
      ]
    },
    {
      "cell_type": "markdown",
      "metadata": {
        "id": "aYwytKs_5l7J"
      },
      "source": [
        "# 2. Pre-processing text data\n",
        "1. Remove punctuations\n",
        "2. Tokenization - Converting a sentence into list of words\n",
        "3. Remove stopwords\n",
        "4. Lammetization/stemming - Tranforming any form of a word to its root word"
      ]
    },
    {
      "cell_type": "markdown",
      "metadata": {
        "id": "EXYLyYIv5l7N"
      },
      "source": [
        "## 2.1 Remove Punctuations"
      ]
    },
    {
      "cell_type": "code",
      "metadata": {
        "colab": {
          "base_uri": "https://localhost:8080/",
          "height": 363
        },
        "id": "UzK78OdJ5l7P",
        "outputId": "2aac51ec-4090-4386-abe4-c403a0679af6"
      },
      "source": [
        "emojis = pd.read_csv(resource_root_path+'emojis.txt',sep=',',header=None)\n",
        "emojis_dict = {i:j for i,j in zip(emojis[0],emojis[1])}\n",
        "pattern = '|'.join(sorted(re.escape(k) for k in emojis_dict))\n",
        "\n",
        "def replace_emojis(text):\n",
        "    text = re.sub(pattern,lambda m: emojis_dict.get(m.group(0)), text, flags=re.IGNORECASE)\n",
        "    return text\n",
        "\n",
        "def remove_punct(text):\n",
        "    text = replace_emojis(text)\n",
        "    text  = \"\".join([char for char in text if char not in string.punctuation])\n",
        "    text = re.sub('[0-9]+', '', text)\n",
        "    return text\n",
        "\n",
        "df['Tweet_punct'] = df['content'].apply(lambda x: remove_punct(x))\n",
        "df.head(10)"
      ],
      "execution_count": null,
      "outputs": [
        {
          "output_type": "execute_result",
          "data": {
            "text/html": [
              "<div>\n",
              "<style scoped>\n",
              "    .dataframe tbody tr th:only-of-type {\n",
              "        vertical-align: middle;\n",
              "    }\n",
              "\n",
              "    .dataframe tbody tr th {\n",
              "        vertical-align: top;\n",
              "    }\n",
              "\n",
              "    .dataframe thead th {\n",
              "        text-align: right;\n",
              "    }\n",
              "</style>\n",
              "<table border=\"1\" class=\"dataframe\">\n",
              "  <thead>\n",
              "    <tr style=\"text-align: right;\">\n",
              "      <th></th>\n",
              "      <th>content</th>\n",
              "      <th>sentiment</th>\n",
              "      <th>Tweet_punct</th>\n",
              "    </tr>\n",
              "  </thead>\n",
              "  <tbody>\n",
              "    <tr>\n",
              "      <th>0</th>\n",
              "      <td>i didnt feel humiliated</td>\n",
              "      <td>sadness</td>\n",
              "      <td>i didnt feel humiliated</td>\n",
              "    </tr>\n",
              "    <tr>\n",
              "      <th>1</th>\n",
              "      <td>i can go from feeling so hopeless to so damned...</td>\n",
              "      <td>sadness</td>\n",
              "      <td>i can go from feeling so hopeless to so damned...</td>\n",
              "    </tr>\n",
              "    <tr>\n",
              "      <th>2</th>\n",
              "      <td>im grabbing a minute to post i feel greedy wrong</td>\n",
              "      <td>anger</td>\n",
              "      <td>im grabbing a minute to post i feel greedy wrong</td>\n",
              "    </tr>\n",
              "    <tr>\n",
              "      <th>3</th>\n",
              "      <td>i am ever feeling nostalgic about the fireplac...</td>\n",
              "      <td>love</td>\n",
              "      <td>i am ever feeling nostalgic about the fireplac...</td>\n",
              "    </tr>\n",
              "    <tr>\n",
              "      <th>4</th>\n",
              "      <td>i am feeling grouchy</td>\n",
              "      <td>anger</td>\n",
              "      <td>i am feeling grouchy</td>\n",
              "    </tr>\n",
              "    <tr>\n",
              "      <th>5</th>\n",
              "      <td>ive been feeling a little burdened lately wasn...</td>\n",
              "      <td>sadness</td>\n",
              "      <td>ive been feeling a little burdened lately wasn...</td>\n",
              "    </tr>\n",
              "    <tr>\n",
              "      <th>6</th>\n",
              "      <td>ive been taking or milligrams or times recomme...</td>\n",
              "      <td>surprise</td>\n",
              "      <td>ive been taking or milligrams or times recomme...</td>\n",
              "    </tr>\n",
              "    <tr>\n",
              "      <th>7</th>\n",
              "      <td>i feel as confused about life as a teenager or...</td>\n",
              "      <td>fear</td>\n",
              "      <td>i feel as confused about life as a teenager or...</td>\n",
              "    </tr>\n",
              "    <tr>\n",
              "      <th>8</th>\n",
              "      <td>i have been with petronas for years i feel tha...</td>\n",
              "      <td>joy</td>\n",
              "      <td>i have been with petronas for years i feel tha...</td>\n",
              "    </tr>\n",
              "    <tr>\n",
              "      <th>9</th>\n",
              "      <td>i feel romantic too</td>\n",
              "      <td>love</td>\n",
              "      <td>i feel romantic too</td>\n",
              "    </tr>\n",
              "  </tbody>\n",
              "</table>\n",
              "</div>"
            ],
            "text/plain": [
              "                                             content  ...                                        Tweet_punct\n",
              "0                            i didnt feel humiliated  ...                            i didnt feel humiliated\n",
              "1  i can go from feeling so hopeless to so damned...  ...  i can go from feeling so hopeless to so damned...\n",
              "2   im grabbing a minute to post i feel greedy wrong  ...   im grabbing a minute to post i feel greedy wrong\n",
              "3  i am ever feeling nostalgic about the fireplac...  ...  i am ever feeling nostalgic about the fireplac...\n",
              "4                               i am feeling grouchy  ...                               i am feeling grouchy\n",
              "5  ive been feeling a little burdened lately wasn...  ...  ive been feeling a little burdened lately wasn...\n",
              "6  ive been taking or milligrams or times recomme...  ...  ive been taking or milligrams or times recomme...\n",
              "7  i feel as confused about life as a teenager or...  ...  i feel as confused about life as a teenager or...\n",
              "8  i have been with petronas for years i feel tha...  ...  i have been with petronas for years i feel tha...\n",
              "9                                i feel romantic too  ...                                i feel romantic too\n",
              "\n",
              "[10 rows x 3 columns]"
            ]
          },
          "metadata": {},
          "execution_count": 8
        }
      ]
    },
    {
      "cell_type": "markdown",
      "metadata": {
        "id": "b3_uwWYP5l7R"
      },
      "source": [
        "## 2.2 Tokenization"
      ]
    },
    {
      "cell_type": "code",
      "metadata": {
        "colab": {
          "base_uri": "https://localhost:8080/",
          "height": 363
        },
        "id": "x2F9F6-E5l7T",
        "outputId": "d87679e6-785a-465f-d31c-03f8aac9d340"
      },
      "source": [
        "def tokenization(text):\n",
        "    text = text.lower()\n",
        "    text = re.split('\\W+', text)\n",
        "    \n",
        "    return text\n",
        "\n",
        "df['Tweet_tokenized'] = df['Tweet_punct'].apply(lambda x: tokenization(x.lower()))\n",
        "df.head(10)"
      ],
      "execution_count": null,
      "outputs": [
        {
          "output_type": "execute_result",
          "data": {
            "text/html": [
              "<div>\n",
              "<style scoped>\n",
              "    .dataframe tbody tr th:only-of-type {\n",
              "        vertical-align: middle;\n",
              "    }\n",
              "\n",
              "    .dataframe tbody tr th {\n",
              "        vertical-align: top;\n",
              "    }\n",
              "\n",
              "    .dataframe thead th {\n",
              "        text-align: right;\n",
              "    }\n",
              "</style>\n",
              "<table border=\"1\" class=\"dataframe\">\n",
              "  <thead>\n",
              "    <tr style=\"text-align: right;\">\n",
              "      <th></th>\n",
              "      <th>content</th>\n",
              "      <th>sentiment</th>\n",
              "      <th>Tweet_punct</th>\n",
              "      <th>Tweet_tokenized</th>\n",
              "    </tr>\n",
              "  </thead>\n",
              "  <tbody>\n",
              "    <tr>\n",
              "      <th>0</th>\n",
              "      <td>i didnt feel humiliated</td>\n",
              "      <td>sadness</td>\n",
              "      <td>i didnt feel humiliated</td>\n",
              "      <td>[i, didnt, feel, humiliated]</td>\n",
              "    </tr>\n",
              "    <tr>\n",
              "      <th>1</th>\n",
              "      <td>i can go from feeling so hopeless to so damned...</td>\n",
              "      <td>sadness</td>\n",
              "      <td>i can go from feeling so hopeless to so damned...</td>\n",
              "      <td>[i, can, go, from, feeling, so, hopeless, to, ...</td>\n",
              "    </tr>\n",
              "    <tr>\n",
              "      <th>2</th>\n",
              "      <td>im grabbing a minute to post i feel greedy wrong</td>\n",
              "      <td>anger</td>\n",
              "      <td>im grabbing a minute to post i feel greedy wrong</td>\n",
              "      <td>[im, grabbing, a, minute, to, post, i, feel, g...</td>\n",
              "    </tr>\n",
              "    <tr>\n",
              "      <th>3</th>\n",
              "      <td>i am ever feeling nostalgic about the fireplac...</td>\n",
              "      <td>love</td>\n",
              "      <td>i am ever feeling nostalgic about the fireplac...</td>\n",
              "      <td>[i, am, ever, feeling, nostalgic, about, the, ...</td>\n",
              "    </tr>\n",
              "    <tr>\n",
              "      <th>4</th>\n",
              "      <td>i am feeling grouchy</td>\n",
              "      <td>anger</td>\n",
              "      <td>i am feeling grouchy</td>\n",
              "      <td>[i, am, feeling, grouchy]</td>\n",
              "    </tr>\n",
              "    <tr>\n",
              "      <th>5</th>\n",
              "      <td>ive been feeling a little burdened lately wasn...</td>\n",
              "      <td>sadness</td>\n",
              "      <td>ive been feeling a little burdened lately wasn...</td>\n",
              "      <td>[ive, been, feeling, a, little, burdened, late...</td>\n",
              "    </tr>\n",
              "    <tr>\n",
              "      <th>6</th>\n",
              "      <td>ive been taking or milligrams or times recomme...</td>\n",
              "      <td>surprise</td>\n",
              "      <td>ive been taking or milligrams or times recomme...</td>\n",
              "      <td>[ive, been, taking, or, milligrams, or, times,...</td>\n",
              "    </tr>\n",
              "    <tr>\n",
              "      <th>7</th>\n",
              "      <td>i feel as confused about life as a teenager or...</td>\n",
              "      <td>fear</td>\n",
              "      <td>i feel as confused about life as a teenager or...</td>\n",
              "      <td>[i, feel, as, confused, about, life, as, a, te...</td>\n",
              "    </tr>\n",
              "    <tr>\n",
              "      <th>8</th>\n",
              "      <td>i have been with petronas for years i feel tha...</td>\n",
              "      <td>joy</td>\n",
              "      <td>i have been with petronas for years i feel tha...</td>\n",
              "      <td>[i, have, been, with, petronas, for, years, i,...</td>\n",
              "    </tr>\n",
              "    <tr>\n",
              "      <th>9</th>\n",
              "      <td>i feel romantic too</td>\n",
              "      <td>love</td>\n",
              "      <td>i feel romantic too</td>\n",
              "      <td>[i, feel, romantic, too]</td>\n",
              "    </tr>\n",
              "  </tbody>\n",
              "</table>\n",
              "</div>"
            ],
            "text/plain": [
              "                                             content  ...                                    Tweet_tokenized\n",
              "0                            i didnt feel humiliated  ...                       [i, didnt, feel, humiliated]\n",
              "1  i can go from feeling so hopeless to so damned...  ...  [i, can, go, from, feeling, so, hopeless, to, ...\n",
              "2   im grabbing a minute to post i feel greedy wrong  ...  [im, grabbing, a, minute, to, post, i, feel, g...\n",
              "3  i am ever feeling nostalgic about the fireplac...  ...  [i, am, ever, feeling, nostalgic, about, the, ...\n",
              "4                               i am feeling grouchy  ...                          [i, am, feeling, grouchy]\n",
              "5  ive been feeling a little burdened lately wasn...  ...  [ive, been, feeling, a, little, burdened, late...\n",
              "6  ive been taking or milligrams or times recomme...  ...  [ive, been, taking, or, milligrams, or, times,...\n",
              "7  i feel as confused about life as a teenager or...  ...  [i, feel, as, confused, about, life, as, a, te...\n",
              "8  i have been with petronas for years i feel tha...  ...  [i, have, been, with, petronas, for, years, i,...\n",
              "9                                i feel romantic too  ...                           [i, feel, romantic, too]\n",
              "\n",
              "[10 rows x 4 columns]"
            ]
          },
          "metadata": {},
          "execution_count": 9
        }
      ]
    },
    {
      "cell_type": "markdown",
      "metadata": {
        "id": "GcpC-5mq5l7U"
      },
      "source": [
        "## 2.3 Remove Stopwords"
      ]
    },
    {
      "cell_type": "code",
      "metadata": {
        "colab": {
          "base_uri": "https://localhost:8080/"
        },
        "id": "5La56ZVF5l7V",
        "outputId": "0aee08bd-0430-4afe-e5bc-82c5f246f910"
      },
      "source": [
        "nltk.download('stopwords')\n",
        "stopword = nltk.corpus.stopwords.words('english')\n",
        "stopword.extend(['yr', 'year', 'woman', 'man', 'girl','boy','one', 'two', 'sixteen', 'yearold', 'fu', 'weeks', 'week',\n",
        "              'treatment', 'associated', 'patients', 'may','day', 'case','old','u','n','didnt','ive','ate','feel','keep'\n",
        "                ,'brother','dad','basic','im',''])"
      ],
      "execution_count": null,
      "outputs": [
        {
          "output_type": "stream",
          "name": "stdout",
          "text": [
            "[nltk_data] Downloading package stopwords to /root/nltk_data...\n",
            "[nltk_data]   Unzipping corpora/stopwords.zip.\n"
          ]
        }
      ]
    },
    {
      "cell_type": "code",
      "metadata": {
        "colab": {
          "base_uri": "https://localhost:8080/",
          "height": 363
        },
        "id": "r8g0uwqu5l7W",
        "outputId": "df104296-bdc3-4b38-d0c3-722311522fb9"
      },
      "source": [
        "def remove_stopwords(text):\n",
        "    text = [word for word in text if word not in stopword]\n",
        "    return text\n",
        "    \n",
        "df['Tweet_nonstop'] = df['Tweet_tokenized'].apply(lambda x: remove_stopwords(x))\n",
        "df.head(10)"
      ],
      "execution_count": null,
      "outputs": [
        {
          "output_type": "execute_result",
          "data": {
            "text/html": [
              "<div>\n",
              "<style scoped>\n",
              "    .dataframe tbody tr th:only-of-type {\n",
              "        vertical-align: middle;\n",
              "    }\n",
              "\n",
              "    .dataframe tbody tr th {\n",
              "        vertical-align: top;\n",
              "    }\n",
              "\n",
              "    .dataframe thead th {\n",
              "        text-align: right;\n",
              "    }\n",
              "</style>\n",
              "<table border=\"1\" class=\"dataframe\">\n",
              "  <thead>\n",
              "    <tr style=\"text-align: right;\">\n",
              "      <th></th>\n",
              "      <th>content</th>\n",
              "      <th>sentiment</th>\n",
              "      <th>Tweet_punct</th>\n",
              "      <th>Tweet_tokenized</th>\n",
              "      <th>Tweet_nonstop</th>\n",
              "    </tr>\n",
              "  </thead>\n",
              "  <tbody>\n",
              "    <tr>\n",
              "      <th>0</th>\n",
              "      <td>i didnt feel humiliated</td>\n",
              "      <td>sadness</td>\n",
              "      <td>i didnt feel humiliated</td>\n",
              "      <td>[i, didnt, feel, humiliated]</td>\n",
              "      <td>[humiliated]</td>\n",
              "    </tr>\n",
              "    <tr>\n",
              "      <th>1</th>\n",
              "      <td>i can go from feeling so hopeless to so damned...</td>\n",
              "      <td>sadness</td>\n",
              "      <td>i can go from feeling so hopeless to so damned...</td>\n",
              "      <td>[i, can, go, from, feeling, so, hopeless, to, ...</td>\n",
              "      <td>[go, feeling, hopeless, damned, hopeful, aroun...</td>\n",
              "    </tr>\n",
              "    <tr>\n",
              "      <th>2</th>\n",
              "      <td>im grabbing a minute to post i feel greedy wrong</td>\n",
              "      <td>anger</td>\n",
              "      <td>im grabbing a minute to post i feel greedy wrong</td>\n",
              "      <td>[im, grabbing, a, minute, to, post, i, feel, g...</td>\n",
              "      <td>[grabbing, minute, post, greedy, wrong]</td>\n",
              "    </tr>\n",
              "    <tr>\n",
              "      <th>3</th>\n",
              "      <td>i am ever feeling nostalgic about the fireplac...</td>\n",
              "      <td>love</td>\n",
              "      <td>i am ever feeling nostalgic about the fireplac...</td>\n",
              "      <td>[i, am, ever, feeling, nostalgic, about, the, ...</td>\n",
              "      <td>[ever, feeling, nostalgic, fireplace, know, st...</td>\n",
              "    </tr>\n",
              "    <tr>\n",
              "      <th>4</th>\n",
              "      <td>i am feeling grouchy</td>\n",
              "      <td>anger</td>\n",
              "      <td>i am feeling grouchy</td>\n",
              "      <td>[i, am, feeling, grouchy]</td>\n",
              "      <td>[feeling, grouchy]</td>\n",
              "    </tr>\n",
              "    <tr>\n",
              "      <th>5</th>\n",
              "      <td>ive been feeling a little burdened lately wasn...</td>\n",
              "      <td>sadness</td>\n",
              "      <td>ive been feeling a little burdened lately wasn...</td>\n",
              "      <td>[ive, been, feeling, a, little, burdened, late...</td>\n",
              "      <td>[feeling, little, burdened, lately, wasnt, sure]</td>\n",
              "    </tr>\n",
              "    <tr>\n",
              "      <th>6</th>\n",
              "      <td>ive been taking or milligrams or times recomme...</td>\n",
              "      <td>surprise</td>\n",
              "      <td>ive been taking or milligrams or times recomme...</td>\n",
              "      <td>[ive, been, taking, or, milligrams, or, times,...</td>\n",
              "      <td>[taking, milligrams, times, recommended, amoun...</td>\n",
              "    </tr>\n",
              "    <tr>\n",
              "      <th>7</th>\n",
              "      <td>i feel as confused about life as a teenager or...</td>\n",
              "      <td>fear</td>\n",
              "      <td>i feel as confused about life as a teenager or...</td>\n",
              "      <td>[i, feel, as, confused, about, life, as, a, te...</td>\n",
              "      <td>[confused, life, teenager, jaded]</td>\n",
              "    </tr>\n",
              "    <tr>\n",
              "      <th>8</th>\n",
              "      <td>i have been with petronas for years i feel tha...</td>\n",
              "      <td>joy</td>\n",
              "      <td>i have been with petronas for years i feel tha...</td>\n",
              "      <td>[i, have, been, with, petronas, for, years, i,...</td>\n",
              "      <td>[petronas, years, petronas, performed, well, m...</td>\n",
              "    </tr>\n",
              "    <tr>\n",
              "      <th>9</th>\n",
              "      <td>i feel romantic too</td>\n",
              "      <td>love</td>\n",
              "      <td>i feel romantic too</td>\n",
              "      <td>[i, feel, romantic, too]</td>\n",
              "      <td>[romantic]</td>\n",
              "    </tr>\n",
              "  </tbody>\n",
              "</table>\n",
              "</div>"
            ],
            "text/plain": [
              "                                             content  ...                                      Tweet_nonstop\n",
              "0                            i didnt feel humiliated  ...                                       [humiliated]\n",
              "1  i can go from feeling so hopeless to so damned...  ...  [go, feeling, hopeless, damned, hopeful, aroun...\n",
              "2   im grabbing a minute to post i feel greedy wrong  ...            [grabbing, minute, post, greedy, wrong]\n",
              "3  i am ever feeling nostalgic about the fireplac...  ...  [ever, feeling, nostalgic, fireplace, know, st...\n",
              "4                               i am feeling grouchy  ...                                 [feeling, grouchy]\n",
              "5  ive been feeling a little burdened lately wasn...  ...   [feeling, little, burdened, lately, wasnt, sure]\n",
              "6  ive been taking or milligrams or times recomme...  ...  [taking, milligrams, times, recommended, amoun...\n",
              "7  i feel as confused about life as a teenager or...  ...                  [confused, life, teenager, jaded]\n",
              "8  i have been with petronas for years i feel tha...  ...  [petronas, years, petronas, performed, well, m...\n",
              "9                                i feel romantic too  ...                                         [romantic]\n",
              "\n",
              "[10 rows x 5 columns]"
            ]
          },
          "metadata": {},
          "execution_count": 11
        }
      ]
    },
    {
      "cell_type": "markdown",
      "metadata": {
        "id": "20VcCTqg5l7Y"
      },
      "source": [
        "## 2.4 Lemmatization"
      ]
    },
    {
      "cell_type": "code",
      "metadata": {
        "colab": {
          "base_uri": "https://localhost:8080/",
          "height": 294
        },
        "id": "Q8-tcDef5l7n",
        "scrolled": true,
        "outputId": "615d55cb-c5c1-4bba-e22e-d2909a6a7212"
      },
      "source": [
        "nltk.download('wordnet')\n",
        "wn = nltk.WordNetLemmatizer()\n",
        "\n",
        "def lemmatizer(text):\n",
        "    text = [wn.lemmatize(word) for word in text]\n",
        "    return text\n",
        "\n",
        "df['Tweet_lemmatized'] = df['Tweet_nonstop'].apply(lambda x: lemmatizer(x))\n",
        "df.head()"
      ],
      "execution_count": null,
      "outputs": [
        {
          "output_type": "stream",
          "name": "stdout",
          "text": [
            "[nltk_data] Downloading package wordnet to /root/nltk_data...\n",
            "[nltk_data]   Unzipping corpora/wordnet.zip.\n"
          ]
        },
        {
          "output_type": "execute_result",
          "data": {
            "text/html": [
              "<div>\n",
              "<style scoped>\n",
              "    .dataframe tbody tr th:only-of-type {\n",
              "        vertical-align: middle;\n",
              "    }\n",
              "\n",
              "    .dataframe tbody tr th {\n",
              "        vertical-align: top;\n",
              "    }\n",
              "\n",
              "    .dataframe thead th {\n",
              "        text-align: right;\n",
              "    }\n",
              "</style>\n",
              "<table border=\"1\" class=\"dataframe\">\n",
              "  <thead>\n",
              "    <tr style=\"text-align: right;\">\n",
              "      <th></th>\n",
              "      <th>content</th>\n",
              "      <th>sentiment</th>\n",
              "      <th>Tweet_punct</th>\n",
              "      <th>Tweet_tokenized</th>\n",
              "      <th>Tweet_nonstop</th>\n",
              "      <th>Tweet_lemmatized</th>\n",
              "    </tr>\n",
              "  </thead>\n",
              "  <tbody>\n",
              "    <tr>\n",
              "      <th>0</th>\n",
              "      <td>i didnt feel humiliated</td>\n",
              "      <td>sadness</td>\n",
              "      <td>i didnt feel humiliated</td>\n",
              "      <td>[i, didnt, feel, humiliated]</td>\n",
              "      <td>[humiliated]</td>\n",
              "      <td>[humiliated]</td>\n",
              "    </tr>\n",
              "    <tr>\n",
              "      <th>1</th>\n",
              "      <td>i can go from feeling so hopeless to so damned...</td>\n",
              "      <td>sadness</td>\n",
              "      <td>i can go from feeling so hopeless to so damned...</td>\n",
              "      <td>[i, can, go, from, feeling, so, hopeless, to, ...</td>\n",
              "      <td>[go, feeling, hopeless, damned, hopeful, aroun...</td>\n",
              "      <td>[go, feeling, hopeless, damned, hopeful, aroun...</td>\n",
              "    </tr>\n",
              "    <tr>\n",
              "      <th>2</th>\n",
              "      <td>im grabbing a minute to post i feel greedy wrong</td>\n",
              "      <td>anger</td>\n",
              "      <td>im grabbing a minute to post i feel greedy wrong</td>\n",
              "      <td>[im, grabbing, a, minute, to, post, i, feel, g...</td>\n",
              "      <td>[grabbing, minute, post, greedy, wrong]</td>\n",
              "      <td>[grabbing, minute, post, greedy, wrong]</td>\n",
              "    </tr>\n",
              "    <tr>\n",
              "      <th>3</th>\n",
              "      <td>i am ever feeling nostalgic about the fireplac...</td>\n",
              "      <td>love</td>\n",
              "      <td>i am ever feeling nostalgic about the fireplac...</td>\n",
              "      <td>[i, am, ever, feeling, nostalgic, about, the, ...</td>\n",
              "      <td>[ever, feeling, nostalgic, fireplace, know, st...</td>\n",
              "      <td>[ever, feeling, nostalgic, fireplace, know, st...</td>\n",
              "    </tr>\n",
              "    <tr>\n",
              "      <th>4</th>\n",
              "      <td>i am feeling grouchy</td>\n",
              "      <td>anger</td>\n",
              "      <td>i am feeling grouchy</td>\n",
              "      <td>[i, am, feeling, grouchy]</td>\n",
              "      <td>[feeling, grouchy]</td>\n",
              "      <td>[feeling, grouchy]</td>\n",
              "    </tr>\n",
              "  </tbody>\n",
              "</table>\n",
              "</div>"
            ],
            "text/plain": [
              "                                             content  ...                                   Tweet_lemmatized\n",
              "0                            i didnt feel humiliated  ...                                       [humiliated]\n",
              "1  i can go from feeling so hopeless to so damned...  ...  [go, feeling, hopeless, damned, hopeful, aroun...\n",
              "2   im grabbing a minute to post i feel greedy wrong  ...            [grabbing, minute, post, greedy, wrong]\n",
              "3  i am ever feeling nostalgic about the fireplac...  ...  [ever, feeling, nostalgic, fireplace, know, st...\n",
              "4                               i am feeling grouchy  ...                                 [feeling, grouchy]\n",
              "\n",
              "[5 rows x 6 columns]"
            ]
          },
          "metadata": {},
          "execution_count": 12
        }
      ]
    },
    {
      "cell_type": "markdown",
      "metadata": {
        "id": "okwZeu9ONb6D"
      },
      "source": [
        "## Token Frequency in a sentence after preprocessing"
      ]
    },
    {
      "cell_type": "code",
      "metadata": {
        "scrolled": false,
        "id": "xklQv4UTNb6V",
        "colab": {
          "base_uri": "https://localhost:8080/",
          "height": 295
        },
        "outputId": "d21826c3-bd98-45a6-c179-d8db6d97463c"
      },
      "source": [
        "token_lengths = [len(t) for t in df['Tweet_lemmatized']]\n",
        "plt.hist(token_lengths,bins=33,width = 0.7, fc=\"green\",alpha=0.5)\n",
        "plt.xlabel('Number of Tokens')\n",
        "plt.ylabel('Number of Sentences')\n",
        "plt.title('Token Frequency')\n",
        "x_Values = [i for i in range(36)] \n",
        "plt.xticks(x_Values)\n",
        "plt.xlim(0,36)\n",
        "plt.rcParams[\"figure.figsize\"] = (10,5)\n",
        "plt.show()"
      ],
      "execution_count": null,
      "outputs": [
        {
          "output_type": "display_data",
          "data": {
            "image/png": "[encoded data removed]",
            "text/plain": [
              "<Figure size 432x288 with 1 Axes>"
            ]
          },
          "metadata": {
            "needs_background": "light"
          }
        }
      ]
    },
    {
      "cell_type": "markdown",
      "metadata": {
        "id": "VeT29o5_5l7v"
      },
      "source": [
        "## All in one (Text preprocessing)"
      ]
    },
    {
      "cell_type": "code",
      "metadata": {
        "id": "RC0gvthn5l79"
      },
      "source": [
        "def clean_text(text):\n",
        "    text = remove_punct(text)\n",
        "    text = tokenization(text)\n",
        "    text = remove_stopwords(text)\n",
        "    text = lemmatizer(text)\n",
        "    return text"
      ],
      "execution_count": null,
      "outputs": []
    },
    {
      "cell_type": "markdown",
      "metadata": {
        "id": "eostuOfY5l7_"
      },
      "source": [
        "# 3. Feature Extraction\n",
        "1. Count Vectorizer\n",
        "2. TF-IDF (Term Frequency and Inverse Document Frequency)"
      ]
    },
    {
      "cell_type": "markdown",
      "metadata": {
        "id": "GUojlVdz5l8B"
      },
      "source": [
        "## 3.1 Count Vectorizer\n",
        "**CountVectorizer** is a great tool provided by the *scikit-learn* library in Python. It is used to transform a given text into a vector on the basis of the frequency (count) of each word that occurs in the entire text. This is helpful when we have multiple such texts, and we wish to convert each word in each text into vectors (for using in further text analysis).\n",
        "    \n",
        "Let us consider a few sample texts from a document:\n",
        "    \n",
        "    document 1: Time flies flies like an arrow.\n",
        "    document 2: Fruit flies like a banana.\n",
        "\n",
        "    \n",
        "**CountVectorizer** creates a matrix in which each unique word is represented by a column of the matrix, and each text sample from the document is a row in the matrix. The value of each cell is nothing but the count of the word in that particular text sample. "
      ]
    },
    {
      "cell_type": "code",
      "metadata": {
        "colab": {
          "base_uri": "https://localhost:8080/",
          "height": 429
        },
        "id": "KWRkGZOB5l8C",
        "outputId": "cb41cac2-0b98-4a8a-8d49-f06ddf10257a"
      },
      "source": [
        "document = [\"Time flies flies like an arrow\",\n",
        "            \"Fruit flies like a banana\"]\n",
        "  \n",
        "# Create a Vectorizer Object\n",
        "vectorizer = CountVectorizer()\n",
        "  \n",
        "vectorizer.fit(document)\n",
        "  \n",
        "# Printing the identified Unique words along with their indices\n",
        "print(\"Vocabulary: \", vectorizer.vocabulary_)\n",
        "  \n",
        "# Encode the Document\n",
        "vector = vectorizer.transform(document)\n",
        "  \n",
        "# Summarizing the Encoded Texts\n",
        "print(\"Encoded Document is:\")\n",
        "print(vector.toarray())\n",
        "\n",
        "dictionary = sorted(vectorizer.vocabulary_)\n",
        "\n",
        "print(dictionary)\n",
        "\n",
        "sns.heatmap(vector.toarray(), annot=True, cbar=False, xticklabels=dictionary,\n",
        "                                             yticklabels=['Sentence 1','Sentence 2'])"
      ],
      "execution_count": null,
      "outputs": [
        {
          "output_type": "stream",
          "name": "stdout",
          "text": [
            "Vocabulary:  {'time': 6, 'flies': 3, 'like': 5, 'an': 0, 'arrow': 1, 'fruit': 4, 'banana': 2}\n",
            "Encoded Document is:\n",
            "[[1 1 0 2 0 1 1]\n",
            " [0 0 1 1 1 1 0]]\n",
            "['an', 'arrow', 'banana', 'flies', 'fruit', 'like', 'time']\n"
          ]
        },
        {
          "output_type": "execute_result",
          "data": {
            "text/plain": [
              "<matplotlib.axes._subplots.AxesSubplot at 0x7f3ce28c3550>"
            ]
          },
          "metadata": {},
          "execution_count": 15
        },
        {
          "output_type": "display_data",
          "data": {
            "image/png": "[encoded data removed]",
            "text/plain": [
              "<Figure size 720x360 with 1 Axes>"
            ]
          },
          "metadata": {
            "needs_background": "light"
          }
        }
      ]
    },
    {
      "cell_type": "markdown",
      "metadata": {
        "id": "QkadC25S5l8C"
      },
      "source": [
        "## 3.2 TF-IDF"
      ]
    },
    {
      "cell_type": "markdown",
      "metadata": {
        "id": "2l50NkRh5l8E"
      },
      "source": [
        "### 3.2.1 **Term Frequency (TF)**\n",
        "Term Frequent (**TF**) is a measure of how frequently a term, $t$, appears in a document, $d$:\n",
        "\n",
        "\n",
        "\n",
        "$$TF_{t,d} = \\frac{n_{t,d}}{\\text{Total number of terms in document}\\ d }$$\n",
        "\n",
        "\n",
        "\n",
        "$n_{t,d}$ = Number of times term $t$ appears in a document $d$. Thus, each document and term would have its own **TF** value.\n",
        "\n",
        "Consider these 3 documents:- \n",
        "\n",
        "- It was the best of the time.\n",
        "- it was the worst of Times.\n",
        "- it is the time of stupidity.\n",
        "\n",
        "The vocabulary or dictionary of the entire corpus would be:- \n",
        "\n",
        "1. it\n",
        "2. was\n",
        "3. the \n",
        "4. best\n",
        "5. of\n",
        "6. time\n",
        "7. worst\n",
        "8. is\n",
        "9. stupidity\n",
        "\n",
        "Now we will calculate the **TF** values for the **Document 3**. \n",
        "\n",
        "Document 3 :- **it is the time of stupidity.**\n",
        "\n",
        "- Number of words in Document 3 = **6**\n",
        "- TF for the word **‘the’** = (number of times **‘the’** appears in Document 3) / (number of terms in Document 3) = **1/6**\n",
        "\n",
        "Likewise:- \n",
        "\n",
        "- TF(**'it'**) = 1/6\n",
        "- TF(**'was'**) = 0/6 = 0\n",
        "- TF(**'the'**) = 1/6 \n",
        "- TF(**'best'**) = 0/6 = 0\n",
        "- TF(**'of'**) = 1/6 \n",
        "- TF(**'time'**) = 1/6\n",
        "- TF(**'worst'**) = 0/6 = 0\n",
        "- TF(**'is'**) = 1/6\n",
        "- TF(**'stupidity'**) = 1/6\n",
        "\n",
        "We can calculate all the term frequencies for all the terms of all the documents in this manner:-\n",
        "\n",
        "|    Term   | Document#1 | Document#2 | Document#3 | TF (Document#1) | TF (Document#2) | TF (Document#3) |\n",
        "|:---------:|:----------:|:----------:|:----------:|:---------------:|:---------------:|:---------------:|\n",
        "|     it    |      1     |      1     |      1     |       1/7       |       1/6       |       1/6       |\n",
        "|    was    |      1     |      1     |      0     |       1/7       |       1/6       |        0        |\n",
        "|    the    |      2     |      1     |      1     |       2/7       |       1/6       |       1/6       |\n",
        "|    best   |      1     |      0     |      0     |       1/7       |        0        |        0        |\n",
        "|     of    |      1     |      1     |      1     |       1/7       |       1/6       |       1/6       |\n",
        "|    time   |      1     |      1     |      1     |       1/7       |       1/6       |       1/6       |\n",
        "|   worst   |      0     |      1     |      0     |        0        |       1/6       |        0        |\n",
        "|    is     |      0     |      0     |      1     |        0        |        0        |       1/6       |\n",
        "| stupidity |      0     |      0     |      1     |        0        |        0        |       1/6       |\n",
        "\n",
        "\n",
        "\n",
        "\n"
      ]
    },
    {
      "cell_type": "markdown",
      "metadata": {
        "id": "ZmC1oh1y5l8G"
      },
      "source": [
        "\n",
        "### 3.2.2 **Inverse Document Frequency (IDF)**\n",
        "\n",
        "IDF is a measure of how important a term is. We need the IDF value because computing just the **TF alone is not sufficient** to understand the importance of words:\n",
        "\n",
        "\n",
        "\n",
        "$$IDF_{t} = log \\ (\\frac{\\text{Total Number of Documents}}{\\text{The Number of Documents with Term $t$}})$$\n",
        "\n",
        "\n",
        "\n",
        "A problem with scoring word frequency is that highly frequent words **(‘is’, ‘the’, ‘a’ etc)** start to dominate in the document (e.g. larger score), but may not contain as much **“useful information”** to the model comapre to the rarer but **domain specific words**.\n",
        "\n",
        "\n",
        "One approach is to rescale the frequency of words by **how often they appear in all documents**, so that the scores for frequent words like “the” that are also frequent **across all documents are penalized**.\n",
        "\n",
        "This approach to scoring is called Term Frequency – Inverse Document Frequency, or TF-IDF for short, where:\n",
        "\n",
        "- **Term Frequency:** is a scoring of the frequency of the word in the current document.\n",
        "- **Inverse Document Frequency:** is a scoring of how rare the word is across documents.\n",
        "\n",
        "**Thus the idf of a rare term is high, whereas the idf of a frequent term is likely to be low.**\n",
        "\n",
        "We can calculate the IDF values for **Document 3**:\n",
        "\n",
        "Document 3 :- **it is the time of stupidity.**\n",
        "\n",
        "IDF(**‘it’**) =  log(total number of documents/number of documents containing the word **‘it’**) = log(3/3) = log(1) = 0\n",
        "\n",
        "IDF(**‘stupidity’**) =  log(total number of documents/number of documents containing the word **‘stupidity’**) = log(3/1) = log(3) = 0.48\n",
        "\n",
        "We can calculate the IDF values for each word like this. Thus, the IDF values for the entire vocabulary would be:\n",
        "\n",
        "|    Term   | Document#1 | Document#2 | Document#3 |  IDF |\n",
        "|:---------:|:----------:|:----------:|:----------:|:----:|\n",
        "|     it    |      1     |      1     |      1     | 0.00 |\n",
        "|    was    |      1     |      1     |      0     | 0.18 |\n",
        "|    the    |      2     |      1     |      1     | 0.00 |\n",
        "|    best   |      1     |      0     |      0     | 0.48 |\n",
        "|     of    |      1     |      1     |      1     | 0.00 |\n",
        "|    time   |      1     |      1     |      1     | 0.00 |\n",
        "|   worst   |      0     |      1     |      0     | 0.48 |\n",
        "|    is     |      0     |      0     |      1     | 0.48 |\n",
        "| stupidity |      0     |      0     |      1     | 0.48 |\n",
        "\n",
        "\\\n",
        "\n",
        "We can now compute the TF-IDF score for each word in the corpus. Words with a higher score are more important, and those with a lower score are less important:\n",
        "\n",
        "$$(TF-IDF)_{t,d} = TF_{t,d} * IDF_{t}$$\n",
        "\n",
        "\n",
        "You can find the overall summary in the following figure.\n",
        "\n",
        "<div align=\"center\">\n",
        "<img src=\"https://drive.google.com/uc?id=1Xw5RlK_RxYtZEQtpFNaePXnJNyQmLcn1\" width=\"680\" height=\"230\">\n",
        "</div>\n",
        "\n",
        "\n",
        "\n",
        "We can now calculate the TF-IDF score for every word in **Document 3**:\n",
        "\n",
        "Document 3 :- **it is the time of stupidity.**\n",
        "\n",
        "TF-IDF(‘it’, Document 3) = TF(‘it’, Document 3) * IDF(‘it’) = 1/6 * 0 = 0\n",
        "\n",
        "Likewise:- \n",
        "\n",
        "- TF(**'it'**) = (1/6) * 0 = 0\n",
        "- TF(**'is'**) = (1/6) * 0.48 = 0.08\n",
        "- TF(**'the'**) = (1/6) * 0 = 0\n",
        "- TF(**'best'**) = (0/6) * 0.48 = 0\n",
        "- TF(**'time'**) = (1/6) * 0 = 0\n",
        "- TF(**'of'**) = (1/6) * 0 = 0\n",
        "- TF(**'stupidity'**) = (1/6) * 0.48 = 0.08\n",
        "\n",
        "Similarly, we can calculate the TF-IDF scores for all the words with respect to all the documents.\n",
        "\n",
        "- First, notice how if there is a very common\n",
        "word that occurs in all documents (i.e., n = N), IDF(w) is 0 and the TF­IDF score is 0, thereby\n",
        "completely penalizing that term. \n",
        "- Second, if a term occurs very rarely, perhaps in only one document,\n",
        "the IDF will be the maximum possible value, log N\n"
      ]
    },
    {
      "cell_type": "code",
      "metadata": {
        "colab": {
          "base_uri": "https://localhost:8080/",
          "height": 447
        },
        "id": "BCCUG0ok5l8I",
        "outputId": "b8e5e04e-4a92-4822-9e6f-f265ed712f90"
      },
      "source": [
        "from sklearn.feature_extraction.text import TfidfVectorizer\n",
        "\n",
        "document = ['Time flies flies like an arrow.',\n",
        "          'Fruit flies like a banana.']\n",
        "\n",
        "tfidf_vectorizer = TfidfVectorizer()\n",
        "tfidf = tfidf_vectorizer.fit_transform(document).toarray()\n",
        "\n",
        "print (tfidf)\n",
        "\n",
        "print (tfidf_vectorizer.vocabulary_)\n",
        "\n",
        "dictionary = sorted(tfidf_vectorizer.vocabulary_)\n",
        "\n",
        "print(dictionary)\n",
        "\n",
        "sns.heatmap(tfidf, annot=True, cbar=False, xticklabels=dictionary,\n",
        "                                           yticklabels=['Sentence 1','Sentence 2'])"
      ],
      "execution_count": null,
      "outputs": [
        {
          "output_type": "stream",
          "name": "stdout",
          "text": [
            "[[0.42519636 0.42519636 0.         0.60506143 0.         0.30253071\n",
            "  0.42519636]\n",
            " [0.         0.         0.57615236 0.40993715 0.57615236 0.40993715\n",
            "  0.        ]]\n",
            "{'time': 6, 'flies': 3, 'like': 5, 'an': 0, 'arrow': 1, 'fruit': 4, 'banana': 2}\n",
            "['an', 'arrow', 'banana', 'flies', 'fruit', 'like', 'time']\n"
          ]
        },
        {
          "output_type": "execute_result",
          "data": {
            "text/plain": [
              "<matplotlib.axes._subplots.AxesSubplot at 0x7f3ce27db250>"
            ]
          },
          "metadata": {},
          "execution_count": 16
        },
        {
          "output_type": "display_data",
          "data": {
            "image/png": "[encoded data removed]",
            "text/plain": [
              "<Figure size 720x360 with 1 Axes>"
            ]
          },
          "metadata": {
            "needs_background": "light"
          }
        }
      ]
    },
    {
      "cell_type": "markdown",
      "metadata": {
        "id": "h7HeIz1q5l8J"
      },
      "source": [
        "### Applying Feature Extraction in tweet dataset"
      ]
    },
    {
      "cell_type": "markdown",
      "metadata": {
        "id": "uTr59hyn5l8K"
      },
      "source": [
        "#### Train Test Split (70-30)"
      ]
    },
    {
      "cell_type": "code",
      "metadata": {
        "id": "3gPnp2OD5l8L"
      },
      "source": [
        "X_train, X_test, y_train, y_test = train_test_split(df['content'], df['sentiment'],test_size=0.3, random_state = 116)"
      ],
      "execution_count": null,
      "outputs": []
    },
    {
      "cell_type": "code",
      "metadata": {
        "id": "ufASzASS5l8L"
      },
      "source": [
        "countVectorizer1 = CountVectorizer(analyzer=clean_text)\n",
        "countVector1 = countVectorizer1.fit_transform(X_train)\n",
        "\n",
        "countVector2 = countVectorizer1.transform(X_test)\n",
        "\n",
        "tfidf_transformer_xtrain = TfidfTransformer()\n",
        "x_train = tfidf_transformer_xtrain.fit_transform(countVector1)\n",
        "\n",
        "tfidf_transformer_xtest = TfidfTransformer()\n",
        "x_test = tfidf_transformer_xtest.fit_transform(countVector2)"
      ],
      "execution_count": null,
      "outputs": []
    },
    {
      "cell_type": "markdown",
      "metadata": {
        "id": "63DzkBpe5l8L"
      },
      "source": [
        "# 4. Models\n",
        "1. Support Vector Machine (SVM)\n",
        "2. Logistic Regression\n",
        "3. Random Forest Classifier\n",
        "4. XGBoost Classifier\n",
        "5. Multinomial Naive Bayes\n",
        "6. Decision Tree Classifier\n",
        "7. Multilayer Perceptron\n",
        "\n"
      ]
    },
    {
      "cell_type": "markdown",
      "metadata": {
        "id": "_2b2q-PXNb6i"
      },
      "source": [
        "**Performance Matrix :**\n",
        "1.   **Accuracy** = $\\frac{\\text{TP+TN}}{\\text{TP+TN+FP+FN}}$\n",
        "2.   **Precision** = $\\frac{\\text{TP}}{\\text{TP+FP}}$ \n",
        "3.   **Recall** = $\\frac{\\text{TP}}{\\text{TP+FN}}$ \n",
        "4.   **F1-score** = $\\frac{\\text{2*Precision*Recall}}{\\text{Precision+Recall}}$ "
      ]
    },
    {
      "cell_type": "markdown",
      "metadata": {
        "id": "sdfTn5X35l8N"
      },
      "source": [
        "## 4.1 Support Vector Machine (SVM)"
      ]
    },
    {
      "cell_type": "code",
      "metadata": {
        "colab": {
          "base_uri": "https://localhost:8080/"
        },
        "id": "zfaBVxA65l8O",
        "outputId": "4d837686-7e9b-4bb2-cd71-ddf61b1a7aba"
      },
      "source": [
        "svm = SGDClassifier()\n",
        "svm.fit(x_train, y_train)\n",
        "\n",
        "y_pred = svm.predict(x_test)\n",
        "\n",
        "svm_acc = accuracy_score(y_pred, y_test)\n",
        "svm_prec = precision_score(y_test, y_pred, average='macro')\n",
        "svm_recal = recall_score(y_test, y_pred, average='macro')\n",
        "svm_cm = confusion_matrix(y_test,y_pred)\n",
        "svm_f1 = f1_score(y_test, y_pred, average='macro')\n",
        "\n",
        "print('Accuracy:', '{0:.3f}'.format(svm_acc*100))\n",
        "print('Precision:', '{0:.3f}'.format(svm_prec*100))\n",
        "print('Recall:', '{0:.3f}'.format(svm_recal*100))\n",
        "print('F1-score:', '{0:.3f}'.format(svm_f1*100))\n",
        "print(classification_report(y_test,y_pred))"
      ],
      "execution_count": null,
      "outputs": [
        {
          "output_type": "stream",
          "name": "stdout",
          "text": [
            "Accuracy: 88.467\n",
            "Precision: 86.953\n",
            "Recall: 83.696\n",
            "F1-score: 85.165\n",
            "              precision    recall  f1-score   support\n",
            "\n",
            "     Neutral       0.89      0.93      0.91      1482\n",
            "       anger       0.89      0.85      0.87       805\n",
            "        fear       0.86      0.82      0.84       709\n",
            "         joy       0.89      0.91      0.90      2092\n",
            "        love       0.82      0.75      0.79       481\n",
            "     sadness       0.90      0.92      0.91      1725\n",
            "    surprise       0.83      0.67      0.75       206\n",
            "\n",
            "    accuracy                           0.88      7500\n",
            "   macro avg       0.87      0.84      0.85      7500\n",
            "weighted avg       0.88      0.88      0.88      7500\n",
            "\n"
          ]
        }
      ]
    },
    {
      "cell_type": "markdown",
      "metadata": {
        "id": "KO9yJPbQNb6m"
      },
      "source": [
        "### 4.1.1 Confusion Matrix"
      ]
    },
    {
      "cell_type": "code",
      "metadata": {
        "scrolled": false,
        "id": "11T7BTC5Nb6n",
        "colab": {
          "base_uri": "https://localhost:8080/",
          "height": 490
        },
        "outputId": "e5da22a5-5e53-49b6-f746-187aeaab5bb3"
      },
      "source": [
        "cm_display_svm = ConfusionMatrixDisplay(svm_cm, display_labels=svm.classes_)\n",
        "fig, ax = plt.subplots(figsize=(8,8)) # adjust the size\n",
        "cm_display_svm.plot(ax=ax,cmap='Blues',values_format='')"
      ],
      "execution_count": null,
      "outputs": [
        {
          "output_type": "execute_result",
          "data": {
            "text/plain": [
              "<sklearn.metrics._plot.confusion_matrix.ConfusionMatrixDisplay at 0x7f59bb541e90>"
            ]
          },
          "metadata": {},
          "execution_count": 18
        },
        {
          "output_type": "display_data",
          "data": {
            "image/png": "[encoded data removed]",
            "text/plain": [
              "<Figure size 576x576 with 2 Axes>"
            ]
          },
          "metadata": {
            "needs_background": "light"
          }
        }
      ]
    },
    {
      "cell_type": "markdown",
      "metadata": {
        "id": "HhyX76VB5l8U"
      },
      "source": [
        "## 4.2 Logistic Regression"
      ]
    },
    {
      "cell_type": "code",
      "metadata": {
        "colab": {
          "base_uri": "https://localhost:8080/"
        },
        "id": "2T0Lh2kT5l8X",
        "outputId": "d6e6a78b-22af-4edc-eeea-b353ec86c307"
      },
      "source": [
        "logisticRegr = LogisticRegression()\n",
        "\n",
        "logisticRegr.fit(x_train, y_train)\n",
        "\n",
        "y_pred = logisticRegr.predict(x_test)\n",
        "\n",
        "lr_acc = accuracy_score(y_pred, y_test)\n",
        "lr_prec = precision_score(y_test, y_pred, average='macro')\n",
        "lr_recal = recall_score(y_test, y_pred, average='macro')\n",
        "lr_cm = confusion_matrix(y_test,y_pred)\n",
        "lr_f1 = f1_score(y_test, y_pred, average='macro')\n",
        "\n",
        "print('Accuracy:', '{0:.3f}'.format(lr_acc*100))\n",
        "print('Precision:', '{0:.3f}'.format(lr_prec*100))\n",
        "print('Recall:', '{0:.3f}'.format(lr_recal*100))\n",
        "print('F1-score:', '{0:.3f}'.format(lr_f1*100))\n",
        "print(classification_report(y_test,y_pred))"
      ],
      "execution_count": null,
      "outputs": [
        {
          "output_type": "stream",
          "name": "stdout",
          "text": [
            "Accuracy: 86.120\n",
            "Precision: 86.869\n",
            "Recall: 77.936\n",
            "F1-score: 81.328\n",
            "              precision    recall  f1-score   support\n",
            "\n",
            "     Neutral       0.87      0.92      0.89      1482\n",
            "       anger       0.89      0.79      0.84       805\n",
            "        fear       0.88      0.75      0.81       709\n",
            "         joy       0.83      0.92      0.87      2092\n",
            "        love       0.83      0.61      0.70       481\n",
            "     sadness       0.88      0.92      0.90      1725\n",
            "    surprise       0.90      0.53      0.67       206\n",
            "\n",
            "    accuracy                           0.86      7500\n",
            "   macro avg       0.87      0.78      0.81      7500\n",
            "weighted avg       0.86      0.86      0.86      7500\n",
            "\n"
          ]
        }
      ]
    },
    {
      "cell_type": "markdown",
      "metadata": {
        "id": "7PZtMD-8Nb6q"
      },
      "source": [
        "### 4.2.1 Confusion Matrix"
      ]
    },
    {
      "cell_type": "code",
      "metadata": {
        "id": "ZbDQDZqGNb6q",
        "colab": {
          "base_uri": "https://localhost:8080/",
          "height": 490
        },
        "outputId": "62bbfb58-a1e0-48a3-f479-6c57f27ecd42"
      },
      "source": [
        "cm_display_lr = ConfusionMatrixDisplay(lr_cm, display_labels=logisticRegr.classes_)\n",
        "fig, ax = plt.subplots(figsize=(8,8)) # adjust the size\n",
        "cm_display_lr.plot(ax=ax,cmap='PuRd',values_format='')"
      ],
      "execution_count": null,
      "outputs": [
        {
          "output_type": "execute_result",
          "data": {
            "text/plain": [
              "<sklearn.metrics._plot.confusion_matrix.ConfusionMatrixDisplay at 0x7f59bab7b590>"
            ]
          },
          "metadata": {},
          "execution_count": 20
        },
        {
          "output_type": "display_data",
          "data": {
            "image/png": "[encoded data removed]",
            "text/plain": [
              "<Figure size 576x576 with 2 Axes>"
            ]
          },
          "metadata": {
            "needs_background": "light"
          }
        }
      ]
    },
    {
      "cell_type": "markdown",
      "metadata": {
        "id": "xKUhP0005l8S"
      },
      "source": [
        "## 4.3 Random Forest Classifier\n",
        "\n",
        "random forest builds multiple decision trees and merges them together to get a more accurate and stable prediction.\n",
        "\n",
        "**Hyperparametes:**\n",
        "\n",
        "**Increasing the predictive power**\n",
        "\n",
        "Firstly, there is the **n_estimators** hyperparameter, which is just the number of trees the algorithm builds before taking the maximum voting or taking the averages of predictions. In general, a higher number of trees increases the performance and makes the predictions more stable, but it also slows down the computation.\n",
        "\n",
        "Another important hyperparameter is **max_features**, which is the maximum number of features random forest considers to split a node. Sklearn provides several options, all described in the documentation.\n",
        "\n",
        "The last important hyperparameter is **min_sample_leaf**. This determines the minimum number of leafs required to split an internal node.\n",
        "\n",
        "[click for more](https://builtin.com/data-science/random-forest-algorithm)"
      ]
    },
    {
      "cell_type": "code",
      "metadata": {
        "colab": {
          "base_uri": "https://localhost:8080/"
        },
        "id": "-jHcOeCEdubi",
        "outputId": "83658a4e-c685-412c-c764-32749c22bd46"
      },
      "source": [
        "rfc = RandomForestClassifier(n_estimators=1, random_state=0)\n",
        "\n",
        "rfc.fit(x_train, y_train)\n",
        "\n",
        "y_pred = rfc.predict(x_test)\n",
        "\n",
        "rfc_acc = accuracy_score(y_pred, y_test)\n",
        "rfc_prec = precision_score(y_test, y_pred, average='macro')\n",
        "rfc_recal = recall_score(y_test, y_pred, average='macro')\n",
        "rfc_cm = confusion_matrix(y_test,y_pred)\n",
        "rfc_f1 = f1_score(y_test, y_pred, average='macro')\n",
        "\n",
        "print('Accuracy:', '{0:.3f}'.format(rfc_acc*100))\n",
        "print('Precision:', '{0:.3f}'.format(rfc_prec*100))\n",
        "print('Recall:', '{0:.3f}'.format(rfc_recal*100))\n",
        "print('F1-score:', '{0:.3f}'.format(rfc_f1*100))\n",
        "print(classification_report(y_test,y_pred))"
      ],
      "execution_count": null,
      "outputs": [
        {
          "output_type": "stream",
          "name": "stdout",
          "text": [
            "Accuracy: 66.867\n",
            "Precision: 63.918\n",
            "Recall: 64.851\n",
            "F1-score: 64.243\n",
            "              precision    recall  f1-score   support\n",
            "\n",
            "     Neutral       0.64      0.72      0.68      1482\n",
            "       anger       0.60      0.65      0.63       805\n",
            "        fear       0.68      0.69      0.69       709\n",
            "         joy       0.74      0.63      0.68      2092\n",
            "        love       0.56      0.53      0.54       481\n",
            "     sadness       0.69      0.71      0.70      1725\n",
            "    surprise       0.56      0.60      0.58       206\n",
            "\n",
            "    accuracy                           0.67      7500\n",
            "   macro avg       0.64      0.65      0.64      7500\n",
            "weighted avg       0.67      0.67      0.67      7500\n",
            "\n"
          ]
        }
      ]
    },
    {
      "cell_type": "markdown",
      "metadata": {
        "id": "AmdLA-6ENb6u"
      },
      "source": [
        "### 4.3.1 Confusion Matrix"
      ]
    },
    {
      "cell_type": "code",
      "metadata": {
        "id": "Zz67XzYrNb6u",
        "colab": {
          "base_uri": "https://localhost:8080/",
          "height": 484
        },
        "outputId": "04fcb7c5-b2ff-4942-ce75-7a5f6ec04d2f"
      },
      "source": [
        "cm_display_rfc = ConfusionMatrixDisplay(rfc_cm, display_labels=rfc.classes_)\n",
        "fig, ax = plt.subplots(figsize=(8,8)) # adjust the size\n",
        "cm_display_rfc.plot(ax=ax,cmap='hot_r',values_format='')"
      ],
      "execution_count": null,
      "outputs": [
        {
          "output_type": "execute_result",
          "data": {
            "text/plain": [
              "<sklearn.metrics._plot.confusion_matrix.ConfusionMatrixDisplay at 0x7f59bab8ed50>"
            ]
          },
          "metadata": {},
          "execution_count": 22
        },
        {
          "output_type": "display_data",
          "data": {
            "image/png": "[encoded data removed]",
            "text/plain": [
              "<Figure size 576x576 with 2 Axes>"
            ]
          },
          "metadata": {
            "needs_background": "light"
          }
        }
      ]
    },
    {
      "cell_type": "markdown",
      "metadata": {
        "id": "U6CVr8YU5l8Q"
      },
      "source": [
        "## 4.4 XGBoost Classifier\n",
        "\n",
        "**XGBoost** is a decision-tree-based ensemble Machine Learning algorithm that uses a *gradient boosting framework*. In prediction problems involving unstructured data (images, text, etc.) artificial neural networks tend to outperform all other algorithms or frameworks. However, when it comes to small-to-medium structured/tabular data, decision tree based algorithms are considered best-in-class right now.\n",
        "\n",
        "\n",
        "**Why does XGBoost perform so well?**\n",
        "\n",
        "> XGBoost and Gradient Boosting Machines (GBMs) are both ensemble tree methods that apply the principle of boosting weak learners (CARTs generally) using the gradient descent architecture. However, XGBoost improves upon the base GBM framework through systems optimization and algorithmic enhancements.\n",
        "\n",
        "\n",
        "[Click for more details](https://towardsdatascience.com/https-medium-com-vishalmorde-xgboost-algorithm-long-she-may-rein-edd9f99be63d)"
      ]
    },
    {
      "cell_type": "code",
      "metadata": {
        "colab": {
          "base_uri": "https://localhost:8080/"
        },
        "id": "hSi6lY4s5l8R",
        "outputId": "62a9b5a0-0867-40ec-dfcf-46011e750fd7"
      },
      "source": [
        "xgbc = XGBClassifier(max_depth=16, n_estimators=1000,nthread = 6)\n",
        "xgbc.fit(x_train,y_train)\n",
        "y_pred = xgbc.predict(x_test)\n",
        "\n",
        "xgbc_acc = accuracy_score(y_pred, y_test)\n",
        "xgbc_prec = precision_score(y_test, y_pred, average='macro')\n",
        "xgbc_recal = recall_score(y_test, y_pred, average='macro')\n",
        "xgbc_cm = confusion_matrix(y_test,y_pred)\n",
        "xgbc_f1 = f1_score(y_test, y_pred, average='macro')\n",
        "\n",
        "print('Accuracy:', '{0:.3f}'.format(xgbc_acc*100))\n",
        "print('Precision:', '{0:.3f}'.format(xgbc_prec*100))\n",
        "print('Recall:', '{0:.3f}'.format(xgbc_recal*100))\n",
        "print('F1-score:', '{0:.3f}'.format(xgbc_f1*100))\n",
        "print(classification_report(y_test,y_pred))"
      ],
      "execution_count": null,
      "outputs": [
        {
          "output_type": "stream",
          "name": "stdout",
          "text": [
            "Accuracy: 88.840\n",
            "Precision: 85.440\n",
            "Recall: 85.376\n",
            "F1-score: 85.403\n",
            "              precision    recall  f1-score   support\n",
            "\n",
            "     Neutral       0.90      0.92      0.91      1482\n",
            "       anger       0.88      0.87      0.88       805\n",
            "        fear       0.86      0.83      0.85       709\n",
            "         joy       0.90      0.90      0.90      2092\n",
            "        love       0.78      0.80      0.79       481\n",
            "     sadness       0.93      0.92      0.93      1725\n",
            "    surprise       0.73      0.73      0.73       206\n",
            "\n",
            "    accuracy                           0.89      7500\n",
            "   macro avg       0.85      0.85      0.85      7500\n",
            "weighted avg       0.89      0.89      0.89      7500\n",
            "\n"
          ]
        }
      ]
    },
    {
      "cell_type": "markdown",
      "metadata": {
        "id": "qNkqGeLSNb6y"
      },
      "source": [
        "### 4.4.1 Confusion Matrix"
      ]
    },
    {
      "cell_type": "code",
      "metadata": {
        "id": "7bDEkjufNb6z",
        "colab": {
          "base_uri": "https://localhost:8080/",
          "height": 490
        },
        "outputId": "85ee8c7b-0419-48ed-cf48-d25621561aa2"
      },
      "source": [
        "cm_display_xgbc = ConfusionMatrixDisplay(xgbc_cm, display_labels=xgbc.classes_)\n",
        "_, ax = plt.subplots(figsize=(8,8)) # adjust the size\n",
        "cm_display_xgbc.plot(ax=ax,cmap='Purples',values_format='')"
      ],
      "execution_count": null,
      "outputs": [
        {
          "output_type": "execute_result",
          "data": {
            "text/plain": [
              "<sklearn.metrics._plot.confusion_matrix.ConfusionMatrixDisplay at 0x7f59baa81690>"
            ]
          },
          "metadata": {},
          "execution_count": 24
        },
        {
          "output_type": "display_data",
          "data": {
            "image/png": "[encoded data removed]",
            "text/plain": [
              "<Figure size 576x576 with 2 Axes>"
            ]
          },
          "metadata": {
            "needs_background": "light"
          }
        }
      ]
    },
    {
      "cell_type": "markdown",
      "metadata": {
        "id": "N1vJ2HuI5l8c"
      },
      "source": [
        "## 4.5 Multinomial Naive Bayes Classifier"
      ]
    },
    {
      "cell_type": "code",
      "metadata": {
        "colab": {
          "base_uri": "https://localhost:8080/"
        },
        "id": "70azzMd55l8e",
        "outputId": "795e93ae-a027-4dbe-ac86-94cc227ea1c6"
      },
      "source": [
        "mnb = MultinomialNB()\n",
        "mnb.fit(x_train, y_train)\n",
        "\n",
        "y_pred = mnb.predict(x_test)\n",
        "\n",
        "mnb_acc = accuracy_score(y_pred, y_test)\n",
        "mnb_prec = precision_score(y_test, y_pred, average='macro')\n",
        "mnb_recal = recall_score(y_test, y_pred, average='macro')\n",
        "mnb_cm = confusion_matrix(y_test,y_pred)\n",
        "mnb_f1 = f1_score(y_test, y_pred, average='macro')\n",
        "\n",
        "print('Accuracy:', '{0:.3f}'.format(mnb_acc*100))\n",
        "print('Precision:', '{0:.3f}'.format(mnb_prec*100))\n",
        "print('Recall:', '{0:.3f}'.format(mnb_recal*100))\n",
        "print('F1-score:', '{0:.3f}'.format(mnb_f1*100))\n",
        "print(classification_report(y_test,y_pred))"
      ],
      "execution_count": null,
      "outputs": [
        {
          "output_type": "stream",
          "name": "stdout",
          "text": [
            "Accuracy: 71.587\n",
            "Precision: 85.389\n",
            "Recall: 48.643\n",
            "F1-score: 48.970\n",
            "              precision    recall  f1-score   support\n",
            "\n",
            "     Neutral       0.87      0.89      0.88      1482\n",
            "       anger       0.90      0.32      0.47       805\n",
            "        fear       0.92      0.25      0.39       709\n",
            "         joy       0.64      0.96      0.76      2092\n",
            "        love       0.97      0.07      0.13       481\n",
            "     sadness       0.68      0.92      0.78      1725\n",
            "    surprise       1.00      0.00      0.01       206\n",
            "\n",
            "    accuracy                           0.72      7500\n",
            "   macro avg       0.85      0.49      0.49      7500\n",
            "weighted avg       0.78      0.72      0.66      7500\n",
            "\n"
          ]
        }
      ]
    },
    {
      "cell_type": "markdown",
      "metadata": {
        "id": "woG5FNY5Nb62"
      },
      "source": [
        "### 4.5.1 Confusion Matrix"
      ]
    },
    {
      "cell_type": "code",
      "metadata": {
        "id": "itzNeGR4Nb63",
        "colab": {
          "base_uri": "https://localhost:8080/",
          "height": 493
        },
        "outputId": "f525d3f1-20e4-41b7-dbb5-a71c080d3966"
      },
      "source": [
        "cm_display_mnb = ConfusionMatrixDisplay(mnb_cm, display_labels=mnb.classes_)\n",
        "fig, ax = plt.subplots(figsize=(8,8)) # adjust the size\n",
        "cm_display_mnb.plot(ax=ax,cmap='Reds',values_format='')"
      ],
      "execution_count": null,
      "outputs": [
        {
          "output_type": "execute_result",
          "data": {
            "text/plain": [
              "<sklearn.metrics._plot.confusion_matrix.ConfusionMatrixDisplay at 0x7f59baa360d0>"
            ]
          },
          "metadata": {},
          "execution_count": 26
        },
        {
          "output_type": "display_data",
          "data": {
            "image/png": "[encoded data removed]",
            "text/plain": [
              "<Figure size 576x576 with 2 Axes>"
            ]
          },
          "metadata": {
            "needs_background": "light"
          }
        }
      ]
    },
    {
      "cell_type": "markdown",
      "metadata": {
        "id": "b0Gsz3AJ5l8h"
      },
      "source": [
        "## 4.6 Decision Tree Classifier"
      ]
    },
    {
      "cell_type": "code",
      "metadata": {
        "colab": {
          "base_uri": "https://localhost:8080/"
        },
        "id": "rTslzT_h5l8h",
        "scrolled": true,
        "outputId": "f2aeb684-70e2-4e6f-fe6a-cc6bc23e953f"
      },
      "source": [
        "dt = tree.DecisionTreeClassifier()\n",
        "dt.fit(x_train, y_train)\n",
        "y_pred = dt.predict(x_test)\n",
        "\n",
        "\n",
        "dt_acc = accuracy_score(y_pred, y_test)\n",
        "dt_prec = precision_score(y_test, y_pred, average='macro')\n",
        "dt_recal = recall_score(y_test, y_pred, average='macro')\n",
        "dt_cm = confusion_matrix(y_test,y_pred)\n",
        "dt_f1 = f1_score(y_test, y_pred, average='macro')\n",
        "\n",
        "print('Accuracy:', '{0:.3f}'.format(dt_acc*100))\n",
        "print('Precision:', '{0:.3f}'.format(dt_prec*100))\n",
        "print('Recall:', '{0:.3f}'.format(dt_recal*100))\n",
        "print('F1-score:', '{0:.3f}'.format(dt_f1*100))\n",
        "print(classification_report(y_test,y_pred))"
      ],
      "execution_count": null,
      "outputs": [
        {
          "output_type": "stream",
          "name": "stdout",
          "text": [
            "Accuracy: 75.747\n",
            "Precision: 74.294\n",
            "Recall: 74.300\n",
            "F1-score: 74.222\n",
            "              precision    recall  f1-score   support\n",
            "\n",
            "     Neutral       0.67      0.76      0.71      1482\n",
            "       anger       0.80      0.77      0.79       805\n",
            "        fear       0.75      0.73      0.74       709\n",
            "         joy       0.78      0.73      0.75      2092\n",
            "        love       0.73      0.70      0.72       481\n",
            "     sadness       0.83      0.82      0.82      1725\n",
            "    surprise       0.65      0.69      0.67       206\n",
            "\n",
            "    accuracy                           0.76      7500\n",
            "   macro avg       0.74      0.74      0.74      7500\n",
            "weighted avg       0.76      0.76      0.76      7500\n",
            "\n"
          ]
        }
      ]
    },
    {
      "cell_type": "markdown",
      "metadata": {
        "id": "Kl1dMwmSNb65"
      },
      "source": [
        "### 4.6.1 Confusion Matrix"
      ]
    },
    {
      "cell_type": "code",
      "metadata": {
        "id": "mlLYEX5bNb65",
        "colab": {
          "base_uri": "https://localhost:8080/",
          "height": 490
        },
        "outputId": "2d8f16ed-f4e5-4024-9033-4b09340e4583"
      },
      "source": [
        "cm_display_dt = ConfusionMatrixDisplay(dt_cm, display_labels=dt.classes_)\n",
        "fig, ax = plt.subplots(figsize=(8,8)) # adjust the size\n",
        "cm_display_dt.plot(ax=ax,cmap='Greens',values_format='')"
      ],
      "execution_count": null,
      "outputs": [
        {
          "output_type": "execute_result",
          "data": {
            "text/plain": [
              "<sklearn.metrics._plot.confusion_matrix.ConfusionMatrixDisplay at 0x7f59ba72d7d0>"
            ]
          },
          "metadata": {},
          "execution_count": 28
        },
        {
          "output_type": "display_data",
          "data": {
            "image/png": "[encoded data removed]",
            "text/plain": [
              "<Figure size 576x576 with 2 Axes>"
            ]
          },
          "metadata": {
            "needs_background": "light"
          }
        }
      ]
    },
    {
      "cell_type": "markdown",
      "metadata": {
        "id": "LdYbwss1npj8"
      },
      "source": [
        "# 4.7 Multi Layer Perceptron (MLP)"
      ]
    },
    {
      "cell_type": "code",
      "metadata": {
        "colab": {
          "base_uri": "https://localhost:8080/"
        },
        "id": "0OmjU5Tuj9ED",
        "outputId": "11b1e807-edf7-41ef-8f5e-c09d950371c2"
      },
      "source": [
        "mlp = MLPClassifier(random_state=5, max_iter=300)\n",
        "\n",
        "mlp.fit(x_train, y_train)\n",
        "\n",
        "y_pred = mlp.predict(x_test)\n",
        "\n",
        "mlp_acc = accuracy_score(y_pred, y_test)\n",
        "mlp_prec = precision_score(y_test, y_pred, average='macro')\n",
        "mlp_recal = recall_score(y_test, y_pred, average='macro')\n",
        "mlp_cm = confusion_matrix(y_test,y_pred)\n",
        "mlp_f1 = f1_score(y_test, y_pred, average='macro')\n",
        "\n",
        "print('Accuracy:', '{0:.3f}'.format(mlp_acc*100))\n",
        "print('Precision:', '{0:.3f}'.format(mlp_prec*100))\n",
        "print('Recall:', '{0:.3f}'.format(mlp_recal*100))\n",
        "print('F1-score:', '{0:.3f}'.format(mlp_f1*100))\n",
        "print(classification_report(y_test,y_pred))"
      ],
      "execution_count": null,
      "outputs": [
        {
          "output_type": "stream",
          "name": "stdout",
          "text": [
            "Accuracy: 85.307\n",
            "Precision: 82.381\n",
            "Recall: 81.091\n",
            "F1-score: 81.682\n",
            "              precision    recall  f1-score   support\n",
            "\n",
            "     Neutral       0.86      0.91      0.88      1482\n",
            "       anger       0.85      0.82      0.83       805\n",
            "        fear       0.83      0.78      0.80       709\n",
            "         joy       0.88      0.85      0.86      2092\n",
            "        love       0.72      0.73      0.72       481\n",
            "     sadness       0.87      0.91      0.89      1725\n",
            "    surprise       0.75      0.68      0.72       206\n",
            "\n",
            "    accuracy                           0.85      7500\n",
            "   macro avg       0.82      0.81      0.82      7500\n",
            "weighted avg       0.85      0.85      0.85      7500\n",
            "\n"
          ]
        }
      ]
    },
    {
      "cell_type": "markdown",
      "metadata": {
        "id": "qMAO-5worGH1"
      },
      "source": [
        "### 4.7.1 Confusion Matrix"
      ]
    },
    {
      "cell_type": "code",
      "metadata": {
        "colab": {
          "base_uri": "https://localhost:8080/",
          "height": 490
        },
        "id": "6soH9rQFrDQW",
        "outputId": "7c28eafe-3672-4d48-a058-8f3a04e10e5e"
      },
      "source": [
        "cm_display_mlp = ConfusionMatrixDisplay(mlp_cm, display_labels=mlp.classes_)\n",
        "fig, ax = plt.subplots(figsize=(8,8)) # adjust the size\n",
        "cm_display_mlp.plot(ax=ax,cmap='bone_r',values_format='')"
      ],
      "execution_count": null,
      "outputs": [
        {
          "output_type": "execute_result",
          "data": {
            "text/plain": [
              "<sklearn.metrics._plot.confusion_matrix.ConfusionMatrixDisplay at 0x7f3cd9ba8250>"
            ]
          },
          "metadata": {},
          "execution_count": 21
        },
        {
          "output_type": "display_data",
          "data": {
            "image/png": "[encoded data removed]",
            "text/plain": [
              "<Figure size 576x576 with 2 Axes>"
            ]
          },
          "metadata": {
            "needs_background": "light"
          }
        }
      ]
    },
    {
      "cell_type": "markdown",
      "metadata": {
        "id": "T6tZvhLtNb65"
      },
      "source": [
        "# 5. Summary Visualization"
      ]
    },
    {
      "cell_type": "code",
      "metadata": {
        "id": "5DGTk167Nb66"
      },
      "source": [
        "def get_prec_recall_per_emotion(cm):\n",
        "    per_emotion_precision = []\n",
        "    for i in range(len(cm)):\n",
        "        count_per_emotion,accurate = 0,0\n",
        "        for j in range(len(cm)):\n",
        "            if i == j:\n",
        "                accurate = cm[j][i]\n",
        "            count_per_emotion += cm[j][i]\n",
        "        per_emotion_precision.append(round((accurate/count_per_emotion)*100,3))\n",
        "        \n",
        "    per_emotion_recall = []\n",
        "    for i in range(len(cm)):\n",
        "        count_per_emotion,accurate = 0,0\n",
        "        for j in range(len(cm)):\n",
        "            if i == j:\n",
        "                accurate = cm[i][j]\n",
        "            count_per_emotion += cm[i][j]\n",
        "        per_emotion_recall.append(round((accurate/count_per_emotion)*100,3))\n",
        "        \n",
        "    return per_emotion_precision, per_emotion_recall"
      ],
      "execution_count": null,
      "outputs": []
    },
    {
      "cell_type": "markdown",
      "metadata": {
        "id": "17nk5J1sNb67"
      },
      "source": [
        "## 5.1 - Precision of all models"
      ]
    },
    {
      "cell_type": "code",
      "metadata": {
        "scrolled": true,
        "id": "8cTKzU_zNb68",
        "colab": {
          "base_uri": "https://localhost:8080/",
          "height": 269
        },
        "outputId": "801b59f5-e7fe-4cb1-a9a9-5098e458510d"
      },
      "source": [
        "svm_per_prec,svm_per_recall = get_prec_recall_per_emotion(svm_cm)\n",
        "lr_per_prec,lr_per_recall = get_prec_recall_per_emotion(lr_cm)\n",
        "rfc_per_prec,rfc_per_recall = get_prec_recall_per_emotion(rfc_cm)\n",
        "xgbc_per_prec,xgbc_per_recall = get_prec_recall_per_emotion(xgbc_cm)\n",
        "mnb_per_prec,mnb_per_recall = get_prec_recall_per_emotion(mnb_cm)\n",
        "dt_per_prec,dt_per_recall = get_prec_recall_per_emotion(dt_cm)\n",
        "mlp_per_prec,mlp_per_recall = get_prec_recall_per_emotion(mlp_cm)\n",
        "\n",
        "per_precision_list = pd.DataFrame({'Support vector Machine' : svm_per_prec,\n",
        "                                'Logistic Regression' : lr_per_prec,\n",
        "                                'Random Forest' : rfc_per_prec,\n",
        "                                'XGBoost' : xgbc_per_prec,\n",
        "                                'Naive Bayes' : mnb_per_prec,\n",
        "                                'Decision Tree' : dt_per_prec,\n",
        "                                'Multi-Layer Perceptron': mlp_per_prec}, \n",
        "                                index=svm.classes_)\n",
        "per_precision_list"
      ],
      "execution_count": null,
      "outputs": [
        {
          "output_type": "execute_result",
          "data": {
            "text/html": [
              "<div>\n",
              "<style scoped>\n",
              "    .dataframe tbody tr th:only-of-type {\n",
              "        vertical-align: middle;\n",
              "    }\n",
              "\n",
              "    .dataframe tbody tr th {\n",
              "        vertical-align: top;\n",
              "    }\n",
              "\n",
              "    .dataframe thead th {\n",
              "        text-align: right;\n",
              "    }\n",
              "</style>\n",
              "<table border=\"1\" class=\"dataframe\">\n",
              "  <thead>\n",
              "    <tr style=\"text-align: right;\">\n",
              "      <th></th>\n",
              "      <th>Support vector Machine</th>\n",
              "      <th>Logistic Regression</th>\n",
              "      <th>Random Forest</th>\n",
              "      <th>XGBoost</th>\n",
              "      <th>Naive Bayes</th>\n",
              "      <th>Decision Tree</th>\n",
              "      <th>Multi-Layer Perceptron</th>\n",
              "    </tr>\n",
              "  </thead>\n",
              "  <tbody>\n",
              "    <tr>\n",
              "      <th>Neutral</th>\n",
              "      <td>89.481</td>\n",
              "      <td>86.574</td>\n",
              "      <td>63.924</td>\n",
              "      <td>90.359</td>\n",
              "      <td>87.060</td>\n",
              "      <td>67.041</td>\n",
              "      <td>86.311</td>\n",
              "    </tr>\n",
              "    <tr>\n",
              "      <th>anger</th>\n",
              "      <td>88.947</td>\n",
              "      <td>89.201</td>\n",
              "      <td>60.023</td>\n",
              "      <td>88.287</td>\n",
              "      <td>90.071</td>\n",
              "      <td>79.872</td>\n",
              "      <td>85.032</td>\n",
              "    </tr>\n",
              "    <tr>\n",
              "      <th>fear</th>\n",
              "      <td>86.115</td>\n",
              "      <td>87.849</td>\n",
              "      <td>68.106</td>\n",
              "      <td>85.797</td>\n",
              "      <td>91.753</td>\n",
              "      <td>74.855</td>\n",
              "      <td>83.133</td>\n",
              "    </tr>\n",
              "    <tr>\n",
              "      <th>joy</th>\n",
              "      <td>88.567</td>\n",
              "      <td>83.031</td>\n",
              "      <td>74.381</td>\n",
              "      <td>89.662</td>\n",
              "      <td>63.515</td>\n",
              "      <td>77.727</td>\n",
              "      <td>87.709</td>\n",
              "    </tr>\n",
              "    <tr>\n",
              "      <th>love</th>\n",
              "      <td>82.086</td>\n",
              "      <td>83.051</td>\n",
              "      <td>55.973</td>\n",
              "      <td>78.484</td>\n",
              "      <td>97.143</td>\n",
              "      <td>73.002</td>\n",
              "      <td>72.257</td>\n",
              "    </tr>\n",
              "    <tr>\n",
              "      <th>sadness</th>\n",
              "      <td>90.244</td>\n",
              "      <td>88.213</td>\n",
              "      <td>69.162</td>\n",
              "      <td>92.895</td>\n",
              "      <td>68.184</td>\n",
              "      <td>82.718</td>\n",
              "      <td>87.222</td>\n",
              "    </tr>\n",
              "    <tr>\n",
              "      <th>surprise</th>\n",
              "      <td>83.234</td>\n",
              "      <td>90.164</td>\n",
              "      <td>55.856</td>\n",
              "      <td>72.596</td>\n",
              "      <td>100.000</td>\n",
              "      <td>64.840</td>\n",
              "      <td>75.000</td>\n",
              "    </tr>\n",
              "  </tbody>\n",
              "</table>\n",
              "</div>"
            ],
            "text/plain": [
              "          Support vector Machine  ...  Multi-Layer Perceptron\n",
              " Neutral                  89.481  ...                  86.311\n",
              "anger                     88.947  ...                  85.032\n",
              "fear                      86.115  ...                  83.133\n",
              "joy                       88.567  ...                  87.709\n",
              "love                      82.086  ...                  72.257\n",
              "sadness                   90.244  ...                  87.222\n",
              "surprise                  83.234  ...                  75.000\n",
              "\n",
              "[7 rows x 7 columns]"
            ]
          },
          "metadata": {},
          "execution_count": 32
        }
      ]
    },
    {
      "cell_type": "markdown",
      "metadata": {
        "id": "Te9JhocCNb69"
      },
      "source": [
        "## 5.2 - Recall of all models"
      ]
    },
    {
      "cell_type": "code",
      "metadata": {
        "scrolled": true,
        "id": "WJptGh_vNb69",
        "colab": {
          "base_uri": "https://localhost:8080/",
          "height": 269
        },
        "outputId": "64f953ab-3309-400d-c5e6-ad43b6878fcd"
      },
      "source": [
        "per_recall_list = pd.DataFrame({'Support vector Machine' : svm_per_recall,\n",
        "                                'Logistic Regression' : lr_per_recall,\n",
        "                                'Random Forest' : rfc_per_recall,\n",
        "                                'XGBoost' : xgbc_per_recall,\n",
        "                                'Naive Bayes' : mnb_per_recall,\n",
        "                                'Decision Tree' : dt_per_recall,\n",
        "                                'Multi-Layer Perceptron': mlp_per_recall}, \n",
        "                                index=svm.classes_)\n",
        "per_recall_list"
      ],
      "execution_count": null,
      "outputs": [
        {
          "output_type": "execute_result",
          "data": {
            "text/html": [
              "<div>\n",
              "<style scoped>\n",
              "    .dataframe tbody tr th:only-of-type {\n",
              "        vertical-align: middle;\n",
              "    }\n",
              "\n",
              "    .dataframe tbody tr th {\n",
              "        vertical-align: top;\n",
              "    }\n",
              "\n",
              "    .dataframe thead th {\n",
              "        text-align: right;\n",
              "    }\n",
              "</style>\n",
              "<table border=\"1\" class=\"dataframe\">\n",
              "  <thead>\n",
              "    <tr style=\"text-align: right;\">\n",
              "      <th></th>\n",
              "      <th>Support vector Machine</th>\n",
              "      <th>Logistic Regression</th>\n",
              "      <th>Random Forest</th>\n",
              "      <th>XGBoost</th>\n",
              "      <th>Naive Bayes</th>\n",
              "      <th>Decision Tree</th>\n",
              "      <th>Multi-Layer Perceptron</th>\n",
              "    </tr>\n",
              "  </thead>\n",
              "  <tbody>\n",
              "    <tr>\n",
              "      <th>Neutral</th>\n",
              "      <td>92.982</td>\n",
              "      <td>92.240</td>\n",
              "      <td>72.335</td>\n",
              "      <td>91.700</td>\n",
              "      <td>88.529</td>\n",
              "      <td>76.451</td>\n",
              "      <td>90.621</td>\n",
              "    </tr>\n",
              "    <tr>\n",
              "      <th>anger</th>\n",
              "      <td>84.969</td>\n",
              "      <td>79.006</td>\n",
              "      <td>65.466</td>\n",
              "      <td>87.081</td>\n",
              "      <td>31.553</td>\n",
              "      <td>77.391</td>\n",
              "      <td>81.863</td>\n",
              "    </tr>\n",
              "    <tr>\n",
              "      <th>fear</th>\n",
              "      <td>82.228</td>\n",
              "      <td>75.458</td>\n",
              "      <td>68.970</td>\n",
              "      <td>83.498</td>\n",
              "      <td>25.106</td>\n",
              "      <td>72.638</td>\n",
              "      <td>77.856</td>\n",
              "    </tr>\n",
              "    <tr>\n",
              "      <th>joy</th>\n",
              "      <td>90.727</td>\n",
              "      <td>91.922</td>\n",
              "      <td>63.145</td>\n",
              "      <td>89.962</td>\n",
              "      <td>95.698</td>\n",
              "      <td>72.562</td>\n",
              "      <td>85.277</td>\n",
              "    </tr>\n",
              "    <tr>\n",
              "      <th>love</th>\n",
              "      <td>75.260</td>\n",
              "      <td>61.123</td>\n",
              "      <td>52.599</td>\n",
              "      <td>79.626</td>\n",
              "      <td>7.069</td>\n",
              "      <td>70.270</td>\n",
              "      <td>72.557</td>\n",
              "    </tr>\n",
              "    <tr>\n",
              "      <th>sadness</th>\n",
              "      <td>92.232</td>\n",
              "      <td>92.406</td>\n",
              "      <td>71.246</td>\n",
              "      <td>92.464</td>\n",
              "      <td>92.058</td>\n",
              "      <td>81.855</td>\n",
              "      <td>91.014</td>\n",
              "    </tr>\n",
              "    <tr>\n",
              "      <th>surprise</th>\n",
              "      <td>67.476</td>\n",
              "      <td>53.398</td>\n",
              "      <td>60.194</td>\n",
              "      <td>73.301</td>\n",
              "      <td>0.485</td>\n",
              "      <td>68.932</td>\n",
              "      <td>68.447</td>\n",
              "    </tr>\n",
              "  </tbody>\n",
              "</table>\n",
              "</div>"
            ],
            "text/plain": [
              "          Support vector Machine  ...  Multi-Layer Perceptron\n",
              " Neutral                  92.982  ...                  90.621\n",
              "anger                     84.969  ...                  81.863\n",
              "fear                      82.228  ...                  77.856\n",
              "joy                       90.727  ...                  85.277\n",
              "love                      75.260  ...                  72.557\n",
              "sadness                   92.232  ...                  91.014\n",
              "surprise                  67.476  ...                  68.447\n",
              "\n",
              "[7 rows x 7 columns]"
            ]
          },
          "metadata": {},
          "execution_count": 33
        }
      ]
    },
    {
      "cell_type": "markdown",
      "metadata": {
        "id": "H9i-eqkpNb6-"
      },
      "source": [
        "## 5.3 Accuracy Visualization for all models"
      ]
    },
    {
      "cell_type": "code",
      "metadata": {
        "scrolled": false,
        "id": "JP1leD-jNb6-",
        "colab": {
          "base_uri": "https://localhost:8080/",
          "height": 350
        },
        "outputId": "f26a75b5-0b49-4ca1-f4d3-41a8a858988f"
      },
      "source": [
        "# algorithms = ['SVM','Logistic Regression','Random Forest','XGBoost','Naive Bayes','Decision Tree','Multi-Layer Perceptron']\n",
        "# algorithm_acc = [svm_acc*100, lr_acc*100, rfc_acc*100, xgbc_acc*100, mnb_acc*100, dt_acc*100, mlp_acc*100]\n",
        "\n",
        "algorithms = ['Multi-Layer Perceptron','Decision Tree','Naive Bayes','XGBoost','Random Forest','Logistic Regression','SVM']\n",
        "algorithm_acc = [mlp_acc*100, dt_acc*100, mnb_acc*100, xgbc_acc*100, rfc_acc*100, lr_acc*100, svm_acc*100]\n",
        "# Figure Size\n",
        "fig = plt.figure(figsize =(10, 5))\n",
        "bar_list = plt.barh(algorithms, algorithm_acc,height = 0.6,color='black')\n",
        "bar_list[6].set_color('#7CAADE')\n",
        "bar_list[5].set_color('#D5B59C')\n",
        "bar_list[4].set_color('#E396B6')\n",
        "bar_list[3].set_color('#FFDF80')\n",
        "bar_list[2].set_color('#B096E3')\n",
        "bar_list[1].set_color('#FFB49C')\n",
        "bar_list[0].set_color('#B9E396')\n",
        "plt.xlabel('Accuracy',color='black')\n",
        "plt.ylabel('Models',color='black')\n",
        "plt.title('Accuracy for 7 Emotion Detection Models')\n",
        "plt.xlim(0,110)\n",
        "\n",
        "for i, v in enumerate(algorithm_acc):\n",
        "    plt.text(v + 0.5, i - 0.1, str(round(v,2))+'%', color='black',fontsize=10)\n",
        "    \n",
        "plt.show()"
      ],
      "execution_count": null,
      "outputs": [
        {
          "output_type": "display_data",
          "data": {
            "image/png": "[encoded data removed]",
            "text/plain": [
              "<Figure size 720x360 with 1 Axes>"
            ]
          },
          "metadata": {
            "needs_background": "light"
          }
        }
      ]
    },
    {
      "cell_type": "markdown",
      "metadata": {
        "id": "yarD0Pyiskf0"
      },
      "source": [
        "## Save all Models in Disk"
      ]
    },
    {
      "cell_type": "code",
      "metadata": {
        "id": "mVmQWYeksi0a"
      },
      "source": [
        "with open(root_path+'/Models/Emotion Detection Models_7 models.pkl', 'wb') as f:  # Python 3: open(..., 'wb')\n",
        "    pickle.dump([svm, logisticRegr, rfc, xgbc, mnb, dt, mlp], f)"
      ],
      "execution_count": null,
      "outputs": []
    },
    {
      "cell_type": "markdown",
      "metadata": {
        "id": "--na0NDGuwHv"
      },
      "source": [
        "## Load All Models From Disk"
      ]
    },
    {
      "cell_type": "code",
      "metadata": {
        "colab": {
          "base_uri": "https://localhost:8080/"
        },
        "id": "_o6bV4Olu1y3",
        "outputId": "c2d8932d-f70f-4ada-fc45-f03ff78f7ffd"
      },
      "source": [
        "if os.path.isfile(root_path+'/Models/Emotion Detection Models_7 models.pkl'):\n",
        "    # Getting back the objects:\n",
        "    with open(root_path+'/Models/Emotion Detection Models.pkl','rb') as f:  # Python 3: open(..., 'rb')\n",
        "        svm, logisticRegr, rfc, xgbc, mnb, dt, mlp = pickle.load(f)\n",
        "        print('File Loaded Successfully')\n",
        "else:\n",
        "    print('File not Found')"
      ],
      "execution_count": null,
      "outputs": [
        {
          "output_type": "stream",
          "name": "stdout",
          "text": [
            "File Loaded Successfully\n"
          ]
        }
      ]
    },
    {
      "cell_type": "markdown",
      "metadata": {
        "id": "az9LaMvyNb6-"
      },
      "source": [
        "# 6. Prediction"
      ]
    },
    {
      "cell_type": "code",
      "metadata": {
        "id": "taL4sOUjblim"
      },
      "source": [
        "emotion_model_weight = [0.3, 0.2 , 0.03, 0.3, 0.07, 0.1]    #SVM, Logistic Regression, RF, XGB, NB, DT\n",
        "def extract_best_emotion(list_emotion_pred):\n",
        "    emotion_scores = {}\n",
        "    for emotions in Emotions:\n",
        "        emotion_scores[emotions] = 0.0   \n",
        "    for i in range(len(list_emotion_pred)):\n",
        "        emotion_scores[list_emotion_pred[i]] += emotion_model_weight[i]\n",
        "    se = sorted(emotion_scores.items(), key = lambda pair:pair[1],reverse=True)\n",
        "    return se[0][0], round(se[0][1],2)"
      ],
      "execution_count": null,
      "outputs": []
    },
    {
      "cell_type": "code",
      "metadata": {
        "id": "yC5ORtQGNb6_",
        "colab": {
          "base_uri": "https://localhost:8080/"
        },
        "outputId": "0938c274-4325-4c3e-f68f-9554c1ab8d19"
      },
      "source": [
        "while True:\n",
        "    input_str = input(\"What's in your mind: \")\n",
        "    if input_str == 'nothing':\n",
        "        break\n",
        "        \n",
        "    processed_text = tfidf_transformer_xtest.fit_transform(countVectorizer1.transform([input_str]))\n",
        "\n",
        "    svm_emotion = svm.predict(processed_text)[0]\n",
        "    lr_emotion = logisticRegr.predict(processed_text)[0]\n",
        "    dt_emotion = dt.predict(processed_text)[0]\n",
        "    mnb_emotion = mnb.predict(processed_text)[0]\n",
        "    xgbc_emotion = xgbc.predict(processed_text)[0]\n",
        "    rfc_emotion = rfc.predict(processed_text)[0]\n",
        "\n",
        "    list_emotion_pred = [svm_emotion, lr_emotion, rfc_emotion, xgbc_emotion, mnb_emotion, dt_emotion]\n",
        "    best_emotion, prob = extract_best_emotion(list_emotion_pred)\n",
        "    print('Best Emotion:',best_emotion,':',prob)\n",
        "\n",
        "    print('Emotion using SVM: ',end = '')\n",
        "    print(svm.predict(processed_text))\n",
        "    print('Emotion using Logistic Regression: ',end = '')\n",
        "    print(logisticRegr.predict(processed_text))\n",
        "    print('Emotion using Decision Tree: ',end = '')\n",
        "    print(dt.predict(processed_text))\n",
        "    print('Emotion using Naive Bayes: ',end = '')\n",
        "    print(mnb.predict(processed_text))\n",
        "    print('Emotion using XGBoost: ',end = '')\n",
        "    print(xgbc.predict(processed_text))\n",
        "    print('Emotion using Random Forest: ',end = '')\n",
        "    print(rfc.predict(processed_text))\n",
        "    print()"
      ],
      "execution_count": null,
      "outputs": [
        {
          "name": "stdout",
          "output_type": "stream",
          "text": [
            "What's in your mind: hello\n",
            "Best Emotion:  Neutral : 1.0\n",
            "Emotion using SVM: [' Neutral']\n",
            "Emotion using Logistic Regression: [' Neutral']\n",
            "Emotion using Decision Tree: [' Neutral']\n",
            "Emotion using Naive Bayes: [' Neutral']\n",
            "Emotion using XGBoost: [' Neutral']\n",
            "Emotion using Random Forest: [' Neutral']\n",
            "\n",
            "What's in your mind: how are you?\n",
            "Best Emotion:  Neutral : 0.73\n",
            "Emotion using SVM: [' Neutral']\n",
            "Emotion using Logistic Regression: ['joy']\n",
            "Emotion using Decision Tree: [' Neutral']\n",
            "Emotion using Naive Bayes: ['joy']\n",
            "Emotion using XGBoost: [' Neutral']\n",
            "Emotion using Random Forest: [' Neutral']\n",
            "\n",
            "What's in your mind: here you are\n",
            "Best Emotion:  Neutral : 0.73\n",
            "Emotion using SVM: [' Neutral']\n",
            "Emotion using Logistic Regression: ['joy']\n",
            "Emotion using Decision Tree: [' Neutral']\n",
            "Emotion using Naive Bayes: ['joy']\n",
            "Emotion using XGBoost: [' Neutral']\n",
            "Emotion using Random Forest: [' Neutral']\n",
            "\n",
            "What's in your mind: successfully worked\n",
            "Best Emotion: joy : 0.57\n",
            "Emotion using SVM: ['joy']\n",
            "Emotion using Logistic Regression: ['joy']\n",
            "Emotion using Decision Tree: [' Neutral']\n",
            "Emotion using Naive Bayes: ['joy']\n",
            "Emotion using XGBoost: [' Neutral']\n",
            "Emotion using Random Forest: [' Neutral']\n",
            "\n",
            "What's in your mind: nothing\n"
          ]
        }
      ]
    },
    {
      "cell_type": "markdown",
      "metadata": {
        "id": "36bfU8FmhW2y"
      },
      "source": [
        "## Predicting emotion of chatbot Dataset"
      ]
    },
    {
      "cell_type": "code",
      "metadata": {
        "colab": {
          "base_uri": "https://localhost:8080/"
        },
        "id": "RfYsdiV4hNXK",
        "outputId": "a8d76327-d6cc-4060-9ea2-920eb152dc97"
      },
      "source": [
        "df_chatbot = pd.read_csv(root_path+'Chatbot Dataset.csv',encoding='ISO-8859-1')\n",
        "df_chatbot = df_chatbot.dropna(axis=0)\n",
        "user_chat = df_chatbot['User'].tolist()\n",
        "chatbot_reply = df_chatbot['Chatbot'].tolist()\n",
        "chatbot_intent = df_chatbot['Intent'].tolist()\n",
        "len(user_chat)"
      ],
      "execution_count": null,
      "outputs": [
        {
          "output_type": "execute_result",
          "data": {
            "text/plain": [
              "596"
            ]
          },
          "metadata": {},
          "execution_count": 46
        }
      ]
    },
    {
      "cell_type": "code",
      "metadata": {
        "id": "vNxpJfkyiQ0F"
      },
      "source": [
        "import csv\n",
        "def save_data_csv(all_data_rows):\n",
        "    count = 0\n",
        "    with open(root_path+'Chatbot Dataset with Emotion.csv', 'w', newline='') as file:\n",
        "        writer = csv.writer(file)\n",
        "        for row_data in all_data_rows:\n",
        "            writer.writerow(row_data)\n",
        "            count+=1\n",
        "    return count-1"
      ],
      "execution_count": null,
      "outputs": []
    },
    {
      "cell_type": "code",
      "metadata": {
        "colab": {
          "base_uri": "https://localhost:8080/"
        },
        "id": "kl0Z7qKKiseT",
        "outputId": "ee848dce-74e5-4638-8275-2e8e21c5ba57"
      },
      "source": [
        "all_data_rows = []\n",
        "all_data_rows.append(['User','Chatbot','Intent','Emotion','Probability'])\n",
        "\n",
        "for i in range(len(user_chat)):\n",
        "    input_str = user_chat[i]\n",
        "    reply = chatbot_reply[i]\n",
        "    intent = chatbot_intent[i]\n",
        "    processed_text = tfidf_transformer_xtest.fit_transform(countVectorizer1.transform([input_str]))\n",
        "\n",
        "    svm_emotion = svm.predict(processed_text)[0]\n",
        "    lr_emotion = logisticRegr.predict(processed_text)[0]\n",
        "    dt_emotion = dt.predict(processed_text)[0]\n",
        "    mnb_emotion = mnb.predict(processed_text)[0]\n",
        "    xgbc_emotion = xgbc.predict(processed_text)[0]\n",
        "    rfc_emotion = rfc.predict(processed_text)[0]\n",
        "\n",
        "    list_emotion_pred = [svm_emotion, lr_emotion, rfc_emotion, xgbc_emotion, mnb_emotion, dt_emotion]\n",
        "    best_emotion, prob = extract_best_emotion(list_emotion_pred)\n",
        "\n",
        "    row = [input_str, reply, intent, best_emotion, prob]\n",
        "    all_data_rows.append(row)\n",
        "\n",
        "print(save_data_csv(all_data_rows),'data saved into file')"
      ],
      "execution_count": null,
      "outputs": [
        {
          "output_type": "stream",
          "name": "stdout",
          "text": [
            "596 data saved into file\n"
          ]
        }
      ]
    }
  ]
}